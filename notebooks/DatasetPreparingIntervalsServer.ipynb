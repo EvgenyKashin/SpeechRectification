{
 "cells": [
  {
   "cell_type": "code",
   "execution_count": null,
   "metadata": {},
   "outputs": [],
   "source": [
    "import pandas as pd\n",
    "import glob\n",
    "import os\n",
    "import librosa\n",
    "import numpy as np\n",
    "import scripts\n",
    "import matplotlib.pyplot as plt\n",
    "%matplotlib inline"
   ]
  },
  {
   "cell_type": "markdown",
   "metadata": {},
   "source": [
    "# Loading data"
   ]
  },
  {
   "cell_type": "markdown",
   "metadata": {},
   "source": [
    "## Annotations"
   ]
  },
  {
   "cell_type": "code",
   "execution_count": null,
   "metadata": {},
   "outputs": [],
   "source": [
    "elan_annotation_paths = scripts.find_annotation_paths('.txt')\n",
    "praat_annotation_paths = scripts.find_annotation_paths('.TextGrid')"
   ]
  },
  {
   "cell_type": "code",
   "execution_count": null,
   "metadata": {},
   "outputs": [],
   "source": [
    "elan_annotation_paths"
   ]
  },
  {
   "cell_type": "code",
   "execution_count": null,
   "metadata": {},
   "outputs": [],
   "source": [
    "praat_annotation_paths"
   ]
  },
  {
   "cell_type": "code",
   "execution_count": null,
   "metadata": {},
   "outputs": [],
   "source": [
    "elan_annotations = scripts.get_elan_annotations(elan_annotation_paths)"
   ]
  },
  {
   "cell_type": "code",
   "execution_count": null,
   "metadata": {},
   "outputs": [],
   "source": [
    "elan_annotations[-1].head()"
   ]
  },
  {
   "cell_type": "code",
   "execution_count": null,
   "metadata": {},
   "outputs": [],
   "source": [
    "praat_annotations = scripts.get_praat_annotations(praat_annotation_paths)"
   ]
  },
  {
   "cell_type": "code",
   "execution_count": null,
   "metadata": {},
   "outputs": [],
   "source": [
    "praat_annotations[-1].head()"
   ]
  },
  {
   "cell_type": "code",
   "execution_count": null,
   "metadata": {},
   "outputs": [],
   "source": [
    "praat_annotations[1].head()"
   ]
  },
  {
   "cell_type": "code",
   "execution_count": null,
   "metadata": {},
   "outputs": [],
   "source": [
    "annotations = elan_annotations.copy()\n",
    "annotations.extend(praat_annotations)"
   ]
  },
  {
   "cell_type": "code",
   "execution_count": null,
   "metadata": {},
   "outputs": [],
   "source": [
    "annotations_paths = elan_annotation_paths.copy()\n",
    "annotations_paths.extend(praat_annotation_paths)"
   ]
  },
  {
   "cell_type": "markdown",
   "metadata": {},
   "source": [
    "## Audio"
   ]
  },
  {
   "cell_type": "code",
   "execution_count": null,
   "metadata": {},
   "outputs": [],
   "source": [
    "# annotations_paths = annotations_paths[:3]"
   ]
  },
  {
   "cell_type": "code",
   "execution_count": null,
   "metadata": {},
   "outputs": [],
   "source": [
    "annotations_paths"
   ]
  },
  {
   "cell_type": "code",
   "execution_count": null,
   "metadata": {},
   "outputs": [],
   "source": [
    "audio_paths = scripts.find_audio_from_annotations_paths(annotations_paths)\n",
    "audio_paths"
   ]
  },
  {
   "cell_type": "code",
   "execution_count": null,
   "metadata": {},
   "outputs": [],
   "source": [
    "len(audio_paths)"
   ]
  },
  {
   "cell_type": "code",
   "execution_count": null,
   "metadata": {},
   "outputs": [],
   "source": [
    "# audios, sr = scripts.get_audios(audio_paths[12:13])\n",
    "audios, sr = scripts.get_audios(audio_paths)"
   ]
  },
  {
   "cell_type": "code",
   "execution_count": null,
   "metadata": {},
   "outputs": [],
   "source": [
    "len(audios)"
   ]
  },
  {
   "cell_type": "markdown",
   "metadata": {},
   "source": [
    "## Demo examples of classes"
   ]
  },
  {
   "cell_type": "code",
   "execution_count": null,
   "metadata": {},
   "outputs": [],
   "source": [
    "data_a = scripts.get_label_data(annotations[12], audios[-1], 'a', sr)\n",
    "merged_data_a = np.hstack(data_a)\n",
    "librosa.output.write_wav('../demo/label_a_tmp.wav', merged_data_a, sr)"
   ]
  },
  {
   "cell_type": "code",
   "execution_count": null,
   "metadata": {},
   "outputs": [],
   "source": [
    "data_a = scripts.get_label_data(annotations[12], audios[-1], 'b', sr)\n",
    "merged_data_a = np.hstack(data_a)\n",
    "librosa.output.write_wav('../demo/label_b_tmp.wav', merged_data_a, sr)"
   ]
  },
  {
   "cell_type": "code",
   "execution_count": null,
   "metadata": {},
   "outputs": [],
   "source": [
    "data_a = scripts.get_unlabel_data(annotations[12], audios[-1], ['a', 'b'], sr)\n",
    "merged_data_a = np.hstack(data_a)\n",
    "librosa.output.write_wav('../demo/label_c_tmp.wav', merged_data_a, sr)"
   ]
  },
  {
   "cell_type": "markdown",
   "metadata": {},
   "source": [
    "## Creating dataset"
   ]
  },
  {
   "cell_type": "code",
   "execution_count": null,
   "metadata": {},
   "outputs": [],
   "source": [
    "interval_time = 0.3\n",
    "interval_len = librosa.time_to_samples(interval_time) # [0]\n",
    "\n",
    "step_time = 0.05\n",
    "step_len = librosa.time_to_samples(step_time) # [0]"
   ]
  },
  {
   "cell_type": "code",
   "execution_count": null,
   "metadata": {},
   "outputs": [],
   "source": [
    "interval_len, step_len"
   ]
  },
  {
   "cell_type": "code",
   "execution_count": null,
   "metadata": {},
   "outputs": [],
   "source": [
    "def get_label_data(annotation, audio, labels, sr=22050):\n",
    "    data = []\n",
    "    targets = []\n",
    "    addings = []\n",
    "    \n",
    "    label_map = {'a': 0, 'b': 1, 'c': 2}\n",
    "    for label in labels:\n",
    "        l = label_map[label]\n",
    "        start_samples_indxs = librosa.time_to_samples(annotation[annotation.label ==\\\n",
    "                                                              label].start.values, sr)\n",
    "        finish_samples_indxs = librosa.time_to_samples(annotation[annotation.label ==\\\n",
    "                                                               label].finish.values, sr)\n",
    "        for s, f in zip(start_samples_indxs, finish_samples_indxs):\n",
    "            n = f - s\n",
    "            i = 0\n",
    "            while n >= interval_len:\n",
    "                crop = np.array(audio[s + i * step_len:s + i * step_len + interval_len])\n",
    "                data.append(crop)\n",
    "                n -= step_len\n",
    "                i += 1\n",
    "                addings.append(0)\n",
    "                targets.append(l)\n",
    "            if n < interval_len:\n",
    "                data.append(np.pad(audio[s + i * step_len:f], (0, interval_len - n),\n",
    "                                   'mean'))\n",
    "                addings.append(interval_len - n)\n",
    "                targets.append(l)\n",
    "    return data, targets, addings"
   ]
  },
  {
   "cell_type": "code",
   "execution_count": null,
   "metadata": {},
   "outputs": [],
   "source": [
    "d, t, a = get_label_data(annotations[-1], audios[-1], ['a', 'b'])"
   ]
  },
  {
   "cell_type": "code",
   "execution_count": null,
   "metadata": {},
   "outputs": [],
   "source": [
    "plt.hist(a, bins=20);"
   ]
  },
  {
   "cell_type": "code",
   "execution_count": null,
   "metadata": {},
   "outputs": [],
   "source": [
    "pd.Series.value_counts(t)"
   ]
  },
  {
   "cell_type": "code",
   "execution_count": null,
   "metadata": {},
   "outputs": [],
   "source": [
    "set([len(dd) for dd in d])"
   ]
  },
  {
   "cell_type": "code",
   "execution_count": null,
   "metadata": {},
   "outputs": [],
   "source": [
    "plt.plot(d[-10])"
   ]
  },
  {
   "cell_type": "code",
   "execution_count": null,
   "metadata": {},
   "outputs": [],
   "source": [
    "from IPython.display import Audio"
   ]
  },
  {
   "cell_type": "code",
   "execution_count": null,
   "metadata": {},
   "outputs": [],
   "source": [
    "wid = Audio(d[-10], rate=22050)\n",
    "\n",
    "display(wid)"
   ]
  },
  {
   "cell_type": "code",
   "execution_count": null,
   "metadata": {},
   "outputs": [],
   "source": [
    "def get_unlabel_data(annotation, audio, labels, additions, sr=22050):\n",
    "    data = []\n",
    "\n",
    "    start_samples_indxs = librosa.time_to_samples(\\\n",
    "                          annotation[~annotation.label.isin(labels)].start.values, sr)\n",
    "    finish_samples_indxs = librosa.time_to_samples(\\\n",
    "                           annotation[~annotation.label.isin(labels)].finish.values, sr)\n",
    "    for s, f in zip(start_samples_indxs, finish_samples_indxs):\n",
    "        n = f - s\n",
    "        i = 0\n",
    "        while n >= interval_len:\n",
    "            crop = np.array(audio[s + i * interval_len:s + (i + 1) * interval_len])\n",
    "            # because random value 0 is bad for slicing, set minimum value 1\n",
    "#             sl = max(int(np.random.exponential(exp_dist_scale)), 1)\n",
    "            # limit maximum random value by 70% of interval_len\n",
    "#             sl = min(sl, int(interval_len * max_crop_percent))\n",
    "\n",
    "            # another version - better\n",
    "            sl = np.random.choice(additions)\n",
    "            if sl != 0:\n",
    "                crop = crop[:-sl]\n",
    "                crop = np.pad(crop, (0, sl), 'mean')\n",
    "            data.append(crop)\n",
    "            n -= interval_len\n",
    "            i += 1\n",
    "    targets = [2] * len(data)\n",
    "    return data, targets"
   ]
  },
  {
   "cell_type": "code",
   "execution_count": null,
   "metadata": {},
   "outputs": [],
   "source": [
    "len(annotations), len(audios)"
   ]
  },
  {
   "cell_type": "markdown",
   "metadata": {},
   "source": [
    "## Dataset"
   ]
  },
  {
   "cell_type": "code",
   "execution_count": null,
   "metadata": {},
   "outputs": [],
   "source": [
    "%%time\n",
    "X, y = [], []\n",
    "X_c, y_c = [], []\n",
    "additions = []\n",
    "\n",
    "labels_map = {\n",
    "    'a': 0,\n",
    "    'b': 1,\n",
    "    'c': 2\n",
    "}\n",
    "\n",
    "for ann, aud in zip(annotations, audios):\n",
    "    data, targets, adds = get_label_data(ann, aud, ['a', 'b'])\n",
    "    X.append(data) # was extend\n",
    "    y.append(targets) # was extend\n",
    "    additions.extend(adds)\n",
    "    \n",
    "for ann, aud in zip(annotations, audios):\n",
    "    data, targets = get_unlabel_data(ann, aud, ['a', 'b'], additions)\n",
    "    \n",
    "    c_indxs = np.random.choice(range(len(data)), len(data) // 2, replace=False)\n",
    "#     X.extend(np.array(X_c)[c_indxs].tolist())\n",
    "    X_c.append(np.array(data)[c_indxs].tolist()) # was extend\n",
    "    y_c.append([2] * len(c_indxs))\n",
    "\n",
    "# c_indxs = np.random.choice(range(len(X_c)), len(X_c) // 2, replace=False)\n",
    "# X.extend(np.array(X_c)[c_indxs].tolist())\n",
    "# y.extend([2] * (len(X_c) // 2))"
   ]
  },
  {
   "cell_type": "code",
   "execution_count": null,
   "metadata": {},
   "outputs": [],
   "source": [
    "len(X), len(y)"
   ]
  },
  {
   "cell_type": "code",
   "execution_count": null,
   "metadata": {},
   "outputs": [],
   "source": [
    "len(X_c), len(y_c)"
   ]
  },
  {
   "cell_type": "code",
   "execution_count": null,
   "metadata": {
    "scrolled": true
   },
   "outputs": [],
   "source": [
    "for i in range(3):\n",
    "    print(len(X[i]), len(y[i]))\n",
    "    print(len(X_c[i]), len(y_c[i]))\n",
    "    print()"
   ]
  },
  {
   "cell_type": "code",
   "execution_count": null,
   "metadata": {},
   "outputs": [],
   "source": [
    "for i in range(len(X)):\n",
    "    X[i].extend(X_c[i])\n",
    "    y[i].extend(y_c[i])"
   ]
  },
  {
   "cell_type": "code",
   "execution_count": null,
   "metadata": {
    "scrolled": true
   },
   "outputs": [],
   "source": [
    "for i in range(3):\n",
    "    print(len(X[i]), len(y[i]))\n",
    "    print()"
   ]
  },
  {
   "cell_type": "code",
   "execution_count": null,
   "metadata": {},
   "outputs": [],
   "source": [
    "pd.Series.value_counts(y[0])"
   ]
  },
  {
   "cell_type": "code",
   "execution_count": null,
   "metadata": {},
   "outputs": [],
   "source": [
    "plt.hist(additions);"
   ]
  },
  {
   "cell_type": "code",
   "execution_count": null,
   "metadata": {},
   "outputs": [],
   "source": [
    "plt.hist(np.random.choice(additions, len(additions)));"
   ]
  },
  {
   "cell_type": "code",
   "execution_count": null,
   "metadata": {},
   "outputs": [],
   "source": [
    "plt.hist(np.random.exponential(np.mean(additions), len(additions)));"
   ]
  },
  {
   "cell_type": "markdown",
   "metadata": {},
   "source": [
    "## Check"
   ]
  },
  {
   "cell_type": "code",
   "execution_count": null,
   "metadata": {},
   "outputs": [],
   "source": [
    "len(y)"
   ]
  },
  {
   "cell_type": "code",
   "execution_count": null,
   "metadata": {},
   "outputs": [],
   "source": [
    "len(X)"
   ]
  },
  {
   "cell_type": "code",
   "execution_count": null,
   "metadata": {},
   "outputs": [],
   "source": [
    "len(X[0])"
   ]
  },
  {
   "cell_type": "code",
   "execution_count": null,
   "metadata": {},
   "outputs": [],
   "source": [
    "xx = []\n",
    "for x_, y_ in zip(X[-1:], y[-1:]):\n",
    "    for x__, y__ in zip(x_, y_):\n",
    "        if y__ == 0:\n",
    "            xx.extend(x__)"
   ]
  },
  {
   "cell_type": "code",
   "execution_count": null,
   "metadata": {},
   "outputs": [],
   "source": [
    "len(X[-1])"
   ]
  },
  {
   "cell_type": "code",
   "execution_count": null,
   "metadata": {},
   "outputs": [],
   "source": [
    "len(xx)"
   ]
  },
  {
   "cell_type": "code",
   "execution_count": null,
   "metadata": {
    "scrolled": false
   },
   "outputs": [],
   "source": [
    "for i in range(10):\n",
    "    plt.plot(X[-1][i])\n",
    "    plt.show()"
   ]
  },
  {
   "cell_type": "code",
   "execution_count": null,
   "metadata": {},
   "outputs": [],
   "source": [
    "# Audio(np.concatenate(X[-1][:10]), rate=sr)"
   ]
  },
  {
   "cell_type": "code",
   "execution_count": null,
   "metadata": {},
   "outputs": [],
   "source": [
    "Audio(xx, rate=sr)"
   ]
  },
  {
   "cell_type": "code",
   "execution_count": null,
   "metadata": {},
   "outputs": [],
   "source": [
    "librosa.output.write_wav('../demo/eee.wav', xx, sr)"
   ]
  },
  {
   "cell_type": "code",
   "execution_count": null,
   "metadata": {},
   "outputs": [],
   "source": [
    "# import random"
   ]
  },
  {
   "cell_type": "code",
   "execution_count": null,
   "metadata": {},
   "outputs": [],
   "source": [
    "# temp = list(zip(X, y))\n",
    "# random.shuffle(temp)\n",
    "# X, y = zip(*temp)"
   ]
  },
  {
   "cell_type": "code",
   "execution_count": null,
   "metadata": {},
   "outputs": [],
   "source": [
    "# xs = [x_ for x_, y_ in zip(X[0], y[0]) if y_ == 2]"
   ]
  },
  {
   "cell_type": "code",
   "execution_count": null,
   "metadata": {},
   "outputs": [],
   "source": [
    "# len(X[0])"
   ]
  },
  {
   "cell_type": "code",
   "execution_count": null,
   "metadata": {},
   "outputs": [],
   "source": [
    "# len(xs[0])"
   ]
  },
  {
   "cell_type": "code",
   "execution_count": null,
   "metadata": {
    "scrolled": false
   },
   "outputs": [],
   "source": [
    "# for i in range(20,30):\n",
    "#     plt.plot(xs[i])\n",
    "#     plt.show()"
   ]
  },
  {
   "cell_type": "code",
   "execution_count": null,
   "metadata": {},
   "outputs": [],
   "source": [
    "# xs = np.concatenate(xs[20:30])"
   ]
  },
  {
   "cell_type": "code",
   "execution_count": null,
   "metadata": {},
   "outputs": [],
   "source": [
    "# xs = np.concatenate(X[:100])"
   ]
  },
  {
   "cell_type": "code",
   "execution_count": null,
   "metadata": {},
   "outputs": [],
   "source": [
    "# Audio(xs, rate=sr)"
   ]
  },
  {
   "cell_type": "code",
   "execution_count": null,
   "metadata": {},
   "outputs": [],
   "source": [
    "# librosa.output.write_wav('../demo/eee.wav', xs, sr)"
   ]
  },
  {
   "cell_type": "markdown",
   "metadata": {},
   "source": [
    "### Pickle"
   ]
  },
  {
   "cell_type": "code",
   "execution_count": null,
   "metadata": {},
   "outputs": [],
   "source": [
    "import pickle\n",
    "import gzip"
   ]
  },
  {
   "cell_type": "code",
   "execution_count": null,
   "metadata": {},
   "outputs": [],
   "source": [
    "with gzip.open('../cache/dataset.pkl.gz', 'wb') as f:\n",
    "    pickle.dump([X, y], f)"
   ]
  },
  {
   "cell_type": "code",
   "execution_count": null,
   "metadata": {},
   "outputs": [],
   "source": [
    "sr"
   ]
  },
  {
   "cell_type": "code",
   "execution_count": null,
   "metadata": {},
   "outputs": [],
   "source": []
  }
 ],
 "metadata": {
  "kernelspec": {
   "display_name": "Python 3",
   "language": "python",
   "name": "python3"
  },
  "language_info": {
   "codemirror_mode": {
    "name": "ipython",
    "version": 3
   },
   "file_extension": ".py",
   "mimetype": "text/x-python",
   "name": "python",
   "nbconvert_exporter": "python",
   "pygments_lexer": "ipython3",
   "version": "3.6.3"
  }
 },
 "nbformat": 4,
 "nbformat_minor": 2
}
