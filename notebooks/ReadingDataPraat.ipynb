{
 "cells": [
  {
   "cell_type": "code",
   "execution_count": 14,
   "metadata": {},
   "outputs": [],
   "source": [
    "import pandas as pd\n",
    "import matplotlib.pyplot as plt\n",
    "%matplotlib inline"
   ]
  },
  {
   "cell_type": "markdown",
   "metadata": {},
   "source": [
    "# Annotations"
   ]
  },
  {
   "cell_type": "code",
   "execution_count": 15,
   "metadata": {},
   "outputs": [],
   "source": [
    "# with open('../annotations/lavina_class.TextGrid') as f:\n",
    "#     annotation = [l.strip() for l in f.readlines()]"
   ]
  },
  {
   "cell_type": "code",
   "execution_count": 16,
   "metadata": {},
   "outputs": [],
   "source": [
    "with open('../annotations/dtp.TextGrid') as f:\n",
    "    annotation = [l.strip() for l in f.readlines()]"
   ]
  },
  {
   "cell_type": "code",
   "execution_count": 17,
   "metadata": {},
   "outputs": [],
   "source": [
    "indxs = [i for i, l in enumerate(annotation) if l == '\"IntervalTier\"']\n",
    "annotation = annotation[indxs[0] + 5:indxs[1]]"
   ]
  },
  {
   "cell_type": "code",
   "execution_count": 18,
   "metadata": {},
   "outputs": [],
   "source": [
    "annotation_dicts = []\n",
    "\n",
    "for s, e, l in zip(annotation[0::3], annotation[1::3], annotation[2::3]):\n",
    "    annotation_dicts.append({\n",
    "        'start': float(s),\n",
    "        'finish': float(e),\n",
    "        'label': l.replace('\"', ''),\n",
    "        'length': float(e) - float(s)\n",
    "    })"
   ]
  },
  {
   "cell_type": "code",
   "execution_count": 19,
   "metadata": {},
   "outputs": [],
   "source": [
    "df = pd.DataFrame(annotation_dicts)"
   ]
  },
  {
   "cell_type": "code",
   "execution_count": 20,
   "metadata": {},
   "outputs": [
    {
     "data": {
      "text/html": [
       "<div>\n",
       "<style scoped>\n",
       "    .dataframe tbody tr th:only-of-type {\n",
       "        vertical-align: middle;\n",
       "    }\n",
       "\n",
       "    .dataframe tbody tr th {\n",
       "        vertical-align: top;\n",
       "    }\n",
       "\n",
       "    .dataframe thead tr th {\n",
       "        text-align: left;\n",
       "    }\n",
       "\n",
       "    .dataframe thead tr:last-of-type th {\n",
       "        text-align: right;\n",
       "    }\n",
       "</style>\n",
       "<table border=\"1\" class=\"dataframe\">\n",
       "  <thead>\n",
       "    <tr>\n",
       "      <th></th>\n",
       "      <th colspan=\"8\" halign=\"left\">length</th>\n",
       "    </tr>\n",
       "    <tr>\n",
       "      <th></th>\n",
       "      <th>count</th>\n",
       "      <th>mean</th>\n",
       "      <th>std</th>\n",
       "      <th>min</th>\n",
       "      <th>25%</th>\n",
       "      <th>50%</th>\n",
       "      <th>75%</th>\n",
       "      <th>max</th>\n",
       "    </tr>\n",
       "    <tr>\n",
       "      <th>label</th>\n",
       "      <th></th>\n",
       "      <th></th>\n",
       "      <th></th>\n",
       "      <th></th>\n",
       "      <th></th>\n",
       "      <th></th>\n",
       "      <th></th>\n",
       "      <th></th>\n",
       "    </tr>\n",
       "  </thead>\n",
       "  <tbody>\n",
       "    <tr>\n",
       "      <th></th>\n",
       "      <td>135.0</td>\n",
       "      <td>7.403509</td>\n",
       "      <td>14.072953</td>\n",
       "      <td>0.202883</td>\n",
       "      <td>1.439769</td>\n",
       "      <td>2.702016</td>\n",
       "      <td>5.920749</td>\n",
       "      <td>92.619594</td>\n",
       "    </tr>\n",
       "    <tr>\n",
       "      <th>a</th>\n",
       "      <td>108.0</td>\n",
       "      <td>0.329626</td>\n",
       "      <td>0.100457</td>\n",
       "      <td>0.152162</td>\n",
       "      <td>0.259944</td>\n",
       "      <td>0.317005</td>\n",
       "      <td>0.356630</td>\n",
       "      <td>0.798852</td>\n",
       "    </tr>\n",
       "    <tr>\n",
       "      <th>b</th>\n",
       "      <td>24.0</td>\n",
       "      <td>0.189675</td>\n",
       "      <td>0.055929</td>\n",
       "      <td>0.095101</td>\n",
       "      <td>0.145822</td>\n",
       "      <td>0.187033</td>\n",
       "      <td>0.218733</td>\n",
       "      <td>0.304325</td>\n",
       "    </tr>\n",
       "  </tbody>\n",
       "</table>\n",
       "</div>"
      ],
      "text/plain": [
       "      length                                                               \\\n",
       "       count      mean        std       min       25%       50%       75%   \n",
       "label                                                                       \n",
       "       135.0  7.403509  14.072953  0.202883  1.439769  2.702016  5.920749   \n",
       "a      108.0  0.329626   0.100457  0.152162  0.259944  0.317005  0.356630   \n",
       "b       24.0  0.189675   0.055929  0.095101  0.145822  0.187033  0.218733   \n",
       "\n",
       "                  \n",
       "             max  \n",
       "label             \n",
       "       92.619594  \n",
       "a       0.798852  \n",
       "b       0.304325  "
      ]
     },
     "execution_count": 20,
     "metadata": {},
     "output_type": "execute_result"
    }
   ],
   "source": [
    "df[['label', 'length']].groupby('label').describe()"
   ]
  },
  {
   "cell_type": "code",
   "execution_count": 21,
   "metadata": {},
   "outputs": [
    {
     "data": {
      "text/plain": [
       "<matplotlib.collections.PathCollection at 0x7fecfffe09e8>"
      ]
     },
     "execution_count": 21,
     "metadata": {},
     "output_type": "execute_result"
    },
    {
     "data": {
      "image/png": "[encoded data removed]",
      "text/plain": [
       "<matplotlib.figure.Figure at 0x7fed197baa90>"
      ]
     },
     "metadata": {},
     "output_type": "display_data"
    }
   ],
   "source": [
    "plt.scatter(df.start, df.finish)"
   ]
  },
  {
   "cell_type": "markdown",
   "metadata": {},
   "source": [
    "# Audio"
   ]
  },
  {
   "cell_type": "code",
   "execution_count": 22,
   "metadata": {},
   "outputs": [],
   "source": [
    "import glob\n",
    "import os\n",
    "import librosa\n",
    "import numpy as np\n",
    "from matplotlib.pyplot import specgram"
   ]
  },
  {
   "cell_type": "code",
   "execution_count": 23,
   "metadata": {},
   "outputs": [],
   "source": [
    "# audio, sr = librosa.load('../audio/lavina_class.m4a')"
   ]
  },
  {
   "cell_type": "code",
   "execution_count": 24,
   "metadata": {},
   "outputs": [],
   "source": [
    "audio, sr = librosa.load('../audio/dtp.m4a')"
   ]
  },
  {
   "cell_type": "code",
   "execution_count": 25,
   "metadata": {},
   "outputs": [
    {
     "data": {
      "text/plain": [
       "22050"
      ]
     },
     "execution_count": 25,
     "metadata": {},
     "output_type": "execute_result"
    }
   ],
   "source": [
    "sr"
   ]
  },
  {
   "cell_type": "code",
   "execution_count": 26,
   "metadata": {},
   "outputs": [],
   "source": [
    "def get_label_data(annotations, audio, label, sr):\n",
    "    start_samples_indxs = librosa.time_to_samples(annotations[annotations.label == label].start.values, sr)\n",
    "    finish_samples_indxs = librosa.time_to_samples(annotations[annotations.label == label].finish.values, sr)\n",
    "    \n",
    "    data = []\n",
    "    for s, f in zip(start_samples_indxs, finish_samples_indxs):\n",
    "        data.append(audio[np.arange(s, f)])\n",
    "    return data"
   ]
  },
  {
   "cell_type": "code",
   "execution_count": 27,
   "metadata": {},
   "outputs": [],
   "source": [
    "data_a = get_label_data(df, audio, 'a', sr)\n",
    "merged_data_a = np.hstack(data_a)\n",
    "librosa.output.write_wav('../demo/label_a3.wav', merged_data_a, sr)"
   ]
  },
  {
   "cell_type": "code",
   "execution_count": 28,
   "metadata": {},
   "outputs": [],
   "source": [
    "data_b = get_label_data(df, audio, 'b', sr)\n",
    "merged_data_b = np.hstack(data_b)\n",
    "librosa.output.write_wav('../demo/label_b3.wav', merged_data_b, sr)"
   ]
  },
  {
   "cell_type": "code",
   "execution_count": null,
   "metadata": {
    "collapsed": true
   },
   "outputs": [],
   "source": []
  }
 ],
 "metadata": {
  "kernelspec": {
   "display_name": "Python 3",
   "language": "python",
   "name": "python3"
  },
  "language_info": {
   "codemirror_mode": {
    "name": "ipython",
    "version": 3
   },
   "file_extension": ".py",
   "mimetype": "text/x-python",
   "name": "python",
   "nbconvert_exporter": "python",
   "pygments_lexer": "ipython3",
   "version": "3.6.3"
  }
 },
 "nbformat": 4,
 "nbformat_minor": 2
}
