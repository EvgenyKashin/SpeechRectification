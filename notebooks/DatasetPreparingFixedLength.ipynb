{
 "cells": [
  {
   "cell_type": "code",
   "execution_count": 1,
   "metadata": {},
   "outputs": [],
   "source": [
    "import pandas as pd\n",
    "import glob\n",
    "import os\n",
    "import librosa\n",
    "import numpy as np\n",
    "\n",
    "import matplotlib.pyplot as plt\n",
    "%matplotlib inline"
   ]
  },
  {
   "cell_type": "markdown",
   "metadata": {},
   "source": [
    "# Loading data"
   ]
  },
  {
   "cell_type": "markdown",
   "metadata": {},
   "source": [
    "## Annotations"
   ]
  },
  {
   "cell_type": "code",
   "execution_count": 2,
   "metadata": {},
   "outputs": [],
   "source": [
    "elan_annotation_paths = ['../annotations/surf.txt']\n",
    "praat_annotation_paths = ['../annotations/lavina_class.TextGrid',\n",
    "                          '../annotations/dtp.TextGrid']"
   ]
  },
  {
   "cell_type": "code",
   "execution_count": 3,
   "metadata": {},
   "outputs": [],
   "source": [
    "def get_elan_annotations(paths):\n",
    "    dfs = []\n",
    "    for path in paths:\n",
    "        df = pd.read_csv(path, sep='\\t', header=None)\n",
    "        df = df[[3, 5, 7, 8]]\n",
    "        df = df.rename(columns={3: 'start', 5: 'finish', 7: 'length', 8: 'label'})\n",
    "        dfs.append(df)\n",
    "    return dfs"
   ]
  },
  {
   "cell_type": "code",
   "execution_count": 4,
   "metadata": {},
   "outputs": [],
   "source": [
    "elan_annotations = get_elan_annotations(elan_annotation_paths)"
   ]
  },
  {
   "cell_type": "code",
   "execution_count": 5,
   "metadata": {},
   "outputs": [
    {
     "data": {
      "text/html": [
       "<div>\n",
       "<style scoped>\n",
       "    .dataframe tbody tr th:only-of-type {\n",
       "        vertical-align: middle;\n",
       "    }\n",
       "\n",
       "    .dataframe tbody tr th {\n",
       "        vertical-align: top;\n",
       "    }\n",
       "\n",
       "    .dataframe thead th {\n",
       "        text-align: right;\n",
       "    }\n",
       "</style>\n",
       "<table border=\"1\" class=\"dataframe\">\n",
       "  <thead>\n",
       "    <tr style=\"text-align: right;\">\n",
       "      <th></th>\n",
       "      <th>start</th>\n",
       "      <th>finish</th>\n",
       "      <th>length</th>\n",
       "      <th>label</th>\n",
       "    </tr>\n",
       "  </thead>\n",
       "  <tbody>\n",
       "    <tr>\n",
       "      <th>0</th>\n",
       "      <td>0.018</td>\n",
       "      <td>144.237</td>\n",
       "      <td>144.219</td>\n",
       "      <td>c</td>\n",
       "    </tr>\n",
       "    <tr>\n",
       "      <th>1</th>\n",
       "      <td>146.801</td>\n",
       "      <td>147.044</td>\n",
       "      <td>0.243</td>\n",
       "      <td>a</td>\n",
       "    </tr>\n",
       "    <tr>\n",
       "      <th>2</th>\n",
       "      <td>150.407</td>\n",
       "      <td>150.600</td>\n",
       "      <td>0.193</td>\n",
       "      <td>b</td>\n",
       "    </tr>\n",
       "    <tr>\n",
       "      <th>3</th>\n",
       "      <td>152.654</td>\n",
       "      <td>152.968</td>\n",
       "      <td>0.314</td>\n",
       "      <td>a</td>\n",
       "    </tr>\n",
       "    <tr>\n",
       "      <th>4</th>\n",
       "      <td>154.260</td>\n",
       "      <td>154.705</td>\n",
       "      <td>0.445</td>\n",
       "      <td>a</td>\n",
       "    </tr>\n",
       "  </tbody>\n",
       "</table>\n",
       "</div>"
      ],
      "text/plain": [
       "     start   finish   length label\n",
       "0    0.018  144.237  144.219     c\n",
       "1  146.801  147.044    0.243     a\n",
       "2  150.407  150.600    0.193     b\n",
       "3  152.654  152.968    0.314     a\n",
       "4  154.260  154.705    0.445     a"
      ]
     },
     "execution_count": 5,
     "metadata": {},
     "output_type": "execute_result"
    }
   ],
   "source": [
    "elan_annotations[0].head()"
   ]
  },
  {
   "cell_type": "code",
   "execution_count": 6,
   "metadata": {},
   "outputs": [],
   "source": [
    "def get_praat_annotations(paths):\n",
    "    dfs = []\n",
    "    for path in paths:\n",
    "        with open(path) as f:\n",
    "            annotation = [l.strip() for l in f.readlines()]\n",
    "            \n",
    "        indxs = [i for i, l in enumerate(annotation) if l == '\"IntervalTier\"']\n",
    "        annotation = annotation[indxs[0] + 5:indxs[1] if len(indxs) > 1\\\n",
    "                                else len(annotation)]\n",
    "        annotation_dicts = []\n",
    "\n",
    "        for s, e, l in zip(annotation[0::3], annotation[1::3], annotation[2::3]):\n",
    "            annotation_dicts.append({\n",
    "                'start': float(s),\n",
    "                'finish': float(e),\n",
    "                'label': l.replace('\"', ''),\n",
    "                'length': float(e) - float(s)\n",
    "            })\n",
    "        df = pd.DataFrame(annotation_dicts)\n",
    "        dfs.append(df)\n",
    "    return dfs"
   ]
  },
  {
   "cell_type": "code",
   "execution_count": 7,
   "metadata": {},
   "outputs": [],
   "source": [
    "praat_annotations = get_praat_annotations(praat_annotation_paths)"
   ]
  },
  {
   "cell_type": "code",
   "execution_count": 8,
   "metadata": {},
   "outputs": [
    {
     "data": {
      "text/html": [
       "<div>\n",
       "<style scoped>\n",
       "    .dataframe tbody tr th:only-of-type {\n",
       "        vertical-align: middle;\n",
       "    }\n",
       "\n",
       "    .dataframe tbody tr th {\n",
       "        vertical-align: top;\n",
       "    }\n",
       "\n",
       "    .dataframe thead th {\n",
       "        text-align: right;\n",
       "    }\n",
       "</style>\n",
       "<table border=\"1\" class=\"dataframe\">\n",
       "  <thead>\n",
       "    <tr style=\"text-align: right;\">\n",
       "      <th></th>\n",
       "      <th>finish</th>\n",
       "      <th>label</th>\n",
       "      <th>length</th>\n",
       "      <th>start</th>\n",
       "    </tr>\n",
       "  </thead>\n",
       "  <tbody>\n",
       "    <tr>\n",
       "      <th>0</th>\n",
       "      <td>1.549987</td>\n",
       "      <td>c</td>\n",
       "      <td>1.549987</td>\n",
       "      <td>0.000000</td>\n",
       "    </tr>\n",
       "    <tr>\n",
       "      <th>1</th>\n",
       "      <td>1.905032</td>\n",
       "      <td>a</td>\n",
       "      <td>0.355045</td>\n",
       "      <td>1.549987</td>\n",
       "    </tr>\n",
       "    <tr>\n",
       "      <th>2</th>\n",
       "      <td>12.203617</td>\n",
       "      <td>c</td>\n",
       "      <td>10.298584</td>\n",
       "      <td>1.905032</td>\n",
       "    </tr>\n",
       "    <tr>\n",
       "      <th>3</th>\n",
       "      <td>12.685464</td>\n",
       "      <td>a</td>\n",
       "      <td>0.481847</td>\n",
       "      <td>12.203617</td>\n",
       "    </tr>\n",
       "    <tr>\n",
       "      <th>4</th>\n",
       "      <td>16.796116</td>\n",
       "      <td>c</td>\n",
       "      <td>4.110652</td>\n",
       "      <td>12.685464</td>\n",
       "    </tr>\n",
       "  </tbody>\n",
       "</table>\n",
       "</div>"
      ],
      "text/plain": [
       "      finish label     length      start\n",
       "0   1.549987     c   1.549987   0.000000\n",
       "1   1.905032     a   0.355045   1.549987\n",
       "2  12.203617     c  10.298584   1.905032\n",
       "3  12.685464     a   0.481847  12.203617\n",
       "4  16.796116     c   4.110652  12.685464"
      ]
     },
     "execution_count": 8,
     "metadata": {},
     "output_type": "execute_result"
    }
   ],
   "source": [
    "praat_annotations[0].head()"
   ]
  },
  {
   "cell_type": "code",
   "execution_count": 9,
   "metadata": {},
   "outputs": [
    {
     "data": {
      "text/html": [
       "<div>\n",
       "<style scoped>\n",
       "    .dataframe tbody tr th:only-of-type {\n",
       "        vertical-align: middle;\n",
       "    }\n",
       "\n",
       "    .dataframe tbody tr th {\n",
       "        vertical-align: top;\n",
       "    }\n",
       "\n",
       "    .dataframe thead th {\n",
       "        text-align: right;\n",
       "    }\n",
       "</style>\n",
       "<table border=\"1\" class=\"dataframe\">\n",
       "  <thead>\n",
       "    <tr style=\"text-align: right;\">\n",
       "      <th></th>\n",
       "      <th>finish</th>\n",
       "      <th>label</th>\n",
       "      <th>length</th>\n",
       "      <th>start</th>\n",
       "    </tr>\n",
       "  </thead>\n",
       "  <tbody>\n",
       "    <tr>\n",
       "      <th>0</th>\n",
       "      <td>37.323779</td>\n",
       "      <td></td>\n",
       "      <td>37.323779</td>\n",
       "      <td>0.000000</td>\n",
       "    </tr>\n",
       "    <tr>\n",
       "      <th>1</th>\n",
       "      <td>37.647123</td>\n",
       "      <td>a</td>\n",
       "      <td>0.323345</td>\n",
       "      <td>37.323779</td>\n",
       "    </tr>\n",
       "    <tr>\n",
       "      <th>2</th>\n",
       "      <td>130.266718</td>\n",
       "      <td></td>\n",
       "      <td>92.619594</td>\n",
       "      <td>37.647123</td>\n",
       "    </tr>\n",
       "    <tr>\n",
       "      <th>3</th>\n",
       "      <td>130.571042</td>\n",
       "      <td>b</td>\n",
       "      <td>0.304325</td>\n",
       "      <td>130.266718</td>\n",
       "    </tr>\n",
       "    <tr>\n",
       "      <th>4</th>\n",
       "      <td>130.792946</td>\n",
       "      <td></td>\n",
       "      <td>0.221903</td>\n",
       "      <td>130.571042</td>\n",
       "    </tr>\n",
       "  </tbody>\n",
       "</table>\n",
       "</div>"
      ],
      "text/plain": [
       "       finish label     length       start\n",
       "0   37.323779        37.323779    0.000000\n",
       "1   37.647123     a   0.323345   37.323779\n",
       "2  130.266718        92.619594   37.647123\n",
       "3  130.571042     b   0.304325  130.266718\n",
       "4  130.792946         0.221903  130.571042"
      ]
     },
     "execution_count": 9,
     "metadata": {},
     "output_type": "execute_result"
    }
   ],
   "source": [
    "praat_annotations[1].head()"
   ]
  },
  {
   "cell_type": "code",
   "execution_count": 10,
   "metadata": {},
   "outputs": [],
   "source": [
    "annotations = elan_annotations.copy()\n",
    "annotations.extend(praat_annotations)"
   ]
  },
  {
   "cell_type": "markdown",
   "metadata": {},
   "source": [
    "## Audio"
   ]
  },
  {
   "cell_type": "code",
   "execution_count": 11,
   "metadata": {},
   "outputs": [],
   "source": [
    "audio_paths = [\n",
    "    '../audio/surf.m4a',\n",
    "    '../audio/lavina_class.m4a',\n",
    "    '../audio/dtp.m4a'\n",
    "]"
   ]
  },
  {
   "cell_type": "code",
   "execution_count": 12,
   "metadata": {},
   "outputs": [],
   "source": [
    "def get_audios(paths):    \n",
    "    res = []\n",
    "    for path in paths:\n",
    "        audio, sr = librosa.load(path)\n",
    "        res.append(audio)\n",
    "    return res, sr\n",
    "\n",
    "def get_label_data(annotation, audio, label, sr):\n",
    "    start_samples_indxs = librosa.time_to_samples(annotation[annotation.label ==\\\n",
    "                                                              label].start.values, sr)\n",
    "    finish_samples_indxs = librosa.time_to_samples(annotation[annotation.label ==\\\n",
    "                                                               label].finish.values, sr)\n",
    "    \n",
    "    data = []\n",
    "    for s, f in zip(start_samples_indxs, finish_samples_indxs):\n",
    "        data.append(audio[np.arange(s, f)])\n",
    "    return data\n",
    "\n",
    "def get_unlabel_data(annotation, audio, labels, sr):\n",
    "    start_samples_indxs = librosa.time_to_samples(\\\n",
    "                          annotation[annotation.label.isin(labels)].start.values, sr)\n",
    "    finish_samples_indxs = librosa.time_to_samples(\\\n",
    "                           annotation[annotation.label.isin(labels)].finish.values, sr)\n",
    "    finish_samples_indxs = np.hstack([[0], finish_samples_indxs])\n",
    "    start_samples_indxs = np.hstack([start_samples_indxs, [len(start_samples_indxs) - 1]])\n",
    "    \n",
    "    data = []\n",
    "    for s, f in zip(finish_samples_indxs, start_samples_indxs):\n",
    "        data.append(audio[np.arange(s, f)])\n",
    "    return data"
   ]
  },
  {
   "cell_type": "code",
   "execution_count": 20,
   "metadata": {},
   "outputs": [],
   "source": [
    "audios, sr = get_audios(audio_paths)"
   ]
  },
  {
   "cell_type": "markdown",
   "metadata": {},
   "source": [
    "## Demo examples of classes"
   ]
  },
  {
   "cell_type": "code",
   "execution_count": 41,
   "metadata": {},
   "outputs": [],
   "source": [
    "data_a = get_label_data(annotations[0], audios[0], 'a', sr)\n",
    "merged_data_a = np.hstack(data_a)\n",
    "librosa.output.write_wav('../demo/label_a_tmp.wav', merged_data_a, sr)"
   ]
  },
  {
   "cell_type": "code",
   "execution_count": 42,
   "metadata": {},
   "outputs": [],
   "source": [
    "data_a = get_label_data(annotations[0], audios[0], 'b', sr)\n",
    "merged_data_a = np.hstack(data_a)\n",
    "librosa.output.write_wav('../demo/label_b_tmp.wav', merged_data_a, sr)"
   ]
  },
  {
   "cell_type": "code",
   "execution_count": 57,
   "metadata": {},
   "outputs": [],
   "source": [
    "data_a = get_unlabel_data(annotations[2], audios[2], ['a', 'b'], sr)\n",
    "merged_data_a = np.hstack(data_a)\n",
    "librosa.output.write_wav('../demo/label_c_tmp.wav', merged_data_a, sr)"
   ]
  },
  {
   "cell_type": "markdown",
   "metadata": {},
   "source": [
    "## Creating dataset"
   ]
  },
  {
   "cell_type": "code",
   "execution_count": 70,
   "metadata": {},
   "outputs": [],
   "source": [
    "interval_time = 0.1\n",
    "interval_len = librosa.time_to_samples(interval_time)[0]\n",
    "\n",
    "step_time = 0.05\n",
    "step_len = librosa.time_to_samples(step_time)[0]"
   ]
  },
  {
   "cell_type": "code",
   "execution_count": 71,
   "metadata": {},
   "outputs": [
    {
     "data": {
      "text/plain": [
       "(2205, 1102)"
      ]
     },
     "execution_count": 71,
     "metadata": {},
     "output_type": "execute_result"
    }
   ],
   "source": [
    "interval_len, step_len"
   ]
  },
  {
   "cell_type": "code",
   "execution_count": 72,
   "metadata": {},
   "outputs": [],
   "source": [
    "def get_label_data(annotation, audio, labels, sr=22050):\n",
    "    # по дефолту все 2го класса\n",
    "    data = pd.Series(index=np.arange(0, len(audio) - interval_len, step_len), data=2)\n",
    "    label_map = {'a': 0, 'b': 1, 'c': 2}\n",
    "    for label in labels:\n",
    "        l = label_map[label]\n",
    "        start_samples_indxs = librosa.time_to_samples(annotation[annotation.label ==\\\n",
    "                                                              label].start.values, sr)\n",
    "        finish_samples_indxs = librosa.time_to_samples(annotation[annotation.label ==\\\n",
    "                                                               label].finish.values, sr)\n",
    "        for s, f in zip(start_samples_indxs, finish_samples_indxs):\n",
    "            s = int(np.round(s / step_len)) * step_len\n",
    "            f = (int(np.round(f / step_len)) - 2) * step_len\n",
    "            # вычитаем 2 потому что f - это конец интервала, в Series мы заносим метку для \n",
    "            # начала  интервала, длина интервала 2 * step, поэтому нужно вычесть 2\n",
    "            data[(data.index >= s) & (data.index <= f)] = l\n",
    "    return data"
   ]
  },
  {
   "cell_type": "markdown",
   "metadata": {},
   "source": [
    "### Так нельзя, так как тогда в выборку просто не попадут данные с нуу ни в один класс"
   ]
  },
  {
   "cell_type": "code",
   "execution_count": 95,
   "metadata": {},
   "outputs": [],
   "source": [
    "# d = get_label_data(annotations[0], audios[0], ['a', 'b']) # с классом \"нуу\"\n",
    "# d = get_label_data(annotations[0], audios[0], ['a']) # без \"нуу\" "
   ]
  },
  {
   "cell_type": "markdown",
   "metadata": {},
   "source": [
    "### Надо так"
   ]
  },
  {
   "cell_type": "code",
   "execution_count": 97,
   "metadata": {},
   "outputs": [],
   "source": [
    "d = get_label_data(annotations[0], audios[0], ['a', 'b'])"
   ]
  },
  {
   "cell_type": "code",
   "execution_count": 98,
   "metadata": {},
   "outputs": [
    {
     "data": {
      "text/plain": [
       "2    24782\n",
       "0      711\n",
       "1      150\n",
       "dtype: int64"
      ]
     },
     "execution_count": 98,
     "metadata": {},
     "output_type": "execute_result"
    }
   ],
   "source": [
    "d.value_counts()"
   ]
  },
  {
   "cell_type": "code",
   "execution_count": 101,
   "metadata": {},
   "outputs": [],
   "source": [
    "d = d.replace({1:2})"
   ]
  },
  {
   "cell_type": "code",
   "execution_count": 102,
   "metadata": {},
   "outputs": [
    {
     "data": {
      "text/plain": [
       "2    24932\n",
       "0      711\n",
       "dtype: int64"
      ]
     },
     "execution_count": 102,
     "metadata": {},
     "output_type": "execute_result"
    }
   ],
   "source": [
    "d.value_counts()"
   ]
  },
  {
   "cell_type": "code",
   "execution_count": 104,
   "metadata": {},
   "outputs": [
    {
     "data": {
      "text/plain": [
       "2    0.972273\n",
       "0    0.027727\n",
       "dtype: float64"
      ]
     },
     "execution_count": 104,
     "metadata": {},
     "output_type": "execute_result"
    }
   ],
   "source": [
    "d.value_counts(True)"
   ]
  },
  {
   "cell_type": "code",
   "execution_count": 103,
   "metadata": {},
   "outputs": [
    {
     "data": {
      "text/plain": [
       "<matplotlib.axes._subplots.AxesSubplot at 0x7f0d03d2a4a8>"
      ]
     },
     "execution_count": 103,
     "metadata": {},
     "output_type": "execute_result"
    },
    {
     "data": {
      "image/png": "[encoded data removed]",
      "text/plain": [
       "<matplotlib.figure.Figure at 0x7f0d0ab07d68>"
      ]
     },
     "metadata": {},
     "output_type": "display_data"
    }
   ],
   "source": [
    "d.iloc[5000:6000].plot()"
   ]
  },
  {
   "cell_type": "code",
   "execution_count": 105,
   "metadata": {},
   "outputs": [],
   "source": [
    "X, y = [], []\n",
    "\n",
    "labels_map = {\n",
    "    'a': 0,\n",
    "    'b': 1,\n",
    "    'c': 2\n",
    "}\n",
    "\n",
    "for ann, aud in zip(annotations, audios):\n",
    "    data = get_label_data(ann, aud, ['a', 'b'])\n",
    "    data = data.replace({1:2}) # убираем класс ну, можно закоментить\n",
    "    vc = data.value_counts()\n",
    "    c_to_sample = 10 * vc[0]\n",
    "    \n",
    "    d = data[data == 0]\n",
    "    for i in d.index:\n",
    "#         print(i, interval_len, aud.shape, len(X))\n",
    "        X.append(aud[i: i + interval_len])\n",
    "        y += [0]\n",
    "        \n",
    "    d = data[data == 1]\n",
    "    for i in d.index:\n",
    "        X.append(aud[i: i + interval_len])\n",
    "        y += [1]\n",
    "        \n",
    "    d = data[data == 2].sample(c_to_sample)\n",
    "    for i in d.index:\n",
    "        X.append(aud[i: i + interval_len])\n",
    "        y += [2]"
   ]
  },
  {
   "cell_type": "code",
   "execution_count": 106,
   "metadata": {},
   "outputs": [
    {
     "data": {
      "text/plain": [
       "(18117, 18117)"
      ]
     },
     "execution_count": 106,
     "metadata": {},
     "output_type": "execute_result"
    }
   ],
   "source": [
    "len(X), len(y)"
   ]
  },
  {
   "cell_type": "code",
   "execution_count": 107,
   "metadata": {},
   "outputs": [
    {
     "data": {
      "text/plain": [
       "2    16470\n",
       "0     1647\n",
       "dtype: int64"
      ]
     },
     "execution_count": 107,
     "metadata": {},
     "output_type": "execute_result"
    }
   ],
   "source": [
    "pd.Series.value_counts(y)"
   ]
  },
  {
   "cell_type": "code",
   "execution_count": 108,
   "metadata": {},
   "outputs": [
    {
     "data": {
      "text/plain": [
       "[<matplotlib.lines.Line2D at 0x7f0d0a29d128>]"
      ]
     },
     "execution_count": 108,
     "metadata": {},
     "output_type": "execute_result"
    },
    {
     "data": {
      "image/png": "[encoded data removed]",
      "text/plain": [
       "<matplotlib.figure.Figure at 0x7f0d03dc1550>"
      ]
     },
     "metadata": {},
     "output_type": "display_data"
    }
   ],
   "source": [
    "plt.plot(y)"
   ]
  },
  {
   "cell_type": "markdown",
   "metadata": {},
   "source": [
    "### Shuffle"
   ]
  },
  {
   "cell_type": "code",
   "execution_count": 109,
   "metadata": {},
   "outputs": [],
   "source": [
    "import random"
   ]
  },
  {
   "cell_type": "code",
   "execution_count": 110,
   "metadata": {},
   "outputs": [],
   "source": [
    "temp = list(zip(X, y))\n",
    "random.shuffle(temp)\n",
    "X, y = zip(*temp)"
   ]
  },
  {
   "cell_type": "code",
   "execution_count": 111,
   "metadata": {},
   "outputs": [
    {
     "data": {
      "text/plain": [
       "[<matplotlib.lines.Line2D at 0x7f0d03cc66d8>]"
      ]
     },
     "execution_count": 111,
     "metadata": {},
     "output_type": "execute_result"
    },
    {
     "data": {
      "image/png": "[encoded data removed]",
      "text/plain": [
       "<matplotlib.figure.Figure at 0x7f0d03dbe0b8>"
      ]
     },
     "metadata": {},
     "output_type": "display_data"
    }
   ],
   "source": [
    "plt.plot(y)"
   ]
  },
  {
   "cell_type": "markdown",
   "metadata": {},
   "source": [
    "### Pickle"
   ]
  },
  {
   "cell_type": "code",
   "execution_count": 112,
   "metadata": {},
   "outputs": [],
   "source": [
    "import pickle\n",
    "import gzip"
   ]
  },
  {
   "cell_type": "code",
   "execution_count": 113,
   "metadata": {},
   "outputs": [],
   "source": [
    "with gzip.open('../cache/dataset_fixed.pkl.gz', 'wb') as f:\n",
    "    pickle.dump([X, y], f)"
   ]
  },
  {
   "cell_type": "code",
   "execution_count": 114,
   "metadata": {},
   "outputs": [
    {
     "data": {
      "text/plain": [
       "22050"
      ]
     },
     "execution_count": 114,
     "metadata": {},
     "output_type": "execute_result"
    }
   ],
   "source": [
    "sr"
   ]
  },
  {
   "cell_type": "code",
   "execution_count": null,
   "metadata": {},
   "outputs": [],
   "source": []
  }
 ],
 "metadata": {
  "kernelspec": {
   "display_name": "Python 3",
   "language": "python",
   "name": "python3"
  },
  "language_info": {
   "codemirror_mode": {
    "name": "ipython",
    "version": 3
   },
   "file_extension": ".py",
   "mimetype": "text/x-python",
   "name": "python",
   "nbconvert_exporter": "python",
   "pygments_lexer": "ipython3",
   "version": "3.6.3"
  }
 },
 "nbformat": 4,
 "nbformat_minor": 2
}
