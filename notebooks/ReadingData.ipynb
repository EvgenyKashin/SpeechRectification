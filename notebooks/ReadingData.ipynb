{
 "cells": [
  {
   "cell_type": "code",
   "execution_count": 1,
   "metadata": {
    "collapsed": true
   },
   "outputs": [],
   "source": [
    "import pandas as pd\n",
    "import matplotlib.pyplot as plt\n",
    "%matplotlib inline"
   ]
  },
  {
   "cell_type": "markdown",
   "metadata": {},
   "source": [
    "# Annotations"
   ]
  },
  {
   "cell_type": "code",
   "execution_count": 2,
   "metadata": {
    "collapsed": true
   },
   "outputs": [],
   "source": [
    "df = pd.read_csv('../annotations/surf.txt', sep='\\t', header=None)"
   ]
  },
  {
   "cell_type": "code",
   "execution_count": 3,
   "metadata": {},
   "outputs": [
    {
     "data": {
      "text/html": [
       "<div>\n",
       "<style>\n",
       "    .dataframe thead tr:only-child th {\n",
       "        text-align: right;\n",
       "    }\n",
       "\n",
       "    .dataframe thead th {\n",
       "        text-align: left;\n",
       "    }\n",
       "\n",
       "    .dataframe tbody tr th {\n",
       "        vertical-align: top;\n",
       "    }\n",
       "</style>\n",
       "<table border=\"1\" class=\"dataframe\">\n",
       "  <thead>\n",
       "    <tr style=\"text-align: right;\">\n",
       "      <th></th>\n",
       "      <th>0</th>\n",
       "      <th>1</th>\n",
       "      <th>2</th>\n",
       "      <th>3</th>\n",
       "      <th>4</th>\n",
       "      <th>5</th>\n",
       "      <th>6</th>\n",
       "      <th>7</th>\n",
       "      <th>8</th>\n",
       "    </tr>\n",
       "  </thead>\n",
       "  <tbody>\n",
       "    <tr>\n",
       "      <th>0</th>\n",
       "      <td>default</td>\n",
       "      <td>NaN</td>\n",
       "      <td>00:00:00.018</td>\n",
       "      <td>0.018</td>\n",
       "      <td>00:02:24.237</td>\n",
       "      <td>144.237</td>\n",
       "      <td>00:02:24.219</td>\n",
       "      <td>144.219</td>\n",
       "      <td>c</td>\n",
       "    </tr>\n",
       "    <tr>\n",
       "      <th>1</th>\n",
       "      <td>default</td>\n",
       "      <td>NaN</td>\n",
       "      <td>00:02:26.801</td>\n",
       "      <td>146.801</td>\n",
       "      <td>00:02:27.044</td>\n",
       "      <td>147.044</td>\n",
       "      <td>00:00:00.243</td>\n",
       "      <td>0.243</td>\n",
       "      <td>a</td>\n",
       "    </tr>\n",
       "    <tr>\n",
       "      <th>2</th>\n",
       "      <td>default</td>\n",
       "      <td>NaN</td>\n",
       "      <td>00:02:30.407</td>\n",
       "      <td>150.407</td>\n",
       "      <td>00:02:30.600</td>\n",
       "      <td>150.600</td>\n",
       "      <td>00:00:00.193</td>\n",
       "      <td>0.193</td>\n",
       "      <td>b</td>\n",
       "    </tr>\n",
       "    <tr>\n",
       "      <th>3</th>\n",
       "      <td>default</td>\n",
       "      <td>NaN</td>\n",
       "      <td>00:02:32.654</td>\n",
       "      <td>152.654</td>\n",
       "      <td>00:02:32.968</td>\n",
       "      <td>152.968</td>\n",
       "      <td>00:00:00.314</td>\n",
       "      <td>0.314</td>\n",
       "      <td>a</td>\n",
       "    </tr>\n",
       "    <tr>\n",
       "      <th>4</th>\n",
       "      <td>default</td>\n",
       "      <td>NaN</td>\n",
       "      <td>00:02:34.260</td>\n",
       "      <td>154.260</td>\n",
       "      <td>00:02:34.705</td>\n",
       "      <td>154.705</td>\n",
       "      <td>00:00:00.445</td>\n",
       "      <td>0.445</td>\n",
       "      <td>a</td>\n",
       "    </tr>\n",
       "  </tbody>\n",
       "</table>\n",
       "</div>"
      ],
      "text/plain": [
       "         0   1             2        3             4        5             6  \\\n",
       "0  default NaN  00:00:00.018    0.018  00:02:24.237  144.237  00:02:24.219   \n",
       "1  default NaN  00:02:26.801  146.801  00:02:27.044  147.044  00:00:00.243   \n",
       "2  default NaN  00:02:30.407  150.407  00:02:30.600  150.600  00:00:00.193   \n",
       "3  default NaN  00:02:32.654  152.654  00:02:32.968  152.968  00:00:00.314   \n",
       "4  default NaN  00:02:34.260  154.260  00:02:34.705  154.705  00:00:00.445   \n",
       "\n",
       "         7  8  \n",
       "0  144.219  c  \n",
       "1    0.243  a  \n",
       "2    0.193  b  \n",
       "3    0.314  a  \n",
       "4    0.445  a  "
      ]
     },
     "execution_count": 3,
     "metadata": {},
     "output_type": "execute_result"
    }
   ],
   "source": [
    "df.head() "
   ]
  },
  {
   "cell_type": "code",
   "execution_count": 4,
   "metadata": {
    "collapsed": true
   },
   "outputs": [],
   "source": [
    "df = df[[3, 5, 7, 8]]\n",
    "df = df.rename(columns={3: 'start', 5: 'finish', 7: 'length', 8: 'label'})"
   ]
  },
  {
   "cell_type": "code",
   "execution_count": 6,
   "metadata": {},
   "outputs": [
    {
     "data": {
      "text/plain": [
       "<matplotlib.collections.PathCollection at 0x7f1e5a6e06a0>"
      ]
     },
     "execution_count": 6,
     "metadata": {},
     "output_type": "execute_result"
    },
    {
     "data": {
      "image/png": "[encoded data removed]",
      "text/plain": [
       "<matplotlib.figure.Figure at 0x7f1e5dd01cc0>"
      ]
     },
     "metadata": {},
     "output_type": "display_data"
    }
   ],
   "source": [
    "plt.scatter(df.start, df.finish)"
   ]
  },
  {
   "cell_type": "markdown",
   "metadata": {},
   "source": [
    "# Audio"
   ]
  },
  {
   "cell_type": "code",
   "execution_count": 7,
   "metadata": {
    "collapsed": true
   },
   "outputs": [],
   "source": [
    "import glob\n",
    "import os\n",
    "import librosa\n",
    "import numpy as np\n",
    "from matplotlib.pyplot import specgram"
   ]
  },
  {
   "cell_type": "code",
   "execution_count": 8,
   "metadata": {
    "collapsed": true
   },
   "outputs": [],
   "source": [
    "audio, sr = librosa.load('../audio/surf.m4a')"
   ]
  },
  {
   "cell_type": "code",
   "execution_count": 9,
   "metadata": {
    "collapsed": true
   },
   "outputs": [],
   "source": [
    "def get_label_data(annotations, audio, label, sr):\n",
    "    start_samples_indxs = librosa.time_to_samples(annotations[annotations.label == label].start.values, sr)\n",
    "    finish_samples_indxs = librosa.time_to_samples(annotations[annotations.label == label].finish.values, sr)\n",
    "    \n",
    "    data = []\n",
    "    for s, f in zip(start_samples_indxs, finish_samples_indxs):\n",
    "        data.append(audio[np.arange(s, f)])\n",
    "    return data"
   ]
  },
  {
   "cell_type": "code",
   "execution_count": 10,
   "metadata": {
    "collapsed": true
   },
   "outputs": [],
   "source": [
    "data_a = get_label_data(df, audio, 'a', sr)\n",
    "merged_data_a = np.hstack(data_a)\n",
    "librosa.output.write_wav('../demo/label_a.wav', merged_data_a, sr)"
   ]
  },
  {
   "cell_type": "code",
   "execution_count": 11,
   "metadata": {
    "collapsed": true
   },
   "outputs": [],
   "source": [
    "data_b = get_label_data(df, audio, 'b', sr)\n",
    "merged_data_b = np.hstack(data_b)\n",
    "librosa.output.write_wav('../demo/label_b.wav', merged_data_b, sr)"
   ]
  },
  {
   "cell_type": "code",
   "execution_count": null,
   "metadata": {
    "collapsed": true
   },
   "outputs": [],
   "source": []
  }
 ],
 "metadata": {
  "kernelspec": {
   "display_name": "Python 3",
   "language": "python",
   "name": "python3"
  },
  "language_info": {
   "codemirror_mode": {
    "name": "ipython",
    "version": 3
   },
   "file_extension": ".py",
   "mimetype": "text/x-python",
   "name": "python",
   "nbconvert_exporter": "python",
   "pygments_lexer": "ipython3",
   "version": "3.6.0"
  }
 },
 "nbformat": 4,
 "nbformat_minor": 2
}
