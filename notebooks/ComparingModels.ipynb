{
 "cells": [
  {
   "cell_type": "code",
   "execution_count": 2,
   "metadata": {},
   "outputs": [
    {
     "name": "stderr",
     "output_type": "stream",
     "text": [
      "/usr/lib/python3.6/importlib/_bootstrap.py:219: RuntimeWarning: compiletime version 3.5 of module 'tensorflow.python.framework.fast_tensor_util' does not match runtime version 3.6\n",
      "  return f(*args, **kwds)\n",
      "/usr/lib/python3/dist-packages/h5py/__init__.py:36: FutureWarning: Conversion of the second argument of issubdtype from `float` to `np.floating` is deprecated. In future, it will be treated as `np.float64 == np.dtype(float).type`.\n",
      "  from ._conv import register_converters as _register_converters\n",
      "Using TensorFlow backend.\n"
     ]
    }
   ],
   "source": [
    "import pandas as pd\n",
    "import numpy as np\n",
    "import librosa\n",
    "import librosa.display\n",
    "from matplotlib.pyplot import specgram\n",
    "import matplotlib.pyplot as plt\n",
    "import pickle\n",
    "import gzip\n",
    "from tqdm import tqdm_notebook, tqdm\n",
    "import tensorflow as tf\n",
    "import keras.backend as K\n",
    "\n",
    "%matplotlib inline"
   ]
  },
  {
   "cell_type": "code",
   "execution_count": 3,
   "metadata": {},
   "outputs": [],
   "source": [
    "gpu_options = tf.GPUOptions(per_process_gpu_memory_fraction=0.5)\n",
    "\n",
    "sess = tf.Session(config=tf.ConfigProto(gpu_options=gpu_options))"
   ]
  },
  {
   "cell_type": "code",
   "execution_count": 4,
   "metadata": {},
   "outputs": [],
   "source": [
    "K.set_session(sess)"
   ]
  },
  {
   "cell_type": "markdown",
   "metadata": {},
   "source": [
    "# Reading dataset"
   ]
  },
  {
   "cell_type": "code",
   "execution_count": 5,
   "metadata": {},
   "outputs": [],
   "source": [
    "with gzip.open('../cache/dataset.pkl.gz', 'rb') as f:\n",
    "    X_raw, y_raw = pickle.load(f)"
   ]
  },
  {
   "cell_type": "code",
   "execution_count": 6,
   "metadata": {},
   "outputs": [
    {
     "data": {
      "text/plain": [
       "(17, 17)"
      ]
     },
     "execution_count": 6,
     "metadata": {},
     "output_type": "execute_result"
    }
   ],
   "source": [
    "len(X_raw), len(y_raw)"
   ]
  },
  {
   "cell_type": "code",
   "execution_count": 7,
   "metadata": {},
   "outputs": [],
   "source": [
    "X_holdout, y_holdout = X_raw[10], y_raw[10] # lavina"
   ]
  },
  {
   "cell_type": "code",
   "execution_count": 8,
   "metadata": {},
   "outputs": [],
   "source": [
    "X_raw = X_raw[:10] + X_raw[11:]\n",
    "y_raw = y_raw[:10] + y_raw[11:]"
   ]
  },
  {
   "cell_type": "code",
   "execution_count": 9,
   "metadata": {},
   "outputs": [
    {
     "data": {
      "text/plain": [
       "769"
      ]
     },
     "execution_count": 9,
     "metadata": {},
     "output_type": "execute_result"
    }
   ],
   "source": [
    "len(X_holdout)"
   ]
  },
  {
   "cell_type": "code",
   "execution_count": 10,
   "metadata": {},
   "outputs": [
    {
     "data": {
      "text/plain": [
       "2    593\n",
       "0    145\n",
       "1     31\n",
       "dtype: int64"
      ]
     },
     "execution_count": 10,
     "metadata": {},
     "output_type": "execute_result"
    }
   ],
   "source": [
    "pd.Series.value_counts(y_holdout)"
   ]
  },
  {
   "cell_type": "code",
   "execution_count": 11,
   "metadata": {},
   "outputs": [],
   "source": [
    "X = []\n",
    "y = []\n",
    "\n",
    "for x in X_raw:\n",
    "    X.extend(x)\n",
    "\n",
    "for y_ in y_raw:\n",
    "    y.extend(y_)"
   ]
  },
  {
   "cell_type": "code",
   "execution_count": 12,
   "metadata": {},
   "outputs": [
    {
     "data": {
      "text/plain": [
       "(18507, 18507)"
      ]
     },
     "execution_count": 12,
     "metadata": {},
     "output_type": "execute_result"
    }
   ],
   "source": [
    "len(X), len(y)"
   ]
  },
  {
   "cell_type": "markdown",
   "metadata": {},
   "source": [
    "# New"
   ]
  },
  {
   "cell_type": "code",
   "execution_count": 13,
   "metadata": {},
   "outputs": [],
   "source": [
    "from scipy.fftpack import fft\n",
    "from scipy import signal"
   ]
  },
  {
   "cell_type": "code",
   "execution_count": 14,
   "metadata": {},
   "outputs": [],
   "source": [
    "sample_rate = 22050"
   ]
  },
  {
   "cell_type": "code",
   "execution_count": 15,
   "metadata": {},
   "outputs": [],
   "source": [
    "def log_specgram(audio, sample_rate, window_size=20,\n",
    "                 step_size=10, eps=1e-10):\n",
    "    nperseg = int(round(window_size * sample_rate / 1e3))\n",
    "    noverlap = int(round(step_size * sample_rate / 1e3))\n",
    "    freqs, times, spec = signal.spectrogram(audio,\n",
    "                                    fs=sample_rate,\n",
    "                                    window='hann',\n",
    "                                    nperseg=nperseg,\n",
    "                                    noverlap=noverlap,\n",
    "                                    detrend=False)\n",
    "    return freqs, times, np.log(spec.T.astype(np.float32) + eps)"
   ]
  },
  {
   "cell_type": "markdown",
   "metadata": {},
   "source": [
    "# Feature extratction"
   ]
  },
  {
   "cell_type": "code",
   "execution_count": 16,
   "metadata": {},
   "outputs": [],
   "source": [
    "X = [x if type(x) == type(np.array([])) else np.array(x) for x in X]"
   ]
  },
  {
   "cell_type": "code",
   "execution_count": 17,
   "metadata": {},
   "outputs": [],
   "source": [
    "X_holdout = [x if type(x) == type(np.array([])) else np.array(x) for x in X_holdout]"
   ]
  },
  {
   "cell_type": "code",
   "execution_count": 18,
   "metadata": {},
   "outputs": [
    {
     "data": {
      "text/plain": [
       "18507"
      ]
     },
     "execution_count": 18,
     "metadata": {},
     "output_type": "execute_result"
    }
   ],
   "source": [
    "len(X)"
   ]
  },
  {
   "cell_type": "code",
   "execution_count": 19,
   "metadata": {},
   "outputs": [
    {
     "data": {
      "text/plain": [
       "6615    18506\n",
       "6318        1\n",
       "dtype: int64"
      ]
     },
     "execution_count": 19,
     "metadata": {},
     "output_type": "execute_result"
    }
   ],
   "source": [
    "pd.Series.value_counts([len(x) for x in X])"
   ]
  },
  {
   "cell_type": "code",
   "execution_count": 20,
   "metadata": {},
   "outputs": [],
   "source": [
    "bad_ind = (np.array([len(x) == 6318 for x in X])).nonzero()[0][0]"
   ]
  },
  {
   "cell_type": "code",
   "execution_count": 21,
   "metadata": {},
   "outputs": [
    {
     "data": {
      "text/plain": [
       "1779"
      ]
     },
     "execution_count": 21,
     "metadata": {},
     "output_type": "execute_result"
    }
   ],
   "source": [
    "bad_ind"
   ]
  },
  {
   "cell_type": "code",
   "execution_count": 22,
   "metadata": {},
   "outputs": [],
   "source": [
    "X = X[:bad_ind] + X[bad_ind + 1:]\n",
    "y = y[:bad_ind] + y[bad_ind + 1:]"
   ]
  },
  {
   "cell_type": "code",
   "execution_count": 23,
   "metadata": {},
   "outputs": [
    {
     "data": {
      "text/plain": [
       "6615    18506\n",
       "dtype: int64"
      ]
     },
     "execution_count": 23,
     "metadata": {},
     "output_type": "execute_result"
    }
   ],
   "source": [
    "pd.Series.value_counts([len(x) for x in X])"
   ]
  },
  {
   "cell_type": "code",
   "execution_count": 24,
   "metadata": {},
   "outputs": [],
   "source": [
    "def extract_features(x, lim=100, for_cnn=True):\n",
    "    _, _, spec = log_specgram(x, sample_rate)\n",
    "    spec = spec[:, :lim]\n",
    "    if for_cnn:\n",
    "        spec = np.expand_dims(spec, -1)\n",
    "    return spec"
   ]
  },
  {
   "cell_type": "code",
   "execution_count": 25,
   "metadata": {},
   "outputs": [
    {
     "data": {
      "text/plain": [
       "18506"
      ]
     },
     "execution_count": 25,
     "metadata": {},
     "output_type": "execute_result"
    }
   ],
   "source": [
    "len(X)"
   ]
  },
  {
   "cell_type": "code",
   "execution_count": 26,
   "metadata": {},
   "outputs": [
    {
     "name": "stderr",
     "output_type": "stream",
     "text": [
      "100%|██████████| 18506/18506 [00:09<00:00, 1865.66it/s]\n"
     ]
    }
   ],
   "source": [
    "X_spec = []\n",
    "for x in tqdm(X):\n",
    "    spec = extract_features(x)\n",
    "    X_spec.append(spec)\n",
    "X_spec = np.array(X_spec)"
   ]
  },
  {
   "cell_type": "code",
   "execution_count": 27,
   "metadata": {},
   "outputs": [
    {
     "data": {
      "text/plain": [
       "(18506, 28, 100, 1)"
      ]
     },
     "execution_count": 27,
     "metadata": {},
     "output_type": "execute_result"
    }
   ],
   "source": [
    "X_spec.shape"
   ]
  },
  {
   "cell_type": "code",
   "execution_count": 28,
   "metadata": {},
   "outputs": [
    {
     "name": "stderr",
     "output_type": "stream",
     "text": [
      "100%|██████████| 769/769 [00:00<00:00, 1466.95it/s]\n"
     ]
    }
   ],
   "source": [
    "X_holdout_spec = []\n",
    "for x in tqdm(X_holdout):\n",
    "    spec = extract_features(x)\n",
    "    X_holdout_spec.append(spec)\n",
    "X_holdout_spec = np.array(X_holdout_spec)"
   ]
  },
  {
   "cell_type": "markdown",
   "metadata": {},
   "source": [
    "## Checking mean specs for different audios"
   ]
  },
  {
   "cell_type": "code",
   "execution_count": null,
   "metadata": {},
   "outputs": [],
   "source": [
    "# X_raw_specs = []\n",
    "# for raw in tqdm(X_raw):\n",
    "#     specs = []\n",
    "#     for sample in raw:\n",
    "#         spec = extract_features(np.array(sample))\n",
    "#         if spec.shape == (28, 100):\n",
    "#             specs.append(spec)\n",
    "#     specs = np.array(specs)\n",
    "#     X_raw_specs.append(specs)"
   ]
  },
  {
   "cell_type": "code",
   "execution_count": null,
   "metadata": {},
   "outputs": [],
   "source": [
    "# for i in range(len(X_raw_specs)):\n",
    "# #     print(X_raw_specs[i].shape)\n",
    "#     print(X_raw_specs[i].mean(), X_raw_specs[i].std())"
   ]
  },
  {
   "cell_type": "markdown",
   "metadata": {},
   "source": [
    "# Data split"
   ]
  },
  {
   "cell_type": "code",
   "execution_count": 43,
   "metadata": {},
   "outputs": [],
   "source": [
    "from keras.utils import to_categorical\n",
    "from sklearn.model_selection import train_test_split"
   ]
  },
  {
   "cell_type": "code",
   "execution_count": 29,
   "metadata": {},
   "outputs": [
    {
     "data": {
      "text/plain": [
       "(18506, 28, 100, 1)"
      ]
     },
     "execution_count": 29,
     "metadata": {},
     "output_type": "execute_result"
    }
   ],
   "source": [
    "X_spec.shape"
   ]
  },
  {
   "cell_type": "code",
   "execution_count": 30,
   "metadata": {},
   "outputs": [
    {
     "data": {
      "text/plain": [
       "-20.350042"
      ]
     },
     "execution_count": 30,
     "metadata": {},
     "output_type": "execute_result"
    }
   ],
   "source": [
    "X_spec.mean()"
   ]
  },
  {
   "cell_type": "code",
   "execution_count": 31,
   "metadata": {},
   "outputs": [
    {
     "data": {
      "text/plain": [
       "2.8945801"
      ]
     },
     "execution_count": 31,
     "metadata": {},
     "output_type": "execute_result"
    }
   ],
   "source": [
    "X_spec.std()"
   ]
  },
  {
   "cell_type": "code",
   "execution_count": 32,
   "metadata": {},
   "outputs": [],
   "source": [
    "mean = X_spec.mean()\n",
    "std = X_spec.std()"
   ]
  },
  {
   "cell_type": "code",
   "execution_count": 33,
   "metadata": {},
   "outputs": [],
   "source": [
    "X_spec -= mean\n",
    "X_spec /= std"
   ]
  },
  {
   "cell_type": "code",
   "execution_count": 34,
   "metadata": {},
   "outputs": [
    {
     "data": {
      "text/plain": [
       "(-6.8040476e-06, 0.9999992)"
      ]
     },
     "execution_count": 34,
     "metadata": {},
     "output_type": "execute_result"
    }
   ],
   "source": [
    "X_spec.mean(), X_spec.std()"
   ]
  },
  {
   "cell_type": "code",
   "execution_count": 37,
   "metadata": {},
   "outputs": [],
   "source": [
    "X_train, X_test, y_train, y_test = train_test_split(X_spec, y, test_size=0.1,\n",
    "                                                    stratify=y, random_state=10)"
   ]
  },
  {
   "cell_type": "code",
   "execution_count": 107,
   "metadata": {},
   "outputs": [],
   "source": [
    "# X_train, X_val, y_train, y_val = train_test_split(X_train, y_train, test_size=0.1,\n",
    "#                                                     stratify=y_train, random_state=10)"
   ]
  },
  {
   "cell_type": "code",
   "execution_count": 38,
   "metadata": {},
   "outputs": [],
   "source": [
    "X_val, y_val = X_holdout_spec, y_holdout"
   ]
  },
  {
   "cell_type": "code",
   "execution_count": 39,
   "metadata": {},
   "outputs": [],
   "source": [
    "X_val -= mean\n",
    "X_val /= std"
   ]
  },
  {
   "cell_type": "code",
   "execution_count": 40,
   "metadata": {},
   "outputs": [
    {
     "data": {
      "text/plain": [
       "(0.35130706, 1.0471298)"
      ]
     },
     "execution_count": 40,
     "metadata": {},
     "output_type": "execute_result"
    }
   ],
   "source": [
    "X_val.mean(), X_val.std()"
   ]
  },
  {
   "cell_type": "code",
   "execution_count": 44,
   "metadata": {},
   "outputs": [],
   "source": [
    "y_train, y_val, y_test = to_categorical(y_train), to_categorical(y_val),\\\n",
    "                         to_categorical(y_test)"
   ]
  },
  {
   "cell_type": "code",
   "execution_count": 45,
   "metadata": {},
   "outputs": [
    {
     "data": {
      "text/plain": [
       "2    0.838907\n",
       "0    0.132032\n",
       "1    0.029060\n",
       "dtype: float64"
      ]
     },
     "execution_count": 45,
     "metadata": {},
     "output_type": "execute_result"
    }
   ],
   "source": [
    "vc = pd.Series.value_counts(np.argmax(y_train, 1), True)\n",
    "vc"
   ]
  },
  {
   "cell_type": "code",
   "execution_count": 46,
   "metadata": {},
   "outputs": [
    {
     "data": {
      "text/plain": [
       "2    0.771131\n",
       "0    0.188557\n",
       "1    0.040312\n",
       "dtype: float64"
      ]
     },
     "execution_count": 46,
     "metadata": {},
     "output_type": "execute_result"
    }
   ],
   "source": [
    "vc = pd.Series.value_counts(np.argmax(y_val, 1), True)\n",
    "vc"
   ]
  },
  {
   "cell_type": "code",
   "execution_count": 48,
   "metadata": {},
   "outputs": [],
   "source": [
    "frac = 0.75"
   ]
  },
  {
   "cell_type": "code",
   "execution_count": 49,
   "metadata": {},
   "outputs": [
    {
     "data": {
      "text/plain": [
       "(2.067241379310345, 13.346774193548388)"
      ]
     },
     "execution_count": 49,
     "metadata": {},
     "output_type": "execute_result"
    }
   ],
   "source": [
    "vc[2] / vc[0] * frac - 1, vc[2] / vc[1] * frac - 1"
   ]
  },
  {
   "cell_type": "code",
   "execution_count": 50,
   "metadata": {},
   "outputs": [],
   "source": [
    "X_train = np.vstack((X_train, np.repeat(X_train[np.argmax(y_train, 1) == 0], 4, 0)))\n",
    "y_train = np.vstack((y_train, np.repeat(y_train[np.argmax(y_train, 1) == 0], 4, 0)))"
   ]
  },
  {
   "cell_type": "code",
   "execution_count": 51,
   "metadata": {},
   "outputs": [],
   "source": [
    "X_train = np.vstack((X_train, np.repeat(X_train[np.argmax(y_train, 1) == 1], 20, 0)))\n",
    "y_train = np.vstack((y_train, np.repeat(y_train[np.argmax(y_train, 1) == 1], 20, 0)))"
   ]
  },
  {
   "cell_type": "code",
   "execution_count": 52,
   "metadata": {},
   "outputs": [
    {
     "data": {
      "text/plain": [
       "2    0.397711\n",
       "0    0.312971\n",
       "1    0.289317\n",
       "dtype: float64"
      ]
     },
     "execution_count": 52,
     "metadata": {},
     "output_type": "execute_result"
    }
   ],
   "source": [
    "pd.Series.value_counts(np.argmax(y_train, 1), True)"
   ]
  },
  {
   "cell_type": "markdown",
   "metadata": {},
   "source": [
    "---"
   ]
  },
  {
   "cell_type": "code",
   "execution_count": 53,
   "metadata": {},
   "outputs": [],
   "source": [
    "from sklearn.model_selection import cross_val_score, train_test_split\n",
    "from sklearn.metrics import accuracy_score, confusion_matrix\n",
    "from sklearn.metrics import classification_report"
   ]
  },
  {
   "cell_type": "code",
   "execution_count": 54,
   "metadata": {},
   "outputs": [],
   "source": [
    "import keras\n",
    "from keras.models import Sequential, Model\n",
    "from keras.layers import Conv2D, MaxPool2D, Dense, Flatten, Dropout, AveragePooling2D\n",
    "from keras.layers import GRU, BatchNormalization, Reshape\n",
    "from keras.utils import to_categorical\n",
    "from keras.layers import Input, Conv1D, Activation, MaxPool1D\n",
    "from keras.models import Model"
   ]
  },
  {
   "cell_type": "markdown",
   "metadata": {},
   "source": [
    "# Rnn model"
   ]
  },
  {
   "cell_type": "code",
   "execution_count": 55,
   "metadata": {},
   "outputs": [],
   "source": [
    "def create_rnn_model(input_shape):\n",
    "    x_input = Input(input_shape)\n",
    "    x = Reshape(input_shape[:-1])(x_input)\n",
    "#     x = Conv1D(64, 1)(x_input)\n",
    "#     x = Activation('relu')(x)\n",
    "    x = Conv1D(128, 3)(x)\n",
    "    x = BatchNormalization()(x)\n",
    "    x = Activation('relu')(x)\n",
    "    x = Dropout(0.5)(x)\n",
    "    \n",
    "    x = GRU(128, return_sequences=True)(x)\n",
    "    x = Dropout(0.5)(x)\n",
    "    x = BatchNormalization()(x)\n",
    "    \n",
    "    x = GRU(192, return_sequences=False)(x)\n",
    "    x = Dropout(0.5)(x)\n",
    "    x = BatchNormalization()(x)\n",
    "    \n",
    "    x = Dense(3, activation='softmax')(x)\n",
    "    model = Model(inputs=x_input, outputs=x)\n",
    "    return model"
   ]
  },
  {
   "cell_type": "code",
   "execution_count": 56,
   "metadata": {},
   "outputs": [],
   "source": [
    "rnn_model = create_rnn_model(X_train[0].shape)"
   ]
  },
  {
   "cell_type": "code",
   "execution_count": 57,
   "metadata": {},
   "outputs": [
    {
     "data": {
      "text/plain": [
       "(28, 100, 1)"
      ]
     },
     "execution_count": 57,
     "metadata": {},
     "output_type": "execute_result"
    }
   ],
   "source": [
    "X_train[0].shape"
   ]
  },
  {
   "cell_type": "code",
   "execution_count": 58,
   "metadata": {},
   "outputs": [
    {
     "name": "stdout",
     "output_type": "stream",
     "text": [
      "_________________________________________________________________\n",
      "Layer (type)                 Output Shape              Param #   \n",
      "=================================================================\n",
      "input_1 (InputLayer)         (None, 28, 100, 1)        0         \n",
      "_________________________________________________________________\n",
      "reshape_1 (Reshape)          (None, 28, 100)           0         \n",
      "_________________________________________________________________\n",
      "conv1d_1 (Conv1D)            (None, 26, 128)           38528     \n",
      "_________________________________________________________________\n",
      "batch_normalization_1 (Batch (None, 26, 128)           512       \n",
      "_________________________________________________________________\n",
      "activation_1 (Activation)    (None, 26, 128)           0         \n",
      "_________________________________________________________________\n",
      "dropout_1 (Dropout)          (None, 26, 128)           0         \n",
      "_________________________________________________________________\n",
      "gru_1 (GRU)                  (None, 26, 128)           98688     \n",
      "_________________________________________________________________\n",
      "dropout_2 (Dropout)          (None, 26, 128)           0         \n",
      "_________________________________________________________________\n",
      "batch_normalization_2 (Batch (None, 26, 128)           512       \n",
      "_________________________________________________________________\n",
      "gru_2 (GRU)                  (None, 192)               184896    \n",
      "_________________________________________________________________\n",
      "dropout_3 (Dropout)          (None, 192)               0         \n",
      "_________________________________________________________________\n",
      "batch_normalization_3 (Batch (None, 192)               768       \n",
      "_________________________________________________________________\n",
      "dense_1 (Dense)              (None, 3)                 579       \n",
      "=================================================================\n",
      "Total params: 324,483\n",
      "Trainable params: 323,587\n",
      "Non-trainable params: 896\n",
      "_________________________________________________________________\n"
     ]
    }
   ],
   "source": [
    "rnn_model.summary()"
   ]
  },
  {
   "cell_type": "code",
   "execution_count": 59,
   "metadata": {},
   "outputs": [],
   "source": [
    "rnn_model.compile('adam', 'categorical_crossentropy')"
   ]
  },
  {
   "cell_type": "code",
   "execution_count": 61,
   "metadata": {},
   "outputs": [
    {
     "data": {
      "text/plain": [
       "(3, 100, 128)"
      ]
     },
     "execution_count": 61,
     "metadata": {},
     "output_type": "execute_result"
    }
   ],
   "source": [
    "rnn_model.get_weights()[0].shape"
   ]
  },
  {
   "cell_type": "markdown",
   "metadata": {},
   "source": [
    "## Training"
   ]
  },
  {
   "cell_type": "code",
   "execution_count": 62,
   "metadata": {},
   "outputs": [
    {
     "data": {
      "text/plain": [
       "2    0.839006\n",
       "0    0.131821\n",
       "1    0.029173\n",
       "dtype: float64"
      ]
     },
     "execution_count": 62,
     "metadata": {},
     "output_type": "execute_result"
    }
   ],
   "source": [
    "pd.Series.value_counts(np.argmax(y_test, 1), True)"
   ]
  },
  {
   "cell_type": "code",
   "execution_count": 63,
   "metadata": {},
   "outputs": [],
   "source": [
    "def schedule(i, lr):\n",
    "    if i == 0:\n",
    "        lr *= 0.5\n",
    "    if i == 5:\n",
    "        lr *= 0.2\n",
    "    if i == 10:\n",
    "        lr *= 0.2\n",
    "    return lr"
   ]
  },
  {
   "cell_type": "code",
   "execution_count": 64,
   "metadata": {
    "scrolled": false
   },
   "outputs": [
    {
     "name": "stdout",
     "output_type": "stream",
     "text": [
      "Train on 35131 samples, validate on 1851 samples\n",
      "Epoch 1/10\n",
      "\n",
      "Epoch 00001: LearningRateScheduler reducing learning rate to 0.0005000000237487257.\n",
      "35131/35131 [==============================] - 24s 695us/step - loss: 0.5890 - val_loss: 0.7326\n",
      "Epoch 2/10\n",
      "\n",
      "Epoch 00002: LearningRateScheduler reducing learning rate to 0.0005000000237487257.\n",
      "35131/35131 [==============================] - 23s 655us/step - loss: 0.3152 - val_loss: 0.6739\n",
      "Epoch 3/10\n",
      "\n",
      "Epoch 00003: LearningRateScheduler reducing learning rate to 0.0005000000237487257.\n",
      "35131/35131 [==============================] - 23s 647us/step - loss: 0.2285 - val_loss: 0.4092\n",
      "Epoch 4/10\n",
      "\n",
      "Epoch 00004: LearningRateScheduler reducing learning rate to 0.0005000000237487257.\n",
      "35131/35131 [==============================] - 23s 656us/step - loss: 0.1817 - val_loss: 0.3826\n",
      "Epoch 5/10\n",
      "\n",
      "Epoch 00005: LearningRateScheduler reducing learning rate to 0.0005000000237487257.\n",
      "35131/35131 [==============================] - 23s 659us/step - loss: 0.1499 - val_loss: 0.4624\n",
      "Epoch 6/10\n",
      "\n",
      "Epoch 00006: LearningRateScheduler reducing learning rate to 0.00010000000474974513.\n",
      "35131/35131 [==============================] - 23s 649us/step - loss: 0.1117 - val_loss: 0.2972\n",
      "Epoch 7/10\n",
      "\n",
      "Epoch 00007: LearningRateScheduler reducing learning rate to 0.00010000000474974513.\n",
      "35131/35131 [==============================] - 23s 663us/step - loss: 0.1008 - val_loss: 0.2443\n",
      "Epoch 8/10\n",
      "\n",
      "Epoch 00008: LearningRateScheduler reducing learning rate to 0.00010000000474974513.\n",
      "35131/35131 [==============================] - 23s 656us/step - loss: 0.0969 - val_loss: 0.2627\n",
      "Epoch 9/10\n",
      "\n",
      "Epoch 00009: LearningRateScheduler reducing learning rate to 0.00010000000474974513.\n",
      "35131/35131 [==============================] - 23s 654us/step - loss: 0.0934 - val_loss: 0.3179\n",
      "Epoch 10/10\n",
      "\n",
      "Epoch 00010: LearningRateScheduler reducing learning rate to 0.00010000000474974513.\n",
      "35131/35131 [==============================] - 23s 659us/step - loss: 0.0835 - val_loss: 0.2567\n"
     ]
    }
   ],
   "source": [
    "hist = rnn_model.fit(X_train, y_train, batch_size=128, epochs=10,\n",
    "#                  class_weight={0: 3, 1: 5, 2: 1},\n",
    "                 validation_data=(X_test, y_test), # val\n",
    "                 callbacks=[keras.callbacks.LearningRateScheduler(schedule, verbose=1)])"
   ]
  },
  {
   "cell_type": "code",
   "execution_count": 66,
   "metadata": {},
   "outputs": [
    {
     "name": "stdout",
     "output_type": "stream",
     "text": [
      "769/769 [==============================] - 0s 259us/step\n"
     ]
    }
   ],
   "source": [
    "pr = rnn_model.predict(X_val, batch_size=128, verbose=1)"
   ]
  },
  {
   "cell_type": "code",
   "execution_count": 67,
   "metadata": {},
   "outputs": [],
   "source": [
    "pr = pr.argmax(1)"
   ]
  },
  {
   "cell_type": "code",
   "execution_count": 68,
   "metadata": {},
   "outputs": [
    {
     "data": {
      "text/plain": [
       "2    554\n",
       "0    184\n",
       "1     31\n",
       "dtype: int64"
      ]
     },
     "execution_count": 68,
     "metadata": {},
     "output_type": "execute_result"
    }
   ],
   "source": [
    "pd.Series.value_counts(pr)"
   ]
  },
  {
   "cell_type": "code",
   "execution_count": 69,
   "metadata": {},
   "outputs": [
    {
     "data": {
      "text/plain": [
       "0.8894668400520156"
      ]
     },
     "execution_count": 69,
     "metadata": {},
     "output_type": "execute_result"
    }
   ],
   "source": [
    "accuracy_score(np.argmax(y_val, 1), pr)"
   ]
  },
  {
   "cell_type": "code",
   "execution_count": 70,
   "metadata": {},
   "outputs": [
    {
     "data": {
      "text/plain": [
       "[<matplotlib.lines.Line2D at 0x7f985d998518>]"
      ]
     },
     "execution_count": 70,
     "metadata": {},
     "output_type": "execute_result"
    },
    {
     "data": {
      "image/png": "[encoded data removed]",
      "text/plain": [
       "<matplotlib.figure.Figure at 0x7f985d998780>"
      ]
     },
     "metadata": {},
     "output_type": "display_data"
    }
   ],
   "source": [
    "plt.plot(hist.history['loss'], label='loss')\n",
    "plt.plot(hist.history['val_loss'], label='val_loss')"
   ]
  },
  {
   "cell_type": "code",
   "execution_count": 71,
   "metadata": {},
   "outputs": [
    {
     "name": "stdout",
     "output_type": "stream",
     "text": [
      "             precision    recall  f1-score   support\n",
      "\n",
      "          0       0.73      0.92      0.81       145\n",
      "          1       0.61      0.61      0.61        31\n",
      "          2       0.96      0.90      0.93       593\n",
      "\n",
      "avg / total       0.90      0.89      0.89       769\n",
      "\n"
     ]
    }
   ],
   "source": [
    "print(classification_report(np.argmax(y_val, 1), pr))"
   ]
  },
  {
   "cell_type": "markdown",
   "metadata": {},
   "source": [
    "---"
   ]
  },
  {
   "cell_type": "code",
   "execution_count": 72,
   "metadata": {},
   "outputs": [
    {
     "name": "stdout",
     "output_type": "stream",
     "text": [
      "1851/1851 [==============================] - 0s 203us/step\n"
     ]
    }
   ],
   "source": [
    "pr = rnn_model.predict(X_test, batch_size=128, verbose=1)"
   ]
  },
  {
   "cell_type": "code",
   "execution_count": 73,
   "metadata": {},
   "outputs": [],
   "source": [
    "pr = pr.argmax(1)"
   ]
  },
  {
   "cell_type": "code",
   "execution_count": 74,
   "metadata": {},
   "outputs": [
    {
     "data": {
      "text/plain": [
       "0.9303079416531604"
      ]
     },
     "execution_count": 74,
     "metadata": {},
     "output_type": "execute_result"
    }
   ],
   "source": [
    "accuracy_score(np.argmax(y_test, 1), pr)"
   ]
  },
  {
   "cell_type": "code",
   "execution_count": 75,
   "metadata": {},
   "outputs": [
    {
     "name": "stdout",
     "output_type": "stream",
     "text": [
      "             precision    recall  f1-score   support\n",
      "\n",
      "          0       0.84      0.97      0.90       244\n",
      "          1       0.40      0.89      0.55        54\n",
      "          2       0.99      0.93      0.96      1553\n",
      "\n",
      "avg / total       0.95      0.93      0.94      1851\n",
      "\n"
     ]
    }
   ],
   "source": [
    "print(classification_report(np.argmax(y_test, 1), pr))"
   ]
  },
  {
   "cell_type": "markdown",
   "metadata": {},
   "source": [
    "---"
   ]
  },
  {
   "cell_type": "code",
   "execution_count": 77,
   "metadata": {},
   "outputs": [
    {
     "name": "stdout",
     "output_type": "stream",
     "text": [
      "20.9 ms ± 1.81 ms per loop (mean ± std. dev. of 7 runs, 10 loops each)\n"
     ]
    }
   ],
   "source": [
    "%timeit rnn_model.predict(X_val[:1, :, :])"
   ]
  },
  {
   "cell_type": "markdown",
   "metadata": {},
   "source": [
    "## Saving"
   ]
  },
  {
   "cell_type": "code",
   "execution_count": 78,
   "metadata": {},
   "outputs": [],
   "source": [
    "rnn_model.save('../cache/rnn_model.h5')"
   ]
  },
  {
   "cell_type": "code",
   "execution_count": 79,
   "metadata": {},
   "outputs": [],
   "source": [
    "rnn_model_json = rnn_model.to_json()"
   ]
  },
  {
   "cell_type": "code",
   "execution_count": 80,
   "metadata": {},
   "outputs": [],
   "source": [
    "with open('../cache/rnn_model.json', 'w') as f:\n",
    "    f.write(rnn_model_json)"
   ]
  },
  {
   "cell_type": "code",
   "execution_count": 81,
   "metadata": {},
   "outputs": [],
   "source": [
    "rnn_model.save_weights('../cache/rnn_model_weights.h5')"
   ]
  },
  {
   "cell_type": "markdown",
   "metadata": {},
   "source": [
    "# Cnn model"
   ]
  },
  {
   "cell_type": "code",
   "execution_count": 82,
   "metadata": {},
   "outputs": [],
   "source": [
    "def create_cnn_model(input_shape):\n",
    "    x_input = Input(input_shape)\n",
    "    x = Conv2D(16, 3, activation='relu', padding='same')(x_input)\n",
    "    x = Conv2D(16, 3, activation='relu', padding='same')(x)\n",
    "    x = MaxPool2D((2, 3))(x)\n",
    "    \n",
    "    x = Conv2D(32, 3, activation='relu', padding='same')(x)\n",
    "    x = Conv2D(32, 3, activation='relu', padding='same')(x)\n",
    "    x = MaxPool2D()(x)\n",
    "\n",
    "    x = Conv2D(64, 3, activation='relu', padding='same')(x)\n",
    "    x = Conv2D(64, 3, activation='relu', padding='same')(x)\n",
    "    x = MaxPool2D()(x)\n",
    "    \n",
    "    x = Conv2D(128, 3, activation='relu')(x)\n",
    "    x = Conv2D(128, (1, 6), activation='relu')(x)\n",
    "    \n",
    "    x = Flatten()(x)\n",
    "    x = Dropout(0.5)(x)\n",
    "    x = Dense(3, activation='softmax')(x)\n",
    "\n",
    "    model = Model(inputs=x_input, outputs=x)\n",
    "    return model"
   ]
  },
  {
   "cell_type": "code",
   "execution_count": 83,
   "metadata": {},
   "outputs": [],
   "source": [
    "cnn_model = create_cnn_model(X_train[0].shape)"
   ]
  },
  {
   "cell_type": "code",
   "execution_count": 84,
   "metadata": {},
   "outputs": [
    {
     "name": "stdout",
     "output_type": "stream",
     "text": [
      "_________________________________________________________________\n",
      "Layer (type)                 Output Shape              Param #   \n",
      "=================================================================\n",
      "input_2 (InputLayer)         (None, 28, 100, 1)        0         \n",
      "_________________________________________________________________\n",
      "conv2d_1 (Conv2D)            (None, 28, 100, 16)       160       \n",
      "_________________________________________________________________\n",
      "conv2d_2 (Conv2D)            (None, 28, 100, 16)       2320      \n",
      "_________________________________________________________________\n",
      "max_pooling2d_1 (MaxPooling2 (None, 14, 33, 16)        0         \n",
      "_________________________________________________________________\n",
      "conv2d_3 (Conv2D)            (None, 14, 33, 32)        4640      \n",
      "_________________________________________________________________\n",
      "conv2d_4 (Conv2D)            (None, 14, 33, 32)        9248      \n",
      "_________________________________________________________________\n",
      "max_pooling2d_2 (MaxPooling2 (None, 7, 16, 32)         0         \n",
      "_________________________________________________________________\n",
      "conv2d_5 (Conv2D)            (None, 7, 16, 64)         18496     \n",
      "_________________________________________________________________\n",
      "conv2d_6 (Conv2D)            (None, 7, 16, 64)         36928     \n",
      "_________________________________________________________________\n",
      "max_pooling2d_3 (MaxPooling2 (None, 3, 8, 64)          0         \n",
      "_________________________________________________________________\n",
      "conv2d_7 (Conv2D)            (None, 1, 6, 128)         73856     \n",
      "_________________________________________________________________\n",
      "conv2d_8 (Conv2D)            (None, 1, 1, 128)         98432     \n",
      "_________________________________________________________________\n",
      "flatten_1 (Flatten)          (None, 128)               0         \n",
      "_________________________________________________________________\n",
      "dropout_4 (Dropout)          (None, 128)               0         \n",
      "_________________________________________________________________\n",
      "dense_2 (Dense)              (None, 3)                 387       \n",
      "=================================================================\n",
      "Total params: 244,467\n",
      "Trainable params: 244,467\n",
      "Non-trainable params: 0\n",
      "_________________________________________________________________\n"
     ]
    }
   ],
   "source": [
    "cnn_model.summary()"
   ]
  },
  {
   "cell_type": "code",
   "execution_count": 85,
   "metadata": {},
   "outputs": [
    {
     "data": {
      "text/plain": [
       "(28, 100, 1)"
      ]
     },
     "execution_count": 85,
     "metadata": {},
     "output_type": "execute_result"
    }
   ],
   "source": [
    "X_train[0].shape"
   ]
  },
  {
   "cell_type": "code",
   "execution_count": 86,
   "metadata": {},
   "outputs": [],
   "source": [
    "cnn_model.compile('adam', 'categorical_crossentropy')"
   ]
  },
  {
   "cell_type": "markdown",
   "metadata": {},
   "source": [
    "## Training"
   ]
  },
  {
   "cell_type": "code",
   "execution_count": 87,
   "metadata": {},
   "outputs": [],
   "source": [
    "# def schedule(i, lr):\n",
    "#     if i == 0:\n",
    "#         lr *= 0.5\n",
    "#     if i == 5:\n",
    "#         lr *= 0.2\n",
    "#     if i == 10:\n",
    "#         lr *= 0.2\n",
    "#     return lr"
   ]
  },
  {
   "cell_type": "code",
   "execution_count": 88,
   "metadata": {},
   "outputs": [],
   "source": [
    "def schedule(i, lr):\n",
    "    if i == 0:\n",
    "        lr *= 0.5\n",
    "    if i == 5:\n",
    "        lr *= 0.2\n",
    "    if i == 10:\n",
    "        lr *= 0.2\n",
    "    return lr"
   ]
  },
  {
   "cell_type": "code",
   "execution_count": 89,
   "metadata": {
    "scrolled": false
   },
   "outputs": [
    {
     "name": "stdout",
     "output_type": "stream",
     "text": [
      "Train on 35131 samples, validate on 1851 samples\n",
      "Epoch 1/7\n",
      "\n",
      "Epoch 00001: LearningRateScheduler reducing learning rate to 0.0005000000237487257.\n",
      "35131/35131 [==============================] - 5s 130us/step - loss: 0.4940 - val_loss: 0.2785\n",
      "Epoch 2/7\n",
      "\n",
      "Epoch 00002: LearningRateScheduler reducing learning rate to 0.0005000000237487257.\n",
      "35131/35131 [==============================] - 4s 115us/step - loss: 0.2157 - val_loss: 0.1826\n",
      "Epoch 3/7\n",
      "\n",
      "Epoch 00003: LearningRateScheduler reducing learning rate to 0.0005000000237487257.\n",
      "35131/35131 [==============================] - 4s 115us/step - loss: 0.1276 - val_loss: 0.2556\n",
      "Epoch 4/7\n",
      "\n",
      "Epoch 00004: LearningRateScheduler reducing learning rate to 0.0005000000237487257.\n",
      "35131/35131 [==============================] - 4s 116us/step - loss: 0.0972 - val_loss: 0.2067\n",
      "Epoch 5/7\n",
      "\n",
      "Epoch 00005: LearningRateScheduler reducing learning rate to 0.0005000000237487257.\n",
      "35131/35131 [==============================] - 4s 114us/step - loss: 0.0664 - val_loss: 0.2348\n",
      "Epoch 6/7\n",
      "\n",
      "Epoch 00006: LearningRateScheduler reducing learning rate to 0.00010000000474974513.\n",
      "35131/35131 [==============================] - 4s 114us/step - loss: 0.0393 - val_loss: 0.1812\n",
      "Epoch 7/7\n",
      "\n",
      "Epoch 00007: LearningRateScheduler reducing learning rate to 0.00010000000474974513.\n",
      "35131/35131 [==============================] - 4s 114us/step - loss: 0.0286 - val_loss: 0.1836\n"
     ]
    }
   ],
   "source": [
    "hist = cnn_model.fit(X_train, y_train, batch_size=128, epochs=7,\n",
    "#                  class_weight={0: 3, 1: 5, 2: 1},\n",
    "                 validation_data=(X_test, y_test), # val\n",
    "                 callbacks=[keras.callbacks.LearningRateScheduler(schedule, verbose=1)])"
   ]
  },
  {
   "cell_type": "code",
   "execution_count": 90,
   "metadata": {},
   "outputs": [
    {
     "name": "stdout",
     "output_type": "stream",
     "text": [
      "769/769 [==============================] - 0s 294us/step\n"
     ]
    }
   ],
   "source": [
    "pr = cnn_model.predict(X_val, batch_size=128, verbose=1)"
   ]
  },
  {
   "cell_type": "code",
   "execution_count": 91,
   "metadata": {},
   "outputs": [],
   "source": [
    "pr = pr.argmax(1)"
   ]
  },
  {
   "cell_type": "code",
   "execution_count": 92,
   "metadata": {},
   "outputs": [
    {
     "data": {
      "text/plain": [
       "2    587\n",
       "0    152\n",
       "1     30\n",
       "dtype: int64"
      ]
     },
     "execution_count": 92,
     "metadata": {},
     "output_type": "execute_result"
    }
   ],
   "source": [
    "pd.Series.value_counts(pr)"
   ]
  },
  {
   "cell_type": "code",
   "execution_count": 93,
   "metadata": {},
   "outputs": [
    {
     "data": {
      "text/plain": [
       "0.929778933680104"
      ]
     },
     "execution_count": 93,
     "metadata": {},
     "output_type": "execute_result"
    }
   ],
   "source": [
    "accuracy_score(np.argmax(y_val, 1), pr)"
   ]
  },
  {
   "cell_type": "code",
   "execution_count": 94,
   "metadata": {},
   "outputs": [
    {
     "data": {
      "text/plain": [
       "[<matplotlib.lines.Line2D at 0x7f985311db70>]"
      ]
     },
     "execution_count": 94,
     "metadata": {},
     "output_type": "execute_result"
    },
    {
     "data": {
      "image/png": "[encoded data removed]",
      "text/plain": [
       "<matplotlib.figure.Figure at 0x7f985311dba8>"
      ]
     },
     "metadata": {},
     "output_type": "display_data"
    }
   ],
   "source": [
    "plt.plot(hist.history['loss'], label='loss')\n",
    "plt.plot(hist.history['val_loss'], label='val_loss')"
   ]
  },
  {
   "cell_type": "code",
   "execution_count": 95,
   "metadata": {},
   "outputs": [
    {
     "name": "stdout",
     "output_type": "stream",
     "text": [
      "             precision    recall  f1-score   support\n",
      "\n",
      "          0       0.86      0.90      0.88       145\n",
      "          1       0.70      0.68      0.69        31\n",
      "          2       0.96      0.95      0.96       593\n",
      "\n",
      "avg / total       0.93      0.93      0.93       769\n",
      "\n"
     ]
    }
   ],
   "source": [
    "print(classification_report(np.argmax(y_val, 1), pr))"
   ]
  },
  {
   "cell_type": "markdown",
   "metadata": {},
   "source": [
    "---"
   ]
  },
  {
   "cell_type": "code",
   "execution_count": 96,
   "metadata": {},
   "outputs": [
    {
     "name": "stdout",
     "output_type": "stream",
     "text": [
      "1851/1851 [==============================] - 0s 43us/step\n"
     ]
    }
   ],
   "source": [
    "pr = cnn_model.predict(X_test, batch_size=128, verbose=1)"
   ]
  },
  {
   "cell_type": "code",
   "execution_count": 97,
   "metadata": {},
   "outputs": [],
   "source": [
    "pr = pr.argmax(1)"
   ]
  },
  {
   "cell_type": "code",
   "execution_count": 98,
   "metadata": {},
   "outputs": [
    {
     "data": {
      "text/plain": [
       "0.95569962182604"
      ]
     },
     "execution_count": 98,
     "metadata": {},
     "output_type": "execute_result"
    }
   ],
   "source": [
    "accuracy_score(np.argmax(y_test, 1), pr)"
   ]
  },
  {
   "cell_type": "code",
   "execution_count": 99,
   "metadata": {},
   "outputs": [
    {
     "name": "stdout",
     "output_type": "stream",
     "text": [
      "             precision    recall  f1-score   support\n",
      "\n",
      "          0       0.89      0.96      0.92       244\n",
      "          1       0.60      0.65      0.62        54\n",
      "          2       0.98      0.97      0.97      1553\n",
      "\n",
      "avg / total       0.96      0.96      0.96      1851\n",
      "\n"
     ]
    }
   ],
   "source": [
    "print(classification_report(np.argmax(y_test, 1), pr))"
   ]
  },
  {
   "cell_type": "markdown",
   "metadata": {},
   "source": [
    "---"
   ]
  },
  {
   "cell_type": "code",
   "execution_count": 100,
   "metadata": {},
   "outputs": [
    {
     "name": "stdout",
     "output_type": "stream",
     "text": [
      "1.88 ms ± 88.6 µs per loop (mean ± std. dev. of 7 runs, 100 loops each)\n"
     ]
    }
   ],
   "source": [
    "%timeit cnn_model.predict(X_val[:1, :, :])"
   ]
  },
  {
   "cell_type": "markdown",
   "metadata": {},
   "source": [
    "## Saving"
   ]
  },
  {
   "cell_type": "code",
   "execution_count": 101,
   "metadata": {},
   "outputs": [],
   "source": [
    "cnn_model.save('../cache/cnn_model.h5')"
   ]
  },
  {
   "cell_type": "code",
   "execution_count": 102,
   "metadata": {},
   "outputs": [],
   "source": [
    "cnn_model_json = cnn_model.to_json()"
   ]
  },
  {
   "cell_type": "code",
   "execution_count": 103,
   "metadata": {},
   "outputs": [],
   "source": [
    "with open('../cache/cnn_model.json', 'w') as f:\n",
    "    f.write(cnn_model_json)"
   ]
  },
  {
   "cell_type": "code",
   "execution_count": 104,
   "metadata": {},
   "outputs": [],
   "source": [
    "cnn_model.save_weights('../cache/cnn_model_weights.h5')"
   ]
  },
  {
   "cell_type": "markdown",
   "metadata": {},
   "source": [
    "# Twin model"
   ]
  },
  {
   "cell_type": "code",
   "execution_count": 328,
   "metadata": {},
   "outputs": [],
   "source": [
    "from keras.utils import plot_model\n",
    "from keras.layers import concatenate"
   ]
  },
  {
   "cell_type": "code",
   "execution_count": 329,
   "metadata": {},
   "outputs": [],
   "source": [
    "plot_model(cnn_model, '../cache/cnn_model.png', show_shapes=True)"
   ]
  },
  {
   "cell_type": "code",
   "execution_count": 330,
   "metadata": {},
   "outputs": [],
   "source": [
    "plot_model(rnn_model, '../cache/rnn_model.png', show_shapes=True)"
   ]
  },
  {
   "cell_type": "code",
   "execution_count": 343,
   "metadata": {},
   "outputs": [],
   "source": [
    "def create_twin_model(input_shape):\n",
    "    x_input = Input(input_shape)\n",
    "    \n",
    "    # Cnn part\n",
    "    c = Conv2D(16, 3, activation='relu', padding='same')(x_input)\n",
    "    c = Conv2D(16, 3, activation='relu', padding='same')(c)\n",
    "    c = MaxPool2D((2, 3))(c)\n",
    "    \n",
    "    c = Conv2D(16, 3, activation='relu', padding='same')(c)\n",
    "    c = Conv2D(32, 3, activation='relu', padding='same')(c)\n",
    "    c = MaxPool2D()(c)\n",
    "\n",
    "    c = Conv2D(32, 3, activation='relu', padding='same')(c)\n",
    "    c = Conv2D(64, 3, activation='relu', padding='same')(c)\n",
    "    c = MaxPool2D()(c)\n",
    "    \n",
    "    c = Conv2D(64, 3, activation='relu')(c)\n",
    "    c = Conv2D(128, (1, 6), activation='relu')(c)\n",
    "#     c = Flatten()(c)\n",
    "    c = Reshape((int(c.shape[-1:][0]),))(c)\n",
    "    c = Dropout(0.5)(c)\n",
    "    \n",
    "    # Rnn part\n",
    "    r = Reshape(input_shape[:-1])(x_input)\n",
    "    r = Conv1D(96, 3)(r)\n",
    "    r = BatchNormalization()(r)\n",
    "    r = Activation('relu')(r)\n",
    "    r = Dropout(0.5)(r)\n",
    "    \n",
    "    r = GRU(96, return_sequences=True)(r)\n",
    "    r = Dropout(0.5)(r)\n",
    "    r = BatchNormalization()(r)\n",
    "    \n",
    "    r = GRU(64, return_sequences=False)(r)\n",
    "    r = Dropout(0.5)(r)\n",
    "    r = BatchNormalization()(r)\n",
    "    \n",
    "    x = concatenate([c, r])\n",
    "    x = Dense(64, activation='relu')(x)\n",
    "    x = Dense(3, activation='softmax')(x)\n",
    "    \n",
    "    model = Model(inputs=x_input, outputs=x)\n",
    "    return model"
   ]
  },
  {
   "cell_type": "code",
   "execution_count": 344,
   "metadata": {},
   "outputs": [],
   "source": [
    "twin_model = create_twin_model(X_train[0].shape)"
   ]
  },
  {
   "cell_type": "code",
   "execution_count": 345,
   "metadata": {},
   "outputs": [
    {
     "name": "stdout",
     "output_type": "stream",
     "text": [
      "__________________________________________________________________________________________________\n",
      "Layer (type)                    Output Shape         Param #     Connected to                     \n",
      "==================================================================================================\n",
      "input_20 (InputLayer)           (None, 28, 100, 1)   0                                            \n",
      "__________________________________________________________________________________________________\n",
      "conv2d_142 (Conv2D)             (None, 28, 100, 16)  160         input_20[0][0]                   \n",
      "__________________________________________________________________________________________________\n",
      "conv2d_143 (Conv2D)             (None, 28, 100, 16)  2320        conv2d_142[0][0]                 \n",
      "__________________________________________________________________________________________________\n",
      "max_pooling2d_55 (MaxPooling2D) (None, 14, 33, 16)   0           conv2d_143[0][0]                 \n",
      "__________________________________________________________________________________________________\n",
      "reshape_36 (Reshape)            (None, 28, 100)      0           input_20[0][0]                   \n",
      "__________________________________________________________________________________________________\n",
      "conv2d_144 (Conv2D)             (None, 14, 33, 16)   2320        max_pooling2d_55[0][0]           \n",
      "__________________________________________________________________________________________________\n",
      "conv1d_18 (Conv1D)              (None, 26, 96)       28896       reshape_36[0][0]                 \n",
      "__________________________________________________________________________________________________\n",
      "conv2d_145 (Conv2D)             (None, 14, 33, 32)   4640        conv2d_144[0][0]                 \n",
      "__________________________________________________________________________________________________\n",
      "batch_normalization_52 (BatchNo (None, 26, 96)       384         conv1d_18[0][0]                  \n",
      "__________________________________________________________________________________________________\n",
      "max_pooling2d_56 (MaxPooling2D) (None, 7, 16, 32)    0           conv2d_145[0][0]                 \n",
      "__________________________________________________________________________________________________\n",
      "activation_18 (Activation)      (None, 26, 96)       0           batch_normalization_52[0][0]     \n",
      "__________________________________________________________________________________________________\n",
      "conv2d_146 (Conv2D)             (None, 7, 16, 32)    9248        max_pooling2d_56[0][0]           \n",
      "__________________________________________________________________________________________________\n",
      "dropout_70 (Dropout)            (None, 26, 96)       0           activation_18[0][0]              \n",
      "__________________________________________________________________________________________________\n",
      "conv2d_147 (Conv2D)             (None, 7, 16, 64)    18496       conv2d_146[0][0]                 \n",
      "__________________________________________________________________________________________________\n",
      "gru_35 (GRU)                    (None, 26, 96)       55584       dropout_70[0][0]                 \n",
      "__________________________________________________________________________________________________\n",
      "max_pooling2d_57 (MaxPooling2D) (None, 3, 8, 64)     0           conv2d_147[0][0]                 \n",
      "__________________________________________________________________________________________________\n",
      "dropout_71 (Dropout)            (None, 26, 96)       0           gru_35[0][0]                     \n",
      "__________________________________________________________________________________________________\n",
      "conv2d_148 (Conv2D)             (None, 1, 6, 64)     36928       max_pooling2d_57[0][0]           \n",
      "__________________________________________________________________________________________________\n",
      "batch_normalization_53 (BatchNo (None, 26, 96)       384         dropout_71[0][0]                 \n",
      "__________________________________________________________________________________________________\n",
      "conv2d_149 (Conv2D)             (None, 1, 1, 128)    49280       conv2d_148[0][0]                 \n",
      "__________________________________________________________________________________________________\n",
      "gru_36 (GRU)                    (None, 64)           30912       batch_normalization_53[0][0]     \n",
      "__________________________________________________________________________________________________\n",
      "reshape_35 (Reshape)            (None, 128)          0           conv2d_149[0][0]                 \n",
      "__________________________________________________________________________________________________\n",
      "dropout_72 (Dropout)            (None, 64)           0           gru_36[0][0]                     \n",
      "__________________________________________________________________________________________________\n",
      "dropout_69 (Dropout)            (None, 128)          0           reshape_35[0][0]                 \n",
      "__________________________________________________________________________________________________\n",
      "batch_normalization_54 (BatchNo (None, 64)           256         dropout_72[0][0]                 \n",
      "__________________________________________________________________________________________________\n",
      "concatenate_17 (Concatenate)    (None, 192)          0           dropout_69[0][0]                 \n",
      "                                                                 batch_normalization_54[0][0]     \n",
      "__________________________________________________________________________________________________\n",
      "dense_24 (Dense)                (None, 64)           12352       concatenate_17[0][0]             \n",
      "__________________________________________________________________________________________________\n",
      "dense_25 (Dense)                (None, 3)            195         dense_24[0][0]                   \n",
      "==================================================================================================\n",
      "Total params: 252,355\n",
      "Trainable params: 251,843\n",
      "Non-trainable params: 512\n",
      "__________________________________________________________________________________________________\n"
     ]
    }
   ],
   "source": [
    "twin_model.summary()"
   ]
  },
  {
   "cell_type": "code",
   "execution_count": 346,
   "metadata": {},
   "outputs": [],
   "source": [
    "plot_model(twin_model, '../cache/twin_model.png', show_shapes=True)"
   ]
  },
  {
   "cell_type": "code",
   "execution_count": 347,
   "metadata": {},
   "outputs": [],
   "source": [
    "twin_model.compile('adam', 'categorical_crossentropy')"
   ]
  },
  {
   "cell_type": "markdown",
   "metadata": {},
   "source": [
    "## Training"
   ]
  },
  {
   "cell_type": "code",
   "execution_count": 348,
   "metadata": {},
   "outputs": [],
   "source": [
    "def schedule(i, lr):\n",
    "    if i == 0:\n",
    "        lr *= 0.5\n",
    "    if i == 5:\n",
    "        lr *= 0.2\n",
    "    if i == 10:\n",
    "        lr *= 0.2\n",
    "    return lr"
   ]
  },
  {
   "cell_type": "code",
   "execution_count": 349,
   "metadata": {
    "scrolled": false
   },
   "outputs": [
    {
     "name": "stdout",
     "output_type": "stream",
     "text": [
      "Train on 35131 samples, validate on 1851 samples\n",
      "Epoch 1/8\n",
      "\n",
      "Epoch 00001: LearningRateScheduler reducing learning rate to 0.0005000000237487257.\n",
      "35131/35131 [==============================] - 33s 931us/step - loss: 0.4911 - val_loss: 0.6150\n",
      "Epoch 2/8\n",
      "\n",
      "Epoch 00002: LearningRateScheduler reducing learning rate to 0.0005000000237487257.\n",
      "35131/35131 [==============================] - 25s 708us/step - loss: 0.2193 - val_loss: 0.3375\n",
      "Epoch 3/8\n",
      "\n",
      "Epoch 00003: LearningRateScheduler reducing learning rate to 0.0005000000237487257.\n",
      "35131/35131 [==============================] - 25s 707us/step - loss: 0.1478 - val_loss: 0.2249\n",
      "Epoch 4/8\n",
      "\n",
      "Epoch 00004: LearningRateScheduler reducing learning rate to 0.0005000000237487257.\n",
      "35131/35131 [==============================] - 25s 703us/step - loss: 0.1060 - val_loss: 0.2261\n",
      "Epoch 5/8\n",
      "\n",
      "Epoch 00005: LearningRateScheduler reducing learning rate to 0.0005000000237487257.\n",
      "35131/35131 [==============================] - 25s 704us/step - loss: 0.0860 - val_loss: 0.2387\n",
      "Epoch 6/8\n",
      "\n",
      "Epoch 00006: LearningRateScheduler reducing learning rate to 0.00010000000474974513.\n",
      "35131/35131 [==============================] - 25s 700us/step - loss: 0.0542 - val_loss: 0.1801\n",
      "Epoch 7/8\n",
      "\n",
      "Epoch 00007: LearningRateScheduler reducing learning rate to 0.00010000000474974513.\n",
      "35131/35131 [==============================] - 25s 703us/step - loss: 0.0436 - val_loss: 0.1943\n",
      "Epoch 8/8\n",
      "\n",
      "Epoch 00008: LearningRateScheduler reducing learning rate to 0.00010000000474974513.\n",
      "35131/35131 [==============================] - 25s 700us/step - loss: 0.0390 - val_loss: 0.1975\n"
     ]
    }
   ],
   "source": [
    "hist = twin_model.fit(X_train, y_train, batch_size=128, epochs=8,\n",
    "#                  class_weight={0: 3, 1: 5, 2: 1},\n",
    "                 validation_data=(X_test, y_test), # val\n",
    "                 callbacks=[keras.callbacks.LearningRateScheduler(schedule, verbose=1)])"
   ]
  },
  {
   "cell_type": "code",
   "execution_count": 350,
   "metadata": {},
   "outputs": [
    {
     "name": "stdout",
     "output_type": "stream",
     "text": [
      "769/769 [==============================] - 2s 3ms/step\n"
     ]
    }
   ],
   "source": [
    "pr = twin_model.predict(X_val, batch_size=128, verbose=1)"
   ]
  },
  {
   "cell_type": "code",
   "execution_count": 351,
   "metadata": {},
   "outputs": [],
   "source": [
    "pr = pr.argmax(1)"
   ]
  },
  {
   "cell_type": "code",
   "execution_count": 352,
   "metadata": {},
   "outputs": [
    {
     "data": {
      "text/plain": [
       "2    573\n",
       "0    168\n",
       "1     28\n",
       "dtype: int64"
      ]
     },
     "execution_count": 352,
     "metadata": {},
     "output_type": "execute_result"
    }
   ],
   "source": [
    "pd.Series.value_counts(pr)"
   ]
  },
  {
   "cell_type": "code",
   "execution_count": 353,
   "metadata": {},
   "outputs": [
    {
     "data": {
      "text/plain": [
       "0.9258777633289987"
      ]
     },
     "execution_count": 353,
     "metadata": {},
     "output_type": "execute_result"
    }
   ],
   "source": [
    "accuracy_score(np.argmax(y_val, 1), pr)"
   ]
  },
  {
   "cell_type": "code",
   "execution_count": 354,
   "metadata": {},
   "outputs": [
    {
     "data": {
      "text/plain": [
       "[<matplotlib.lines.Line2D at 0x7f958dcda7b8>]"
      ]
     },
     "execution_count": 354,
     "metadata": {},
     "output_type": "execute_result"
    },
    {
     "data": {
      "image/png": "[encoded data removed]",
      "text/plain": [
       "<matplotlib.figure.Figure at 0x7f958dcda710>"
      ]
     },
     "metadata": {},
     "output_type": "display_data"
    }
   ],
   "source": [
    "plt.plot(hist.history['loss'], label='loss')\n",
    "plt.plot(hist.history['val_loss'], label='val_loss')"
   ]
  },
  {
   "cell_type": "code",
   "execution_count": 355,
   "metadata": {},
   "outputs": [
    {
     "name": "stdout",
     "output_type": "stream",
     "text": [
      "             precision    recall  f1-score   support\n",
      "\n",
      "          0       0.82      0.95      0.88       145\n",
      "          1       0.68      0.61      0.64        31\n",
      "          2       0.97      0.94      0.95       593\n",
      "\n",
      "avg / total       0.93      0.93      0.93       769\n",
      "\n"
     ]
    }
   ],
   "source": [
    "print(classification_report(np.argmax(y_val, 1), pr))"
   ]
  },
  {
   "cell_type": "markdown",
   "metadata": {},
   "source": [
    "---"
   ]
  },
  {
   "cell_type": "code",
   "execution_count": 356,
   "metadata": {},
   "outputs": [
    {
     "name": "stdout",
     "output_type": "stream",
     "text": [
      "1851/1851 [==============================] - 0s 208us/step\n"
     ]
    }
   ],
   "source": [
    "pr = twin_model.predict(X_test, batch_size=128, verbose=1)"
   ]
  },
  {
   "cell_type": "code",
   "execution_count": 357,
   "metadata": {},
   "outputs": [],
   "source": [
    "pr = pr.argmax(1)"
   ]
  },
  {
   "cell_type": "code",
   "execution_count": 358,
   "metadata": {},
   "outputs": [
    {
     "data": {
      "text/plain": [
       "0.9535386277687736"
      ]
     },
     "execution_count": 358,
     "metadata": {},
     "output_type": "execute_result"
    }
   ],
   "source": [
    "accuracy_score(np.argmax(y_test, 1), pr)"
   ]
  },
  {
   "cell_type": "code",
   "execution_count": 359,
   "metadata": {},
   "outputs": [
    {
     "name": "stdout",
     "output_type": "stream",
     "text": [
      "             precision    recall  f1-score   support\n",
      "\n",
      "          0       0.87      0.98      0.92       244\n",
      "          1       0.56      0.74      0.64        54\n",
      "          2       0.99      0.96      0.97      1553\n",
      "\n",
      "avg / total       0.96      0.95      0.96      1851\n",
      "\n"
     ]
    }
   ],
   "source": [
    "print(classification_report(np.argmax(y_test, 1), pr))"
   ]
  },
  {
   "cell_type": "markdown",
   "metadata": {},
   "source": [
    "---"
   ]
  },
  {
   "cell_type": "code",
   "execution_count": 360,
   "metadata": {},
   "outputs": [
    {
     "name": "stdout",
     "output_type": "stream",
     "text": [
      "22.7 ms ± 1.32 ms per loop (mean ± std. dev. of 7 runs, 10 loops each)\n"
     ]
    }
   ],
   "source": [
    "%timeit twin_model.predict(X_val[:1, :, :])"
   ]
  },
  {
   "cell_type": "markdown",
   "metadata": {},
   "source": [
    "## Saving"
   ]
  },
  {
   "cell_type": "code",
   "execution_count": 361,
   "metadata": {},
   "outputs": [],
   "source": [
    "twin_model.save('../cache/twin_model.h5')"
   ]
  },
  {
   "cell_type": "code",
   "execution_count": 362,
   "metadata": {},
   "outputs": [],
   "source": [
    "twin_model_json = twin_model.to_json()"
   ]
  },
  {
   "cell_type": "code",
   "execution_count": 363,
   "metadata": {},
   "outputs": [],
   "source": [
    "with open('../cache/twin_model.json', 'w') as f:\n",
    "    f.write(twin_model_json)"
   ]
  },
  {
   "cell_type": "code",
   "execution_count": 364,
   "metadata": {},
   "outputs": [],
   "source": [
    "twin_model.save_weights('../cache/twin_model_weights.h5')"
   ]
  },
  {
   "cell_type": "markdown",
   "metadata": {},
   "source": [
    "# Testing on new data"
   ]
  },
  {
   "cell_type": "code",
   "execution_count": 345,
   "metadata": {},
   "outputs": [],
   "source": [
    "def get_praat_annotations(paths):\n",
    "    dfs = []\n",
    "    for path in paths:\n",
    "        with open(path) as f:\n",
    "            annotation = [l.strip() for l in f.readlines()]\n",
    "            \n",
    "        indxs = [i for i, l in enumerate(annotation) if l == '\"IntervalTier\"']\n",
    "        annotation = annotation[indxs[0] + 5:indxs[1] if len(indxs) > 1\\\n",
    "                                else len(annotation)]\n",
    "        annotation_dicts = []\n",
    "\n",
    "        for s, e, l in zip(annotation[0::3], annotation[1::3], annotation[2::3]):\n",
    "            annotation_dicts.append({\n",
    "                'start': float(s),\n",
    "                'finish': float(e),\n",
    "                'label': l.replace('\"', ''),\n",
    "                'length': float(e) - float(s)\n",
    "            })\n",
    "        df = pd.DataFrame(annotation_dicts)\n",
    "        dfs.append(df)\n",
    "    return dfs\n",
    "\n",
    "test_annotation = get_praat_annotations(['../annotations/lavina_class.TextGrid'])"
   ]
  },
  {
   "cell_type": "code",
   "execution_count": 346,
   "metadata": {},
   "outputs": [],
   "source": [
    "test_audio, sr = librosa.load('../audio/lavina_class.m4a')"
   ]
  },
  {
   "cell_type": "code",
   "execution_count": 347,
   "metadata": {},
   "outputs": [],
   "source": [
    "interval_time = 0.3\n",
    "interval_step = 0.1\n",
    "\n",
    "interval_len, step_len = librosa.time_to_samples(interval_time), \\\n",
    "                 librosa.time_to_samples(interval_step) #[0]"
   ]
  },
  {
   "cell_type": "code",
   "execution_count": 348,
   "metadata": {},
   "outputs": [
    {
     "data": {
      "text/plain": [
       "(6615, 2205)"
      ]
     },
     "execution_count": 348,
     "metadata": {},
     "output_type": "execute_result"
    }
   ],
   "source": [
    "interval_len, step_len"
   ]
  },
  {
   "cell_type": "code",
   "execution_count": 349,
   "metadata": {
    "scrolled": true
   },
   "outputs": [
    {
     "data": {
      "text/plain": [
       "count    53.000000\n",
       "mean      0.352322\n",
       "std       0.106933\n",
       "min       0.190203\n",
       "25%       0.297984\n",
       "50%       0.355045\n",
       "75%       0.393086\n",
       "max       0.798852\n",
       "Name: length, dtype: float64"
      ]
     },
     "execution_count": 349,
     "metadata": {},
     "output_type": "execute_result"
    }
   ],
   "source": [
    "test_annotation[0][test_annotation[0].label == 'a'].length.describe()"
   ]
  },
  {
   "cell_type": "code",
   "execution_count": 350,
   "metadata": {},
   "outputs": [
    {
     "data": {
      "text/plain": [
       "3969"
      ]
     },
     "execution_count": 350,
     "metadata": {},
     "output_type": "execute_result"
    }
   ],
   "source": [
    "librosa.time_to_samples(0.18)"
   ]
  },
  {
   "cell_type": "code",
   "execution_count": 351,
   "metadata": {},
   "outputs": [],
   "source": [
    "def get_intersection_of_intervals(a, b):\n",
    "    # a - fixed, b - random, a[0] - x1, a[1] - y1\n",
    "    int_len = a[1] - a[0]\n",
    "    \n",
    "    if b[1] > a[0]:\n",
    "        right_int = max(a[1] - b[1], 0)\n",
    "    else:\n",
    "        right_int = int_len\n",
    "    \n",
    "    if b[0] < a[1]:\n",
    "        left_int = max(b[0] - a[0], 0)\n",
    "    else:\n",
    "        left_int = int_len\n",
    "    return int_len - right_int - left_int"
   ]
  },
  {
   "cell_type": "code",
   "execution_count": 352,
   "metadata": {},
   "outputs": [
    {
     "data": {
      "text/plain": [
       "8609276"
      ]
     },
     "execution_count": 352,
     "metadata": {},
     "output_type": "execute_result"
    }
   ],
   "source": [
    "len(test_audio)"
   ]
  },
  {
   "cell_type": "code",
   "execution_count": 353,
   "metadata": {},
   "outputs": [],
   "source": [
    "min_delta = interval_len // 3"
   ]
  },
  {
   "cell_type": "code",
   "execution_count": 354,
   "metadata": {},
   "outputs": [
    {
     "data": {
      "text/plain": [
       "2205"
      ]
     },
     "execution_count": 354,
     "metadata": {},
     "output_type": "execute_result"
    }
   ],
   "source": [
    "min_delta"
   ]
  },
  {
   "cell_type": "code",
   "execution_count": 355,
   "metadata": {},
   "outputs": [],
   "source": [
    "def match_intervals(annotation, audio, labels, sr=22050):\n",
    "    audio_intervals = [(x, x + interval_len) for x in range(0, len(audio), step_len)][:-4]\n",
    "    targets = []\n",
    "    values = []\n",
    "    label_map = {'a': 0, 'b': 1, 'c': 2}\n",
    "    for interval in audio_intervals:\n",
    "        value = 0\n",
    "        for label in labels:\n",
    "            l = label_map[label]\n",
    "            start_samples_indxs = librosa.time_to_samples(annotation[annotation.label ==\\\n",
    "                                                                  label].start.values, sr)\n",
    "            finish_samples_indxs = librosa.time_to_samples(annotation[annotation.label ==\\\n",
    "                                                                   label].finish.values,\n",
    "                                                                   sr)\n",
    "            for s, f in zip(start_samples_indxs, finish_samples_indxs):\n",
    "                value = get_intersection_of_intervals(interval, (s, f))\n",
    "                if value > min_delta:\n",
    "                    break\n",
    "                else:\n",
    "                    value = 0\n",
    "            if value != 0:\n",
    "                break\n",
    "        if value != 0:\n",
    "            targets.append(l)\n",
    "        else:\n",
    "            targets.append(2)\n",
    "        values.append(value)\n",
    "    return audio_intervals, targets, values"
   ]
  },
  {
   "cell_type": "markdown",
   "metadata": {},
   "source": [
    "Идем с шагом step_len и берем интервалы по interval_len, проверяем - с каким из размеченных интервалов пересекается наш интервал больше чем на min_delta и присваиваем его метку"
   ]
  },
  {
   "cell_type": "markdown",
   "metadata": {},
   "source": [
    "Не учитываются случаи, когда идет несколько подряд \"эээ\" и \"нуу\", и так как метки отсортированы, пока интервал будет касаться левой стороной первого \"эээ\", а правой \"нуу\", то будет присвоена метка \"эээ\". **TODO**"
   ]
  },
  {
   "cell_type": "code",
   "execution_count": 356,
   "metadata": {},
   "outputs": [
    {
     "name": "stdout",
     "output_type": "stream",
     "text": [
      "CPU times: user 9.78 s, sys: 73.7 ms, total: 9.85 s\n",
      "Wall time: 9.69 s\n"
     ]
    }
   ],
   "source": [
    "%%time\n",
    "test_intervals, test_targets, vals = match_intervals(test_annotation[0], test_audio,\n",
    "                                                     ['a', 'b'])"
   ]
  },
  {
   "cell_type": "code",
   "execution_count": 357,
   "metadata": {},
   "outputs": [
    {
     "data": {
      "text/plain": [
       "(3901, 3901)"
      ]
     },
     "execution_count": 357,
     "metadata": {},
     "output_type": "execute_result"
    }
   ],
   "source": [
    "len(test_intervals), len(test_targets)"
   ]
  },
  {
   "cell_type": "code",
   "execution_count": 358,
   "metadata": {},
   "outputs": [
    {
     "data": {
      "text/plain": [
       "2    3604\n",
       "0     239\n",
       "1      58\n",
       "dtype: int64"
      ]
     },
     "execution_count": 358,
     "metadata": {},
     "output_type": "execute_result"
    }
   ],
   "source": [
    "pd.Series.value_counts(test_targets)"
   ]
  },
  {
   "cell_type": "code",
   "execution_count": 359,
   "metadata": {},
   "outputs": [
    {
     "data": {
      "text/plain": [
       "[<matplotlib.lines.Line2D at 0x7fcf585d1fd0>]"
      ]
     },
     "execution_count": 359,
     "metadata": {},
     "output_type": "execute_result"
    },
    {
     "data": {
      "image/png": "[encoded data removed]",
      "text/plain": [
       "<matplotlib.figure.Figure at 0x7fcf68054dd8>"
      ]
     },
     "metadata": {},
     "output_type": "display_data"
    }
   ],
   "source": [
    "plt.plot(test_targets[:100])"
   ]
  },
  {
   "cell_type": "code",
   "execution_count": 360,
   "metadata": {},
   "outputs": [
    {
     "data": {
      "text/plain": [
       "[<matplotlib.lines.Line2D at 0x7fcf3bb32ef0>]"
      ]
     },
     "execution_count": 360,
     "metadata": {},
     "output_type": "execute_result"
    },
    {
     "data": {
      "image/png": "[encoded data removed]",
      "text/plain": [
       "<matplotlib.figure.Figure at 0x7fcf6805a8d0>"
      ]
     },
     "metadata": {},
     "output_type": "display_data"
    }
   ],
   "source": [
    "plt.plot(vals[:100])"
   ]
  },
  {
   "cell_type": "code",
   "execution_count": 361,
   "metadata": {},
   "outputs": [
    {
     "data": {
      "text/plain": [
       "8609276"
      ]
     },
     "execution_count": 361,
     "metadata": {},
     "output_type": "execute_result"
    }
   ],
   "source": [
    "len(test_audio)"
   ]
  },
  {
   "cell_type": "code",
   "execution_count": 362,
   "metadata": {},
   "outputs": [],
   "source": [
    "test_samples = [test_audio[s:f] for s, f in test_intervals]"
   ]
  },
  {
   "cell_type": "markdown",
   "metadata": {},
   "source": [
    "### Checking intervals"
   ]
  },
  {
   "cell_type": "code",
   "execution_count": 364,
   "metadata": {},
   "outputs": [
    {
     "name": "stderr",
     "output_type": "stream",
     "text": [
      "100%|██████████| 3901/3901 [00:02<00:00, 1483.93it/s]\n"
     ]
    }
   ],
   "source": [
    "test_features = np.stack([extract_features(x) for x in tqdm(test_samples)])"
   ]
  },
  {
   "cell_type": "code",
   "execution_count": 365,
   "metadata": {},
   "outputs": [
    {
     "data": {
      "text/plain": [
       "(3901, 28, 100, 1)"
      ]
     },
     "execution_count": 365,
     "metadata": {},
     "output_type": "execute_result"
    }
   ],
   "source": [
    "test_features.shape"
   ]
  },
  {
   "cell_type": "markdown",
   "metadata": {},
   "source": [
    "TODO: нормальная нормальзация"
   ]
  },
  {
   "cell_type": "markdown",
   "metadata": {},
   "source": [
    "-20.350365, 2.89434"
   ]
  },
  {
   "cell_type": "code",
   "execution_count": 367,
   "metadata": {},
   "outputs": [],
   "source": [
    "test_features -= mean\n",
    "test_features /= std"
   ]
  },
  {
   "cell_type": "code",
   "execution_count": null,
   "metadata": {},
   "outputs": [],
   "source": [
    "# test_features -= min_spec\n",
    "# test_features /= (max_spec - min_spec)"
   ]
  },
  {
   "cell_type": "code",
   "execution_count": 393,
   "metadata": {},
   "outputs": [],
   "source": [
    "test_predict_cnn = cnn_model.predict(test_features, batch_size=128).argmax(1)"
   ]
  },
  {
   "cell_type": "code",
   "execution_count": 370,
   "metadata": {},
   "outputs": [],
   "source": [
    "test_predict_rnn = rnn_model.predict(test_features, batch_size=128).argmax(1)"
   ]
  },
  {
   "cell_type": "code",
   "execution_count": 371,
   "metadata": {},
   "outputs": [],
   "source": [
    "test_predict_twin = twin_model.predict(test_features, batch_size=128).argmax(1)"
   ]
  },
  {
   "cell_type": "code",
   "execution_count": 372,
   "metadata": {},
   "outputs": [],
   "source": [
    "# test_predict_pr = model.predict(test_features, batch_size=32)"
   ]
  },
  {
   "cell_type": "markdown",
   "metadata": {},
   "source": [
    "**TODO** сделать усреднение предикта с 1 влево 1 вправо интервалами"
   ]
  },
  {
   "cell_type": "code",
   "execution_count": 394,
   "metadata": {},
   "outputs": [
    {
     "data": {
      "text/plain": [
       "0.9271981543194053"
      ]
     },
     "execution_count": 394,
     "metadata": {},
     "output_type": "execute_result"
    }
   ],
   "source": [
    "accuracy_score(test_targets, test_predict_cnn)"
   ]
  },
  {
   "cell_type": "code",
   "execution_count": 374,
   "metadata": {},
   "outputs": [
    {
     "data": {
      "text/plain": [
       "0.8843886183029992"
      ]
     },
     "execution_count": 374,
     "metadata": {},
     "output_type": "execute_result"
    }
   ],
   "source": [
    "accuracy_score(test_targets, test_predict_rnn)"
   ]
  },
  {
   "cell_type": "code",
   "execution_count": 375,
   "metadata": {},
   "outputs": [
    {
     "data": {
      "text/plain": [
       "0.9107921045885671"
      ]
     },
     "execution_count": 375,
     "metadata": {},
     "output_type": "execute_result"
    }
   ],
   "source": [
    "accuracy_score(test_targets, test_predict_twin)"
   ]
  },
  {
   "cell_type": "code",
   "execution_count": 377,
   "metadata": {},
   "outputs": [
    {
     "data": {
      "text/plain": [
       "0.9238656754678287"
      ]
     },
     "execution_count": 377,
     "metadata": {},
     "output_type": "execute_result"
    }
   ],
   "source": [
    "accuracy_score(test_targets, [2] * len(test_predict_rnn))"
   ]
  },
  {
   "cell_type": "code",
   "execution_count": 395,
   "metadata": {},
   "outputs": [
    {
     "name": "stdout",
     "output_type": "stream",
     "text": [
      "             precision    recall  f1-score   support\n",
      "\n",
      "          0       0.53      0.53      0.53       239\n",
      "          1       0.48      0.21      0.29        58\n",
      "          2       0.96      0.97      0.96      3604\n",
      "\n",
      "avg / total       0.92      0.93      0.92      3901\n",
      "\n"
     ]
    }
   ],
   "source": [
    "print(classification_report(test_targets, test_predict_cnn))"
   ]
  },
  {
   "cell_type": "code",
   "execution_count": 379,
   "metadata": {},
   "outputs": [
    {
     "name": "stdout",
     "output_type": "stream",
     "text": [
      "             precision    recall  f1-score   support\n",
      "\n",
      "          0       0.33      0.60      0.43       239\n",
      "          1       0.38      0.19      0.25        58\n",
      "          2       0.96      0.91      0.94      3604\n",
      "\n",
      "avg / total       0.91      0.88      0.89      3901\n",
      "\n"
     ]
    }
   ],
   "source": [
    "print(classification_report(test_targets, test_predict_rnn))"
   ]
  },
  {
   "cell_type": "code",
   "execution_count": 380,
   "metadata": {},
   "outputs": [
    {
     "name": "stdout",
     "output_type": "stream",
     "text": [
      "             precision    recall  f1-score   support\n",
      "\n",
      "          0       0.43      0.54      0.48       239\n",
      "          1       0.32      0.21      0.25        58\n",
      "          2       0.96      0.95      0.95      3604\n",
      "\n",
      "avg / total       0.92      0.91      0.91      3901\n",
      "\n"
     ]
    }
   ],
   "source": [
    "print(classification_report(test_targets, test_predict_twin))"
   ]
  },
  {
   "cell_type": "markdown",
   "metadata": {},
   "source": [
    "---"
   ]
  },
  {
   "cell_type": "code",
   "execution_count": null,
   "metadata": {},
   "outputs": [],
   "source": [
    "plt.plot(test_predict[:2000], '--', label='pr', alpha=0.4)\n",
    "plt.plot(test_targets[:2000], '-.', label='tr', alpha=0.4)\n",
    "plt.legend()"
   ]
  },
  {
   "cell_type": "markdown",
   "metadata": {},
   "source": [
    "## Sliding window"
   ]
  },
  {
   "cell_type": "code",
   "execution_count": null,
   "metadata": {},
   "outputs": [],
   "source": [
    "test_predict_mean = np.stack(((np.pad(test_predict_pr[1:, 0], (0, 1), 'edge') + \\\n",
    "                    test_predict_pr[:, 0] + \\\n",
    "    np.pad(test_predict_pr[:-1, 0], (1, 0), 'edge')) / 3,\n",
    "          (np.pad(test_predict_pr[1:, 1], (0, 1), 'edge') + test_predict_pr[:, 1] + \\\n",
    "    np.pad(test_predict_pr[:-1, 1], (1, 0), 'edge')) / 3,\n",
    "          (np.pad(test_predict_pr[1:, 2], (0, 1), 'edge') + test_predict_pr[:, 2] + \\\n",
    "    np.pad(test_predict_pr[:-1, 2], (1, 0), 'edge')) / 3), axis=1)"
   ]
  },
  {
   "cell_type": "code",
   "execution_count": null,
   "metadata": {},
   "outputs": [],
   "source": [
    "test_predict_mean.shape"
   ]
  },
  {
   "cell_type": "code",
   "execution_count": null,
   "metadata": {},
   "outputs": [],
   "source": [
    "lim = 100"
   ]
  },
  {
   "cell_type": "code",
   "execution_count": null,
   "metadata": {},
   "outputs": [],
   "source": [
    "plt.plot(test_predict[:lim])"
   ]
  },
  {
   "cell_type": "code",
   "execution_count": null,
   "metadata": {},
   "outputs": [],
   "source": [
    "plt.plot(test_predict_pr[:lim, 0], label='0')\n",
    "plt.plot(test_predict_pr[:lim, 1], label='1')\n",
    "plt.plot(test_predict_pr[:lim, 2], label='2')\n",
    "plt.legend()"
   ]
  },
  {
   "cell_type": "code",
   "execution_count": null,
   "metadata": {},
   "outputs": [],
   "source": [
    "plt.plot(test_predict_mean[:lim, 0], label='0')\n",
    "plt.plot(test_predict_mean[:lim, 1], label='1')\n",
    "plt.plot(test_predict_mean[:lim, 2], label='2')\n",
    "plt.legend()"
   ]
  },
  {
   "cell_type": "code",
   "execution_count": null,
   "metadata": {},
   "outputs": [],
   "source": [
    "test_predict_mean[:, 2]"
   ]
  },
  {
   "cell_type": "code",
   "execution_count": null,
   "metadata": {},
   "outputs": [],
   "source": [
    "test_predict_pr[:, 2]"
   ]
  },
  {
   "cell_type": "code",
   "execution_count": null,
   "metadata": {},
   "outputs": [],
   "source": [
    "print(classification_report(test_targets, test_predict_pr.argmax(1)))"
   ]
  },
  {
   "cell_type": "code",
   "execution_count": null,
   "metadata": {},
   "outputs": [],
   "source": [
    "print(classification_report(test_targets, test_predict_mean.argmax(1)))"
   ]
  },
  {
   "cell_type": "code",
   "execution_count": null,
   "metadata": {},
   "outputs": [],
   "source": [
    "confusion_matrix(test_targets, test_predict_pr.argmax(1))"
   ]
  },
  {
   "cell_type": "code",
   "execution_count": null,
   "metadata": {},
   "outputs": [],
   "source": [
    "confusion_matrix(test_targets, test_predict_mean.argmax(1))"
   ]
  },
  {
   "cell_type": "markdown",
   "metadata": {},
   "source": [
    "## Errors analysis"
   ]
  },
  {
   "cell_type": "code",
   "execution_count": null,
   "metadata": {},
   "outputs": [],
   "source": [
    "e = np.nonzero((test_targets != test_predict_pr.argmax(1)) & \\\n",
    "               (test_predict_pr.argmax(1) == 0))[0]\n",
    "\n",
    "wids = [Audio(test_samples[i], rate=22050) for i in e[:5]]\n",
    "for w in wids:\n",
    "    display(w)"
   ]
  },
  {
   "cell_type": "code",
   "execution_count": null,
   "metadata": {},
   "outputs": [],
   "source": [
    "e = np.nonzero((test_targets != test_predict_pr.argmax(1)) & \\\n",
    "               (test_predict_pr.argmax(1) == 1))[0]\n",
    "\n",
    "wids = [Audio(test_samples[i], rate=22050) for i in e[:5]]\n",
    "for w in wids:\n",
    "    display(w)"
   ]
  },
  {
   "cell_type": "code",
   "execution_count": null,
   "metadata": {},
   "outputs": [],
   "source": [
    "e = np.nonzero((test_targets != test_predict_pr.argmax(1)) & \\\n",
    "               (test_predict_pr.argmax(1) == 2))[0]\n",
    "\n",
    "wids = [Audio(test_samples[i], rate=22050) for i in e[:5]]\n",
    "for w in wids:\n",
    "    display(w)"
   ]
  },
  {
   "cell_type": "markdown",
   "metadata": {},
   "source": [
    "## Отображение результата"
   ]
  },
  {
   "cell_type": "code",
   "execution_count": null,
   "metadata": {},
   "outputs": [],
   "source": [
    "from PIL import Image\n",
    "import os\n",
    "import shutil"
   ]
  },
  {
   "cell_type": "code",
   "execution_count": null,
   "metadata": {},
   "outputs": [],
   "source": [
    "# os.rmdir('../cache/imgs/')\n",
    "shutil.rmtree('../cache/imgs/')"
   ]
  },
  {
   "cell_type": "code",
   "execution_count": null,
   "metadata": {},
   "outputs": [],
   "source": [
    "os.mkdir('../cache/imgs')"
   ]
  },
  {
   "cell_type": "code",
   "execution_count": null,
   "metadata": {},
   "outputs": [],
   "source": [
    "1 / interval_step"
   ]
  },
  {
   "cell_type": "code",
   "execution_count": null,
   "metadata": {},
   "outputs": [],
   "source": [
    "interval_step"
   ]
  },
  {
   "cell_type": "code",
   "execution_count": null,
   "metadata": {},
   "outputs": [],
   "source": [
    "for i, (r, t) in enumerate(zip(test_predict_mean.argmax(1), test_targets)):\n",
    "    im_r = np.zeros((32, 64, 3), dtype='uint8')\n",
    "    if r == 0:\n",
    "        im_r[:,:,0] = 255\n",
    "    elif r == 2:\n",
    "        im_r[...,2] = 255\n",
    "    else:\n",
    "        im_r[...,1] = 255\n",
    "        \n",
    "    im_t = np.zeros((32, 64, 3), dtype='uint8')\n",
    "    if t == 0:\n",
    "        im_t[:,:,0] = 255\n",
    "    elif t == 2:\n",
    "        im_t[...,2] = 255\n",
    "    else:\n",
    "        im_t[...,1] = 255\n",
    "        \n",
    "    im = np.vstack((im_r, im_t))\n",
    "    im = Image.fromarray(im)\n",
    "    im.save('../cache/imgs/test_{:04d}.png'.format(i + 2))\n",
    "im.save('../cache/imgs/test_{:04d}.png'.format(0))\n",
    "im.save('../cache/imgs/test_{:04d}.png'.format(1))"
   ]
  },
  {
   "cell_type": "code",
   "execution_count": null,
   "metadata": {},
   "outputs": [],
   "source": [
    "os.system('ffmpeg -r 10 -i ../cache/imgs/test_%04d.png -i ../audio/lavina_class.m4a -vcodec mpeg4 -y ../cache/a.mp4')"
   ]
  },
  {
   "cell_type": "markdown",
   "metadata": {},
   "source": [
    "## Ручная корректировка шума"
   ]
  },
  {
   "cell_type": "code",
   "execution_count": null,
   "metadata": {},
   "outputs": [],
   "source": [
    "test_predict_new = test_predict_new.ravel()"
   ]
  },
  {
   "cell_type": "code",
   "execution_count": null,
   "metadata": {},
   "outputs": [],
   "source": [
    "%%time\n",
    "test_predict_new2 = []\n",
    "\n",
    "start = False\n",
    "for t, tn in zip(test_predict_new, np.append(test_predict_new[1:], [1])):\n",
    "    if t == 0 and tn == 0 and not start:\n",
    "        # если встретили 0 и следующий 0 и до этого не началось, включаем начало и доб-ем 0\n",
    "        start = True\n",
    "        test_predict_new2.append(0)\n",
    "    elif t == 0 and tn == 0 and start:\n",
    "        # если встретили 0 и следующий 0 и до этого началось, доб-ем 0 - мы в серии нулей\n",
    "        test_predict_new2.append(0)\n",
    "    elif t == 0 and tn != 0 and not start:\n",
    "        # если встретили 0, а следующий не 0 и до этого не началось, значит шум, не 0 \n",
    "        test_predict_new2.append(1)\n",
    "    elif t == 0 and tn != 0 and start:\n",
    "        # если встретили 0, а след. не 0 и до этого началось, значит 0, но начало в False\n",
    "        start = False\n",
    "        test_predict_new2.append(0)\n",
    "    elif t == 1:\n",
    "        # если встрили 1, добавляем 1\n",
    "        test_predict_new2.append(1)\n",
    "        start = False\n",
    "    else:\n",
    "        print(t, tn, start)"
   ]
  },
  {
   "cell_type": "code",
   "execution_count": null,
   "metadata": {},
   "outputs": [],
   "source": [
    "pd.Series.value_counts(test_predict_new)"
   ]
  },
  {
   "cell_type": "code",
   "execution_count": null,
   "metadata": {},
   "outputs": [],
   "source": [
    "pd.Series.value_counts(test_predict_new2)"
   ]
  },
  {
   "cell_type": "code",
   "execution_count": null,
   "metadata": {},
   "outputs": [],
   "source": [
    "print(classification_report(test_data.values, test_predict_new))"
   ]
  },
  {
   "cell_type": "code",
   "execution_count": null,
   "metadata": {},
   "outputs": [],
   "source": [
    "print(classification_report(test_data.values, test_predict_new2))"
   ]
  },
  {
   "cell_type": "markdown",
   "metadata": {},
   "source": [
    "Precision поднялся на 0.07, а recall упал лишь на 0.01"
   ]
  },
  {
   "cell_type": "markdown",
   "metadata": {},
   "source": [
    "## Отображение результата"
   ]
  },
  {
   "cell_type": "code",
   "execution_count": null,
   "metadata": {},
   "outputs": [],
   "source": [
    "shutil.rmtree('../cache/imgs/')"
   ]
  },
  {
   "cell_type": "code",
   "execution_count": null,
   "metadata": {},
   "outputs": [],
   "source": [
    "os.mkdir('../cache/imgs')"
   ]
  },
  {
   "cell_type": "code",
   "execution_count": null,
   "metadata": {},
   "outputs": [],
   "source": [
    "for i, (r, t) in enumerate(zip(test_predict_new2, test_data.values)):\n",
    "    im_r = np.zeros((32, 64, 3), dtype='uint8')\n",
    "    if r == 0:\n",
    "        im_r[:,:,0] = 255\n",
    "    elif r == 1:\n",
    "        im_r[...,2] = 255\n",
    "    else:\n",
    "        im_r[...,1] = 255\n",
    "        \n",
    "    im_t = np.zeros((32, 64, 3), dtype='uint8')\n",
    "    if t == 0:\n",
    "        im_t[:,:,0] = 255\n",
    "    elif t == 1:\n",
    "        im_t[...,2] = 255\n",
    "    else:\n",
    "        im_t[...,1] = 255\n",
    "        \n",
    "    im = np.vstack((im_r, im_t))\n",
    "    im = Image.fromarray(im)\n",
    "    im.save('../cache/imgs/test_{:04d}.png'.format(i + 2))\n",
    "im.save('../cache/imgs/test_{:04d}.png'.format(0))\n",
    "im.save('../cache/imgs/test_{:04d}.png'.format(1))"
   ]
  },
  {
   "cell_type": "code",
   "execution_count": null,
   "metadata": {},
   "outputs": [],
   "source": [
    "os.system('ffmpeg -r 20 -i ../cache/imgs/test_%04d.png -i ../audio/arhis1.mp3 -vcodec mpeg4 -y ../cache/aa.mp4')"
   ]
  },
  {
   "cell_type": "code",
   "execution_count": null,
   "metadata": {},
   "outputs": [],
   "source": []
  }
 ],
 "metadata": {
  "kernelspec": {
   "display_name": "Python 3",
   "language": "python",
   "name": "python3"
  },
  "language_info": {
   "codemirror_mode": {
    "name": "ipython",
    "version": 3
   },
   "file_extension": ".py",
   "mimetype": "text/x-python",
   "name": "python",
   "nbconvert_exporter": "python",
   "pygments_lexer": "ipython3",
   "version": "3.6.3"
  }
 },
 "nbformat": 4,
 "nbformat_minor": 2
}
