{
 "cells": [
  {
   "cell_type": "code",
   "execution_count": 1,
   "metadata": {},
   "outputs": [],
   "source": [
    "import pandas as pd\n",
    "import glob\n",
    "import os\n",
    "import librosa\n",
    "import numpy as np\n",
    "\n",
    "import matplotlib.pyplot as plt\n",
    "%matplotlib inline"
   ]
  },
  {
   "cell_type": "markdown",
   "metadata": {},
   "source": [
    "# Loading data"
   ]
  },
  {
   "cell_type": "markdown",
   "metadata": {},
   "source": [
    "## Annotations"
   ]
  },
  {
   "cell_type": "code",
   "execution_count": 2,
   "metadata": {},
   "outputs": [],
   "source": [
    "elan_annotation_paths = ['../annotations/surf.txt']\n",
    "praat_annotation_paths = ['../annotations/lavina_class.TextGrid',\n",
    "                          '../annotations/dtp.TextGrid',\n",
    "                          '../annotations/artem_vps.TextGrid',\n",
    "                          '../annotations/dima_arxiv.TextGrid',\n",
    "                          '../annotations/sasha_code.TextGrid',\n",
    "                          '../annotations/gomes.TextGrid',\n",
    "                          '../annotations/ksenia.TextGrid',\n",
    "                          '../annotations/dashka.TextGrid',\n",
    "                          '../annotations/cursach1.TextGrid']"
   ]
  },
  {
   "cell_type": "code",
   "execution_count": 3,
   "metadata": {},
   "outputs": [],
   "source": [
    "def get_elan_annotations(paths):\n",
    "    dfs = []\n",
    "    for path in paths:\n",
    "        df = pd.read_csv(path, sep='\\t', header=None)\n",
    "        df = df[[3, 5, 7, 8]]\n",
    "        df = df.rename(columns={3: 'start', 5: 'finish', 7: 'length', 8: 'label'})\n",
    "        dfs.append(df)\n",
    "    return dfs"
   ]
  },
  {
   "cell_type": "code",
   "execution_count": 4,
   "metadata": {},
   "outputs": [],
   "source": [
    "elan_annotations = get_elan_annotations(elan_annotation_paths)"
   ]
  },
  {
   "cell_type": "code",
   "execution_count": 5,
   "metadata": {},
   "outputs": [
    {
     "data": {
      "text/html": [
       "<div>\n",
       "<style scoped>\n",
       "    .dataframe tbody tr th:only-of-type {\n",
       "        vertical-align: middle;\n",
       "    }\n",
       "\n",
       "    .dataframe tbody tr th {\n",
       "        vertical-align: top;\n",
       "    }\n",
       "\n",
       "    .dataframe thead th {\n",
       "        text-align: right;\n",
       "    }\n",
       "</style>\n",
       "<table border=\"1\" class=\"dataframe\">\n",
       "  <thead>\n",
       "    <tr style=\"text-align: right;\">\n",
       "      <th></th>\n",
       "      <th>start</th>\n",
       "      <th>finish</th>\n",
       "      <th>length</th>\n",
       "      <th>label</th>\n",
       "    </tr>\n",
       "  </thead>\n",
       "  <tbody>\n",
       "    <tr>\n",
       "      <th>0</th>\n",
       "      <td>0.018</td>\n",
       "      <td>144.237</td>\n",
       "      <td>144.219</td>\n",
       "      <td>c</td>\n",
       "    </tr>\n",
       "    <tr>\n",
       "      <th>1</th>\n",
       "      <td>146.801</td>\n",
       "      <td>147.044</td>\n",
       "      <td>0.243</td>\n",
       "      <td>a</td>\n",
       "    </tr>\n",
       "    <tr>\n",
       "      <th>2</th>\n",
       "      <td>150.407</td>\n",
       "      <td>150.600</td>\n",
       "      <td>0.193</td>\n",
       "      <td>b</td>\n",
       "    </tr>\n",
       "    <tr>\n",
       "      <th>3</th>\n",
       "      <td>152.654</td>\n",
       "      <td>152.968</td>\n",
       "      <td>0.314</td>\n",
       "      <td>a</td>\n",
       "    </tr>\n",
       "    <tr>\n",
       "      <th>4</th>\n",
       "      <td>154.260</td>\n",
       "      <td>154.705</td>\n",
       "      <td>0.445</td>\n",
       "      <td>a</td>\n",
       "    </tr>\n",
       "  </tbody>\n",
       "</table>\n",
       "</div>"
      ],
      "text/plain": [
       "     start   finish   length label\n",
       "0    0.018  144.237  144.219     c\n",
       "1  146.801  147.044    0.243     a\n",
       "2  150.407  150.600    0.193     b\n",
       "3  152.654  152.968    0.314     a\n",
       "4  154.260  154.705    0.445     a"
      ]
     },
     "execution_count": 5,
     "metadata": {},
     "output_type": "execute_result"
    }
   ],
   "source": [
    "elan_annotations[-1].head()"
   ]
  },
  {
   "cell_type": "code",
   "execution_count": 6,
   "metadata": {},
   "outputs": [],
   "source": [
    "def get_praat_annotations(paths):\n",
    "    dfs = []\n",
    "    for path in paths:\n",
    "        with open(path) as f:\n",
    "            annotation = [l.strip() for l in f.readlines()]\n",
    "            \n",
    "        indxs = [i for i, l in enumerate(annotation) if l == '\"IntervalTier\"']\n",
    "        annotation = annotation[indxs[0] + 5:indxs[1] if len(indxs) > 1\\\n",
    "                                else len(annotation)]\n",
    "        annotation_dicts = []\n",
    "\n",
    "        for s, e, l in zip(annotation[0::3], annotation[1::3], annotation[2::3]):\n",
    "            annotation_dicts.append({\n",
    "                'start': float(s),\n",
    "                'finish': float(e),\n",
    "                'label': l.replace('\"', ''),\n",
    "                'length': float(e) - float(s)\n",
    "            })\n",
    "        df = pd.DataFrame(annotation_dicts)\n",
    "        dfs.append(df)\n",
    "    return dfs"
   ]
  },
  {
   "cell_type": "code",
   "execution_count": 7,
   "metadata": {},
   "outputs": [],
   "source": [
    "praat_annotations = get_praat_annotations(praat_annotation_paths)"
   ]
  },
  {
   "cell_type": "code",
   "execution_count": 8,
   "metadata": {},
   "outputs": [
    {
     "data": {
      "text/html": [
       "<div>\n",
       "<style scoped>\n",
       "    .dataframe tbody tr th:only-of-type {\n",
       "        vertical-align: middle;\n",
       "    }\n",
       "\n",
       "    .dataframe tbody tr th {\n",
       "        vertical-align: top;\n",
       "    }\n",
       "\n",
       "    .dataframe thead th {\n",
       "        text-align: right;\n",
       "    }\n",
       "</style>\n",
       "<table border=\"1\" class=\"dataframe\">\n",
       "  <thead>\n",
       "    <tr style=\"text-align: right;\">\n",
       "      <th></th>\n",
       "      <th>finish</th>\n",
       "      <th>label</th>\n",
       "      <th>length</th>\n",
       "      <th>start</th>\n",
       "    </tr>\n",
       "  </thead>\n",
       "  <tbody>\n",
       "    <tr>\n",
       "      <th>0</th>\n",
       "      <td>17.252199</td>\n",
       "      <td></td>\n",
       "      <td>17.252199</td>\n",
       "      <td>0.000000</td>\n",
       "    </tr>\n",
       "    <tr>\n",
       "      <th>1</th>\n",
       "      <td>17.472705</td>\n",
       "      <td>a</td>\n",
       "      <td>0.220506</td>\n",
       "      <td>17.252199</td>\n",
       "    </tr>\n",
       "    <tr>\n",
       "      <th>2</th>\n",
       "      <td>40.094541</td>\n",
       "      <td></td>\n",
       "      <td>22.621836</td>\n",
       "      <td>17.472705</td>\n",
       "    </tr>\n",
       "    <tr>\n",
       "      <th>3</th>\n",
       "      <td>40.370174</td>\n",
       "      <td>a</td>\n",
       "      <td>0.275633</td>\n",
       "      <td>40.094541</td>\n",
       "    </tr>\n",
       "    <tr>\n",
       "      <th>4</th>\n",
       "      <td>44.799067</td>\n",
       "      <td></td>\n",
       "      <td>4.428893</td>\n",
       "      <td>40.370174</td>\n",
       "    </tr>\n",
       "  </tbody>\n",
       "</table>\n",
       "</div>"
      ],
      "text/plain": [
       "      finish label     length      start\n",
       "0  17.252199        17.252199   0.000000\n",
       "1  17.472705     a   0.220506  17.252199\n",
       "2  40.094541        22.621836  17.472705\n",
       "3  40.370174     a   0.275633  40.094541\n",
       "4  44.799067         4.428893  40.370174"
      ]
     },
     "execution_count": 8,
     "metadata": {},
     "output_type": "execute_result"
    }
   ],
   "source": [
    "praat_annotations[-1].head()"
   ]
  },
  {
   "cell_type": "code",
   "execution_count": 9,
   "metadata": {},
   "outputs": [
    {
     "data": {
      "text/html": [
       "<div>\n",
       "<style scoped>\n",
       "    .dataframe tbody tr th:only-of-type {\n",
       "        vertical-align: middle;\n",
       "    }\n",
       "\n",
       "    .dataframe tbody tr th {\n",
       "        vertical-align: top;\n",
       "    }\n",
       "\n",
       "    .dataframe thead th {\n",
       "        text-align: right;\n",
       "    }\n",
       "</style>\n",
       "<table border=\"1\" class=\"dataframe\">\n",
       "  <thead>\n",
       "    <tr style=\"text-align: right;\">\n",
       "      <th></th>\n",
       "      <th>finish</th>\n",
       "      <th>label</th>\n",
       "      <th>length</th>\n",
       "      <th>start</th>\n",
       "    </tr>\n",
       "  </thead>\n",
       "  <tbody>\n",
       "    <tr>\n",
       "      <th>0</th>\n",
       "      <td>37.323779</td>\n",
       "      <td></td>\n",
       "      <td>37.323779</td>\n",
       "      <td>0.000000</td>\n",
       "    </tr>\n",
       "    <tr>\n",
       "      <th>1</th>\n",
       "      <td>37.647123</td>\n",
       "      <td>a</td>\n",
       "      <td>0.323345</td>\n",
       "      <td>37.323779</td>\n",
       "    </tr>\n",
       "    <tr>\n",
       "      <th>2</th>\n",
       "      <td>130.266718</td>\n",
       "      <td></td>\n",
       "      <td>92.619594</td>\n",
       "      <td>37.647123</td>\n",
       "    </tr>\n",
       "    <tr>\n",
       "      <th>3</th>\n",
       "      <td>130.571042</td>\n",
       "      <td>b</td>\n",
       "      <td>0.304325</td>\n",
       "      <td>130.266718</td>\n",
       "    </tr>\n",
       "    <tr>\n",
       "      <th>4</th>\n",
       "      <td>130.792946</td>\n",
       "      <td></td>\n",
       "      <td>0.221903</td>\n",
       "      <td>130.571042</td>\n",
       "    </tr>\n",
       "  </tbody>\n",
       "</table>\n",
       "</div>"
      ],
      "text/plain": [
       "       finish label     length       start\n",
       "0   37.323779        37.323779    0.000000\n",
       "1   37.647123     a   0.323345   37.323779\n",
       "2  130.266718        92.619594   37.647123\n",
       "3  130.571042     b   0.304325  130.266718\n",
       "4  130.792946         0.221903  130.571042"
      ]
     },
     "execution_count": 9,
     "metadata": {},
     "output_type": "execute_result"
    }
   ],
   "source": [
    "praat_annotations[1].head()"
   ]
  },
  {
   "cell_type": "code",
   "execution_count": 10,
   "metadata": {},
   "outputs": [],
   "source": [
    "annotations = elan_annotations.copy()\n",
    "annotations.extend(praat_annotations)"
   ]
  },
  {
   "cell_type": "markdown",
   "metadata": {},
   "source": [
    "## Audio"
   ]
  },
  {
   "cell_type": "code",
   "execution_count": 11,
   "metadata": {},
   "outputs": [],
   "source": [
    "audio_paths = [\n",
    "    '../audio/surf.m4a',\n",
    "    '../audio/lavina_class.m4a',\n",
    "    '../audio/dtp.m4a',\n",
    "    '../audio/artem_vps.m4a',\n",
    "    '../audio/dima_arxiv.m4a',\n",
    "    '../audio/sasha_code.m4a',\n",
    "    '../audio/gomes.m4a',\n",
    "    '../audio/ksenia.m4a',\n",
    "    '../audio/dashka.m4a',\n",
    "    '../audio/cursach1.3gpp'\n",
    "]"
   ]
  },
  {
   "cell_type": "code",
   "execution_count": 12,
   "metadata": {},
   "outputs": [],
   "source": [
    "def get_audios(paths):    \n",
    "    res = []\n",
    "    for path in paths:\n",
    "        audio, sr = librosa.load(path)\n",
    "        res.append(audio)\n",
    "    return res, sr\n",
    "\n",
    "def get_label_data(annotation, audio, label, sr):\n",
    "    start_samples_indxs = librosa.time_to_samples(annotation[annotation.label ==\\\n",
    "                                                              label].start.values, sr)\n",
    "    finish_samples_indxs = librosa.time_to_samples(annotation[annotation.label ==\\\n",
    "                                                               label].finish.values, sr)\n",
    "    \n",
    "    data = []\n",
    "    for s, f in zip(start_samples_indxs, finish_samples_indxs):\n",
    "        data.append(audio[np.arange(s, f)])\n",
    "    return data\n",
    "\n",
    "def get_unlabel_data(annotation, audio, labels, sr):\n",
    "    start_samples_indxs = librosa.time_to_samples(\\\n",
    "                          annotation[annotation.label.isin(labels)].start.values, sr)\n",
    "    finish_samples_indxs = librosa.time_to_samples(\\\n",
    "                           annotation[annotation.label.isin(labels)].finish.values, sr)\n",
    "    finish_samples_indxs = np.hstack([[0], finish_samples_indxs])\n",
    "    start_samples_indxs = np.hstack([start_samples_indxs, [len(start_samples_indxs) - 1]])\n",
    "    \n",
    "    data = []\n",
    "    for s, f in zip(finish_samples_indxs, start_samples_indxs):\n",
    "        data.append(audio[np.arange(s, f)])\n",
    "    return data"
   ]
  },
  {
   "cell_type": "code",
   "execution_count": 13,
   "metadata": {},
   "outputs": [],
   "source": [
    "# audios, sr = get_audios(audio_paths[-1:])\n",
    "audios, sr = get_audios(audio_paths)"
   ]
  },
  {
   "cell_type": "markdown",
   "metadata": {},
   "source": [
    "## Demo examples of classes"
   ]
  },
  {
   "cell_type": "code",
   "execution_count": 23,
   "metadata": {},
   "outputs": [],
   "source": [
    "data_a = get_label_data(annotations[-1], audios[-1], 'a', sr)\n",
    "merged_data_a = np.hstack(data_a)\n",
    "librosa.output.write_wav('../demo/label_a_tmp.wav', merged_data_a, sr)"
   ]
  },
  {
   "cell_type": "code",
   "execution_count": 24,
   "metadata": {},
   "outputs": [],
   "source": [
    "data_a = get_label_data(annotations[-1], audios[-1], 'b', sr)\n",
    "merged_data_a = np.hstack(data_a)\n",
    "librosa.output.write_wav('../demo/label_b_tmp.wav', merged_data_a, sr)"
   ]
  },
  {
   "cell_type": "code",
   "execution_count": 57,
   "metadata": {},
   "outputs": [],
   "source": [
    "data_a = get_unlabel_data(annotations[2], audios[2], ['a', 'b'], sr)\n",
    "merged_data_a = np.hstack(data_a)\n",
    "librosa.output.write_wav('../demo/label_c_tmp.wav', merged_data_a, sr)"
   ]
  },
  {
   "cell_type": "markdown",
   "metadata": {},
   "source": [
    "## Creating dataset"
   ]
  },
  {
   "cell_type": "code",
   "execution_count": 14,
   "metadata": {},
   "outputs": [],
   "source": [
    "interval_time = 0.3\n",
    "interval_len = librosa.time_to_samples(interval_time)[0]\n",
    "\n",
    "# step_time = 0.05\n",
    "# step_len = librosa.time_to_samples(step_time)[0]"
   ]
  },
  {
   "cell_type": "code",
   "execution_count": 15,
   "metadata": {},
   "outputs": [
    {
     "data": {
      "text/plain": [
       "6615"
      ]
     },
     "execution_count": 15,
     "metadata": {},
     "output_type": "execute_result"
    }
   ],
   "source": [
    "interval_len"
   ]
  },
  {
   "cell_type": "code",
   "execution_count": 16,
   "metadata": {},
   "outputs": [],
   "source": [
    "def get_label_data(annotation, audio, labels, sr=22050):\n",
    "    data = []\n",
    "    targets = []\n",
    "    addings = []\n",
    "    \n",
    "    label_map = {'a': 0, 'b': 1, 'c': 2}\n",
    "    for label in labels:\n",
    "        l = label_map[label]\n",
    "        start_samples_indxs = librosa.time_to_samples(annotation[annotation.label ==\\\n",
    "                                                              label].start.values, sr)\n",
    "        finish_samples_indxs = librosa.time_to_samples(annotation[annotation.label ==\\\n",
    "                                                               label].finish.values, sr)\n",
    "        for s, f in zip(start_samples_indxs, finish_samples_indxs):\n",
    "            n = f - s\n",
    "            if n >= interval_len:\n",
    "                data.append(np.array(audio[s:s + interval_len]))\n",
    "                addings.append(0)\n",
    "            elif n < interval_len:\n",
    "                data.append(np.pad(audio[s:f], (0, interval_len - n), 'mean')) # wrap\n",
    "                addings.append(interval_len - n)\n",
    "            targets.append(l)\n",
    "    return data, targets, addings"
   ]
  },
  {
   "cell_type": "code",
   "execution_count": 17,
   "metadata": {},
   "outputs": [],
   "source": [
    "d, t, a = get_label_data(annotations[-1], audios[-1], ['a', 'b'])"
   ]
  },
  {
   "cell_type": "code",
   "execution_count": 18,
   "metadata": {},
   "outputs": [
    {
     "data": {
      "image/png": "[encoded data removed]",
      "text/plain": [
       "<matplotlib.figure.Figure at 0x7f4bf6831828>"
      ]
     },
     "metadata": {},
     "output_type": "display_data"
    }
   ],
   "source": [
    "plt.hist(a, bins=20);"
   ]
  },
  {
   "cell_type": "code",
   "execution_count": 19,
   "metadata": {},
   "outputs": [
    {
     "data": {
      "text/plain": [
       "0    69\n",
       "1     8\n",
       "dtype: int64"
      ]
     },
     "execution_count": 19,
     "metadata": {},
     "output_type": "execute_result"
    }
   ],
   "source": [
    "pd.Series.value_counts(t)"
   ]
  },
  {
   "cell_type": "code",
   "execution_count": 20,
   "metadata": {},
   "outputs": [
    {
     "data": {
      "text/plain": [
       "{6615}"
      ]
     },
     "execution_count": 20,
     "metadata": {},
     "output_type": "execute_result"
    }
   ],
   "source": [
    "set([len(dd) for dd in d])"
   ]
  },
  {
   "cell_type": "code",
   "execution_count": 21,
   "metadata": {},
   "outputs": [
    {
     "data": {
      "text/plain": [
       "[<matplotlib.lines.Line2D at 0x7f4bf4355b38>]"
      ]
     },
     "execution_count": 21,
     "metadata": {},
     "output_type": "execute_result"
    },
    {
     "data": {
      "image/png": "[encoded data removed]",
      "text/plain": [
       "<matplotlib.figure.Figure at 0x7f4bf647b198>"
      ]
     },
     "metadata": {},
     "output_type": "display_data"
    }
   ],
   "source": [
    "plt.plot(d[-2])"
   ]
  },
  {
   "cell_type": "code",
   "execution_count": 22,
   "metadata": {},
   "outputs": [],
   "source": [
    "from IPython.display import Audio"
   ]
  },
  {
   "cell_type": "code",
   "execution_count": 23,
   "metadata": {},
   "outputs": [
    {
     "data": {
      "text/html": [
       "\n",
       "                <audio controls=\"controls\" >\n",
       "                    <source src=\"data:audio/wav;base64,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\" type=\"audio/wav\" />\n",
       "                    Your browser does not support the audio element.\n",
       "                </audio>\n",
       "              "
      ],
      "text/plain": [
       "<IPython.lib.display.Audio object>"
      ]
     },
     "metadata": {},
     "output_type": "display_data"
    }
   ],
   "source": [
    "wid = Audio(d[-2], rate=22050)\n",
    "\n",
    "display(wid)"
   ]
  },
  {
   "cell_type": "code",
   "execution_count": 24,
   "metadata": {},
   "outputs": [],
   "source": [
    "def get_unlabel_data(annotation, audio, labels, additions, sr=22050):\n",
    "    data = []\n",
    "\n",
    "    start_samples_indxs = librosa.time_to_samples(\\\n",
    "                          annotation[~annotation.label.isin(labels)].start.values, sr)\n",
    "    finish_samples_indxs = librosa.time_to_samples(\\\n",
    "                           annotation[~annotation.label.isin(labels)].finish.values, sr)\n",
    "    for s, f in zip(start_samples_indxs, finish_samples_indxs):\n",
    "        n = f - s\n",
    "        i = 0\n",
    "        while n > interval_len:\n",
    "            crop = np.array(audio[s + i * interval_len:s + (i + 1) * interval_len])\n",
    "            # because random value 0 is bad for slicing, set minimum value 1\n",
    "#             sl = max(int(np.random.exponential(exp_dist_scale)), 1)\n",
    "            # limit maximum random value by 70% of interval_len\n",
    "#             sl = min(sl, int(interval_len * max_crop_percent))\n",
    "\n",
    "            # another version - better\n",
    "            sl = np.random.choice(additions)\n",
    "            if sl != 0:\n",
    "                crop = crop[:-sl]\n",
    "                crop = np.pad(crop, (0, sl), 'mean')\n",
    "            data.append(crop)\n",
    "            n -= interval_len\n",
    "            i += 1\n",
    "    targets = [2] * len(data)\n",
    "    return data, targets"
   ]
  },
  {
   "cell_type": "code",
   "execution_count": 25,
   "metadata": {},
   "outputs": [
    {
     "data": {
      "text/plain": [
       "(10, 10)"
      ]
     },
     "execution_count": 25,
     "metadata": {},
     "output_type": "execute_result"
    }
   ],
   "source": [
    "len(annotations), len(audios)"
   ]
  },
  {
   "cell_type": "markdown",
   "metadata": {},
   "source": [
    "## Dataset"
   ]
  },
  {
   "cell_type": "code",
   "execution_count": 26,
   "metadata": {},
   "outputs": [],
   "source": [
    "X, y = [], []\n",
    "X_c = []\n",
    "additions = []\n",
    "\n",
    "labels_map = {\n",
    "    'a': 0,\n",
    "    'b': 1,\n",
    "    'c': 2\n",
    "}\n",
    "\n",
    "for ann, aud in zip(annotations, audios):\n",
    "    data, targets, adds = get_label_data(ann, aud, ['a', 'b'])\n",
    "    X.extend(data)\n",
    "    y.extend(targets)\n",
    "    additions.extend(adds)\n",
    "    \n",
    "for ann, aud in zip(annotations, audios):\n",
    "    data, targets = get_unlabel_data(ann, aud, ['a', 'b'], additions)\n",
    "    X_c.extend(data)\n",
    "\n",
    "c_indxs = np.random.choice(range(len(X_c)), len(X_c) // 2, replace=False)\n",
    "X.extend(np.array(X_c)[c_indxs].tolist())\n",
    "y.extend([2] * (len(X_c) // 2))"
   ]
  },
  {
   "cell_type": "code",
   "execution_count": 27,
   "metadata": {},
   "outputs": [
    {
     "data": {
      "text/plain": [
       "(10986, 10986)"
      ]
     },
     "execution_count": 27,
     "metadata": {},
     "output_type": "execute_result"
    }
   ],
   "source": [
    "len(X), len(y)"
   ]
  },
  {
   "cell_type": "code",
   "execution_count": 28,
   "metadata": {},
   "outputs": [
    {
     "data": {
      "text/plain": [
       "2    10041\n",
       "0      667\n",
       "1      278\n",
       "dtype: int64"
      ]
     },
     "execution_count": 28,
     "metadata": {},
     "output_type": "execute_result"
    }
   ],
   "source": [
    "pd.Series.value_counts(y)"
   ]
  },
  {
   "cell_type": "code",
   "execution_count": 29,
   "metadata": {},
   "outputs": [
    {
     "data": {
      "image/png": "[encoded data removed]",
      "text/plain": [
       "<matplotlib.figure.Figure at 0x7f4bf43b46a0>"
      ]
     },
     "metadata": {},
     "output_type": "display_data"
    }
   ],
   "source": [
    "plt.hist(additions);"
   ]
  },
  {
   "cell_type": "code",
   "execution_count": 30,
   "metadata": {},
   "outputs": [
    {
     "data": {
      "image/png": "[encoded data removed]",
      "text/plain": [
       "<matplotlib.figure.Figure at 0x7f4bf67d6748>"
      ]
     },
     "metadata": {},
     "output_type": "display_data"
    }
   ],
   "source": [
    "plt.hist(np.random.choice(additions, len(additions)));"
   ]
  },
  {
   "cell_type": "code",
   "execution_count": 31,
   "metadata": {},
   "outputs": [
    {
     "data": {
      "image/png": "[encoded data removed]",
      "text/plain": [
       "<matplotlib.figure.Figure at 0x7f4ba3d264e0>"
      ]
     },
     "metadata": {},
     "output_type": "display_data"
    }
   ],
   "source": [
    "plt.hist(np.random.exponential(np.mean(additions), len(additions)));"
   ]
  },
  {
   "cell_type": "markdown",
   "metadata": {},
   "source": [
    "### Shuffle"
   ]
  },
  {
   "cell_type": "code",
   "execution_count": 32,
   "metadata": {},
   "outputs": [],
   "source": [
    "import random"
   ]
  },
  {
   "cell_type": "code",
   "execution_count": 33,
   "metadata": {},
   "outputs": [],
   "source": [
    "temp = list(zip(X, y))\n",
    "random.shuffle(temp)\n",
    "X, y = zip(*temp)"
   ]
  },
  {
   "cell_type": "markdown",
   "metadata": {},
   "source": [
    "### Pickle"
   ]
  },
  {
   "cell_type": "code",
   "execution_count": 34,
   "metadata": {},
   "outputs": [],
   "source": [
    "import pickle\n",
    "import gzip"
   ]
  },
  {
   "cell_type": "code",
   "execution_count": 35,
   "metadata": {},
   "outputs": [],
   "source": [
    "with gzip.open('../cache/dataset.pkl.gz', 'wb') as f:\n",
    "    pickle.dump([X, y], f)"
   ]
  },
  {
   "cell_type": "code",
   "execution_count": 36,
   "metadata": {},
   "outputs": [
    {
     "data": {
      "text/plain": [
       "22050"
      ]
     },
     "execution_count": 36,
     "metadata": {},
     "output_type": "execute_result"
    }
   ],
   "source": [
    "sr"
   ]
  },
  {
   "cell_type": "code",
   "execution_count": null,
   "metadata": {},
   "outputs": [],
   "source": []
  }
 ],
 "metadata": {
  "kernelspec": {
   "display_name": "Python 3",
   "language": "python",
   "name": "python3"
  },
  "language_info": {
   "codemirror_mode": {
    "name": "ipython",
    "version": 3
   },
   "file_extension": ".py",
   "mimetype": "text/x-python",
   "name": "python",
   "nbconvert_exporter": "python",
   "pygments_lexer": "ipython3",
   "version": "3.6.3"
  }
 },
 "nbformat": 4,
 "nbformat_minor": 2
}
