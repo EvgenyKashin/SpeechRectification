{
 "cells": [
  {
   "cell_type": "code",
   "execution_count": 3,
   "metadata": {},
   "outputs": [],
   "source": [
    "import pandas as pd\n",
    "import glob\n",
    "import os\n",
    "import librosa\n",
    "import numpy as np\n",
    "import scripts\n",
    "\n",
    "import matplotlib.pyplot as plt\n",
    "%matplotlib inline"
   ]
  },
  {
   "cell_type": "markdown",
   "metadata": {},
   "source": [
    "# Loading data"
   ]
  },
  {
   "cell_type": "markdown",
   "metadata": {},
   "source": [
    "## Annotations"
   ]
  },
  {
   "cell_type": "code",
   "execution_count": 4,
   "metadata": {},
   "outputs": [],
   "source": [
    "elan_annotation_paths = scripts.find_annotation_paths('.txt')\n",
    "praat_annotation_paths = scripts.find_annotation_paths('.TextGrid')"
   ]
  },
  {
   "cell_type": "code",
   "execution_count": 5,
   "metadata": {},
   "outputs": [],
   "source": [
    "elan_annotations = scripts.get_elan_annotations(elan_annotation_paths)\n",
    "praat_annotations = scripts.get_praat_annotations(praat_annotation_paths)"
   ]
  },
  {
   "cell_type": "code",
   "execution_count": 6,
   "metadata": {},
   "outputs": [],
   "source": [
    "annotations = elan_annotations.copy()\n",
    "annotations.extend(praat_annotations)"
   ]
  },
  {
   "cell_type": "code",
   "execution_count": 9,
   "metadata": {},
   "outputs": [],
   "source": [
    "annotations_paths = elan_annotation_paths.copy()\n",
    "annotations_paths.extend(praat_annotation_paths)"
   ]
  },
  {
   "cell_type": "code",
   "execution_count": 15,
   "metadata": {},
   "outputs": [],
   "source": [
    "annotations_names = [p.split('/')[-1] for p in annotations_paths]"
   ]
  },
  {
   "cell_type": "code",
   "execution_count": 68,
   "metadata": {},
   "outputs": [],
   "source": [
    "data = []\n",
    "for ann in annotations:\n",
    "    data.append({\n",
    "        'total_time': ann.finish.max() / 60,\n",
    "        'a_counts': ann.label.value_counts().get('a', 0),\n",
    "        'b_counts': ann.label.value_counts().get('b', 0),\n",
    "        'a_length': ann.groupby('label').sum().length.get('a', 0),\n",
    "        'b_length': ann.groupby('label').sum().length.get('b', 0),\n",
    "    })\n",
    "data = pd.DataFrame(data)"
   ]
  },
  {
   "cell_type": "code",
   "execution_count": 69,
   "metadata": {},
   "outputs": [],
   "source": [
    "data['name'] = annotations_names"
   ]
  },
  {
   "cell_type": "code",
   "execution_count": 70,
   "metadata": {},
   "outputs": [],
   "source": [
    "data['a_frac'] = data['a_length'] / data['total_time'] / 60\n",
    "data['b_frac'] = data['b_length'] / data['total_time'] / 60"
   ]
  },
  {
   "cell_type": "code",
   "execution_count": 71,
   "metadata": {},
   "outputs": [],
   "source": [
    "data = data[['name', 'a_counts', 'b_counts', 'a_length', 'b_length', 'a_frac', 'b_frac',\n",
    "             'total_time']]"
   ]
  },
  {
   "cell_type": "code",
   "execution_count": 72,
   "metadata": {},
   "outputs": [
    {
     "data": {
      "text/html": [
       "<div>\n",
       "<style scoped>\n",
       "    .dataframe tbody tr th:only-of-type {\n",
       "        vertical-align: middle;\n",
       "    }\n",
       "\n",
       "    .dataframe tbody tr th {\n",
       "        vertical-align: top;\n",
       "    }\n",
       "\n",
       "    .dataframe thead th {\n",
       "        text-align: right;\n",
       "    }\n",
       "</style>\n",
       "<table border=\"1\" class=\"dataframe\">\n",
       "  <thead>\n",
       "    <tr style=\"text-align: right;\">\n",
       "      <th></th>\n",
       "      <th>name</th>\n",
       "      <th>a_counts</th>\n",
       "      <th>b_counts</th>\n",
       "      <th>a_length</th>\n",
       "      <th>b_length</th>\n",
       "      <th>a_frac</th>\n",
       "      <th>b_frac</th>\n",
       "      <th>total_time</th>\n",
       "    </tr>\n",
       "  </thead>\n",
       "  <tbody>\n",
       "    <tr>\n",
       "      <th>0</th>\n",
       "      <td>surf.txt</td>\n",
       "      <td>156</td>\n",
       "      <td>44</td>\n",
       "      <td>43.305000</td>\n",
       "      <td>9.612000</td>\n",
       "      <td>0.033790</td>\n",
       "      <td>0.007500</td>\n",
       "      <td>21.360000</td>\n",
       "    </tr>\n",
       "    <tr>\n",
       "      <th>1</th>\n",
       "      <td>cursach2.TextGrid</td>\n",
       "      <td>113</td>\n",
       "      <td>24</td>\n",
       "      <td>33.392915</td>\n",
       "      <td>4.437688</td>\n",
       "      <td>0.032256</td>\n",
       "      <td>0.004287</td>\n",
       "      <td>17.254361</td>\n",
       "    </tr>\n",
       "    <tr>\n",
       "      <th>2</th>\n",
       "      <td>gomes.TextGrid</td>\n",
       "      <td>77</td>\n",
       "      <td>53</td>\n",
       "      <td>31.511721</td>\n",
       "      <td>9.147564</td>\n",
       "      <td>0.027865</td>\n",
       "      <td>0.008089</td>\n",
       "      <td>18.847613</td>\n",
       "    </tr>\n",
       "    <tr>\n",
       "      <th>3</th>\n",
       "      <td>lavina_class.TextGrid</td>\n",
       "      <td>53</td>\n",
       "      <td>17</td>\n",
       "      <td>18.673081</td>\n",
       "      <td>4.438066</td>\n",
       "      <td>0.047823</td>\n",
       "      <td>0.011366</td>\n",
       "      <td>6.507755</td>\n",
       "    </tr>\n",
       "    <tr>\n",
       "      <th>4</th>\n",
       "      <td>arhis1.TextGrid</td>\n",
       "      <td>54</td>\n",
       "      <td>0</td>\n",
       "      <td>20.062623</td>\n",
       "      <td>0.000000</td>\n",
       "      <td>0.063241</td>\n",
       "      <td>0.000000</td>\n",
       "      <td>5.287383</td>\n",
       "    </tr>\n",
       "    <tr>\n",
       "      <th>5</th>\n",
       "      <td>olya1.TextGrid</td>\n",
       "      <td>21</td>\n",
       "      <td>36</td>\n",
       "      <td>10.163960</td>\n",
       "      <td>6.539388</td>\n",
       "      <td>0.024414</td>\n",
       "      <td>0.015708</td>\n",
       "      <td>6.938485</td>\n",
       "    </tr>\n",
       "    <tr>\n",
       "      <th>6</th>\n",
       "      <td>dashka.TextGrid</td>\n",
       "      <td>55</td>\n",
       "      <td>64</td>\n",
       "      <td>15.463000</td>\n",
       "      <td>11.996918</td>\n",
       "      <td>0.012153</td>\n",
       "      <td>0.009429</td>\n",
       "      <td>21.206760</td>\n",
       "    </tr>\n",
       "    <tr>\n",
       "      <th>7</th>\n",
       "      <td>cursach1.TextGrid</td>\n",
       "      <td>69</td>\n",
       "      <td>8</td>\n",
       "      <td>17.392430</td>\n",
       "      <td>1.378164</td>\n",
       "      <td>0.026283</td>\n",
       "      <td>0.002083</td>\n",
       "      <td>11.029091</td>\n",
       "    </tr>\n",
       "    <tr>\n",
       "      <th>8</th>\n",
       "      <td>artem_vps.TextGrid</td>\n",
       "      <td>40</td>\n",
       "      <td>9</td>\n",
       "      <td>16.317462</td>\n",
       "      <td>1.702033</td>\n",
       "      <td>0.060518</td>\n",
       "      <td>0.006313</td>\n",
       "      <td>4.493811</td>\n",
       "    </tr>\n",
       "    <tr>\n",
       "      <th>9</th>\n",
       "      <td>ksenia.TextGrid</td>\n",
       "      <td>24</td>\n",
       "      <td>42</td>\n",
       "      <td>8.613525</td>\n",
       "      <td>7.703937</td>\n",
       "      <td>0.008752</td>\n",
       "      <td>0.007827</td>\n",
       "      <td>16.403713</td>\n",
       "    </tr>\n",
       "    <tr>\n",
       "      <th>10</th>\n",
       "      <td>dima_arxiv.TextGrid</td>\n",
       "      <td>47</td>\n",
       "      <td>2</td>\n",
       "      <td>23.642404</td>\n",
       "      <td>0.468576</td>\n",
       "      <td>0.106920</td>\n",
       "      <td>0.002119</td>\n",
       "      <td>3.685370</td>\n",
       "    </tr>\n",
       "    <tr>\n",
       "      <th>11</th>\n",
       "      <td>surf_test.TextGrid</td>\n",
       "      <td>19</td>\n",
       "      <td>17</td>\n",
       "      <td>8.613525</td>\n",
       "      <td>2.797673</td>\n",
       "      <td>0.014766</td>\n",
       "      <td>0.004796</td>\n",
       "      <td>9.722171</td>\n",
       "    </tr>\n",
       "    <tr>\n",
       "      <th>12</th>\n",
       "      <td>dtp.TextGrid</td>\n",
       "      <td>108</td>\n",
       "      <td>24</td>\n",
       "      <td>35.599632</td>\n",
       "      <td>4.552188</td>\n",
       "      <td>0.034243</td>\n",
       "      <td>0.004379</td>\n",
       "      <td>17.327093</td>\n",
       "    </tr>\n",
       "    <tr>\n",
       "      <th>13</th>\n",
       "      <td>vika2.TextGrid</td>\n",
       "      <td>13</td>\n",
       "      <td>35</td>\n",
       "      <td>4.382562</td>\n",
       "      <td>7.903771</td>\n",
       "      <td>0.007764</td>\n",
       "      <td>0.014001</td>\n",
       "      <td>9.408339</td>\n",
       "    </tr>\n",
       "    <tr>\n",
       "      <th>14</th>\n",
       "      <td>sasha_code.TextGrid</td>\n",
       "      <td>38</td>\n",
       "      <td>15</td>\n",
       "      <td>18.453616</td>\n",
       "      <td>3.114651</td>\n",
       "      <td>0.075010</td>\n",
       "      <td>0.012660</td>\n",
       "      <td>4.100233</td>\n",
       "    </tr>\n",
       "    <tr>\n",
       "      <th>15</th>\n",
       "      <td>vika1.TextGrid</td>\n",
       "      <td>13</td>\n",
       "      <td>19</td>\n",
       "      <td>4.120710</td>\n",
       "      <td>4.341217</td>\n",
       "      <td>0.009848</td>\n",
       "      <td>0.010375</td>\n",
       "      <td>6.974089</td>\n",
       "    </tr>\n",
       "  </tbody>\n",
       "</table>\n",
       "</div>"
      ],
      "text/plain": [
       "                     name  a_counts  b_counts   a_length   b_length    a_frac  \\\n",
       "0                surf.txt       156        44  43.305000   9.612000  0.033790   \n",
       "1       cursach2.TextGrid       113        24  33.392915   4.437688  0.032256   \n",
       "2          gomes.TextGrid        77        53  31.511721   9.147564  0.027865   \n",
       "3   lavina_class.TextGrid        53        17  18.673081   4.438066  0.047823   \n",
       "4         arhis1.TextGrid        54         0  20.062623   0.000000  0.063241   \n",
       "5          olya1.TextGrid        21        36  10.163960   6.539388  0.024414   \n",
       "6         dashka.TextGrid        55        64  15.463000  11.996918  0.012153   \n",
       "7       cursach1.TextGrid        69         8  17.392430   1.378164  0.026283   \n",
       "8      artem_vps.TextGrid        40         9  16.317462   1.702033  0.060518   \n",
       "9         ksenia.TextGrid        24        42   8.613525   7.703937  0.008752   \n",
       "10    dima_arxiv.TextGrid        47         2  23.642404   0.468576  0.106920   \n",
       "11     surf_test.TextGrid        19        17   8.613525   2.797673  0.014766   \n",
       "12           dtp.TextGrid       108        24  35.599632   4.552188  0.034243   \n",
       "13         vika2.TextGrid        13        35   4.382562   7.903771  0.007764   \n",
       "14    sasha_code.TextGrid        38        15  18.453616   3.114651  0.075010   \n",
       "15         vika1.TextGrid        13        19   4.120710   4.341217  0.009848   \n",
       "\n",
       "      b_frac  total_time  \n",
       "0   0.007500   21.360000  \n",
       "1   0.004287   17.254361  \n",
       "2   0.008089   18.847613  \n",
       "3   0.011366    6.507755  \n",
       "4   0.000000    5.287383  \n",
       "5   0.015708    6.938485  \n",
       "6   0.009429   21.206760  \n",
       "7   0.002083   11.029091  \n",
       "8   0.006313    4.493811  \n",
       "9   0.007827   16.403713  \n",
       "10  0.002119    3.685370  \n",
       "11  0.004796    9.722171  \n",
       "12  0.004379   17.327093  \n",
       "13  0.014001    9.408339  \n",
       "14  0.012660    4.100233  \n",
       "15  0.010375    6.974089  "
      ]
     },
     "execution_count": 72,
     "metadata": {},
     "output_type": "execute_result"
    }
   ],
   "source": [
    "data"
   ]
  },
  {
   "cell_type": "code",
   "execution_count": 73,
   "metadata": {},
   "outputs": [
    {
     "data": {
      "text/plain": [
       "<matplotlib.axes._subplots.AxesSubplot at 0x7f8184e8d780>"
      ]
     },
     "execution_count": 73,
     "metadata": {},
     "output_type": "execute_result"
    },
    {
     "data": {
      "image/png": "[encoded data removed]",
      "text/plain": [
       "<matplotlib.figure.Figure at 0x7f81850e1748>"
      ]
     },
     "metadata": {},
     "output_type": "display_data"
    }
   ],
   "source": [
    "data.a_frac.hist()"
   ]
  },
  {
   "cell_type": "code",
   "execution_count": 74,
   "metadata": {},
   "outputs": [
    {
     "data": {
      "text/plain": [
       "<matplotlib.axes._subplots.AxesSubplot at 0x7f8184207080>"
      ]
     },
     "execution_count": 74,
     "metadata": {},
     "output_type": "execute_result"
    },
    {
     "data": {
      "image/png": "[encoded data removed]",
      "text/plain": [
       "<matplotlib.figure.Figure at 0x7f818513d2e8>"
      ]
     },
     "metadata": {},
     "output_type": "display_data"
    }
   ],
   "source": [
    "data.b_frac.hist()"
   ]
  },
  {
   "cell_type": "code",
   "execution_count": 75,
   "metadata": {},
   "outputs": [
    {
     "data": {
      "text/plain": [
       "<matplotlib.axes._subplots.AxesSubplot at 0x7f81843f9978>"
      ]
     },
     "execution_count": 75,
     "metadata": {},
     "output_type": "execute_result"
    },
    {
     "data": {
      "image/png": "[encoded data removed]",
      "text/plain": [
       "<matplotlib.figure.Figure at 0x7f81841f29b0>"
      ]
     },
     "metadata": {},
     "output_type": "display_data"
    }
   ],
   "source": [
    "data.total_time.hist()"
   ]
  },
  {
   "cell_type": "code",
   "execution_count": 81,
   "metadata": {},
   "outputs": [
    {
     "data": {
      "text/plain": [
       "180.5462671957672"
      ]
     },
     "execution_count": 81,
     "metadata": {},
     "output_type": "execute_result"
    }
   ],
   "source": [
    "data.total_time.sum()"
   ]
  },
  {
   "cell_type": "code",
   "execution_count": 83,
   "metadata": {},
   "outputs": [
    {
     "data": {
      "text/plain": [
       "5.1618027757919025"
      ]
     },
     "execution_count": 83,
     "metadata": {},
     "output_type": "execute_result"
    }
   ],
   "source": [
    "data.a_length.sum() / 60"
   ]
  },
  {
   "cell_type": "code",
   "execution_count": 84,
   "metadata": {},
   "outputs": [
    {
     "data": {
      "text/plain": [
       "1.3355638845681852"
      ]
     },
     "execution_count": 84,
     "metadata": {},
     "output_type": "execute_result"
    }
   ],
   "source": [
    "data.b_length.sum() / 60"
   ]
  },
  {
   "cell_type": "markdown",
   "metadata": {},
   "source": [
    "## All annotation concated"
   ]
  },
  {
   "cell_type": "code",
   "execution_count": 76,
   "metadata": {},
   "outputs": [],
   "source": [
    "annotations_all = pd.concat(annotations)"
   ]
  },
  {
   "cell_type": "code",
   "execution_count": 77,
   "metadata": {},
   "outputs": [
    {
     "data": {
      "text/html": [
       "<div>\n",
       "<style scoped>\n",
       "    .dataframe tbody tr th:only-of-type {\n",
       "        vertical-align: middle;\n",
       "    }\n",
       "\n",
       "    .dataframe tbody tr th {\n",
       "        vertical-align: top;\n",
       "    }\n",
       "\n",
       "    .dataframe thead th {\n",
       "        text-align: right;\n",
       "    }\n",
       "</style>\n",
       "<table border=\"1\" class=\"dataframe\">\n",
       "  <thead>\n",
       "    <tr style=\"text-align: right;\">\n",
       "      <th></th>\n",
       "      <th>count</th>\n",
       "      <th>mean</th>\n",
       "      <th>std</th>\n",
       "      <th>min</th>\n",
       "      <th>25%</th>\n",
       "      <th>50%</th>\n",
       "      <th>75%</th>\n",
       "      <th>max</th>\n",
       "    </tr>\n",
       "    <tr>\n",
       "      <th>label</th>\n",
       "      <th></th>\n",
       "      <th></th>\n",
       "      <th></th>\n",
       "      <th></th>\n",
       "      <th></th>\n",
       "      <th></th>\n",
       "      <th></th>\n",
       "      <th></th>\n",
       "    </tr>\n",
       "  </thead>\n",
       "  <tbody>\n",
       "    <tr>\n",
       "      <th></th>\n",
       "      <td>1127.0</td>\n",
       "      <td>8.150584</td>\n",
       "      <td>10.638079</td>\n",
       "      <td>0.035515</td>\n",
       "      <td>2.059811</td>\n",
       "      <td>4.575505</td>\n",
       "      <td>10.047881</td>\n",
       "      <td>107.719381</td>\n",
       "    </tr>\n",
       "    <tr>\n",
       "      <th>a</th>\n",
       "      <td>900.0</td>\n",
       "      <td>0.344120</td>\n",
       "      <td>0.153555</td>\n",
       "      <td>0.093000</td>\n",
       "      <td>0.247264</td>\n",
       "      <td>0.316978</td>\n",
       "      <td>0.399668</td>\n",
       "      <td>1.440181</td>\n",
       "    </tr>\n",
       "    <tr>\n",
       "      <th>b</th>\n",
       "      <td>409.0</td>\n",
       "      <td>0.195926</td>\n",
       "      <td>0.080837</td>\n",
       "      <td>0.068908</td>\n",
       "      <td>0.141262</td>\n",
       "      <td>0.179161</td>\n",
       "      <td>0.227397</td>\n",
       "      <td>0.849573</td>\n",
       "    </tr>\n",
       "    <tr>\n",
       "      <th>c</th>\n",
       "      <td>7.0</td>\n",
       "      <td>25.209390</td>\n",
       "      <td>52.630576</td>\n",
       "      <td>1.344100</td>\n",
       "      <td>2.557695</td>\n",
       "      <td>4.110652</td>\n",
       "      <td>10.838292</td>\n",
       "      <td>144.219000</td>\n",
       "    </tr>\n",
       "    <tr>\n",
       "      <th>q</th>\n",
       "      <td>1.0</td>\n",
       "      <td>7.674469</td>\n",
       "      <td>NaN</td>\n",
       "      <td>7.674469</td>\n",
       "      <td>7.674469</td>\n",
       "      <td>7.674469</td>\n",
       "      <td>7.674469</td>\n",
       "      <td>7.674469</td>\n",
       "    </tr>\n",
       "  </tbody>\n",
       "</table>\n",
       "</div>"
      ],
      "text/plain": [
       "        count       mean        std       min       25%       50%        75%  \\\n",
       "label                                                                          \n",
       "       1127.0   8.150584  10.638079  0.035515  2.059811  4.575505  10.047881   \n",
       "a       900.0   0.344120   0.153555  0.093000  0.247264  0.316978   0.399668   \n",
       "b       409.0   0.195926   0.080837  0.068908  0.141262  0.179161   0.227397   \n",
       "c         7.0  25.209390  52.630576  1.344100  2.557695  4.110652  10.838292   \n",
       "q         1.0   7.674469        NaN  7.674469  7.674469  7.674469   7.674469   \n",
       "\n",
       "              max  \n",
       "label              \n",
       "       107.719381  \n",
       "a        1.440181  \n",
       "b        0.849573  \n",
       "c      144.219000  \n",
       "q        7.674469  "
      ]
     },
     "execution_count": 77,
     "metadata": {},
     "output_type": "execute_result"
    }
   ],
   "source": [
    "annotations_all.groupby('label').length.describe()"
   ]
  },
  {
   "cell_type": "code",
   "execution_count": 78,
   "metadata": {},
   "outputs": [
    {
     "data": {
      "text/plain": [
       "<matplotlib.axes._subplots.AxesSubplot at 0x7f81845228d0>"
      ]
     },
     "execution_count": 78,
     "metadata": {},
     "output_type": "execute_result"
    },
    {
     "data": {
      "image/png": "[encoded data removed]",
      "text/plain": [
       "<matplotlib.figure.Figure at 0x7f8184530be0>"
      ]
     },
     "metadata": {},
     "output_type": "display_data"
    }
   ],
   "source": [
    "annotations_all[annotations_all.label == 'a'].length.hist(bins=20)"
   ]
  },
  {
   "cell_type": "code",
   "execution_count": 79,
   "metadata": {},
   "outputs": [
    {
     "data": {
      "text/plain": [
       "<matplotlib.axes._subplots.AxesSubplot at 0x7f818452fa20>"
      ]
     },
     "execution_count": 79,
     "metadata": {},
     "output_type": "execute_result"
    },
    {
     "data": {
      "image/png": "[encoded data removed]",
      "text/plain": [
       "<matplotlib.figure.Figure at 0x7f81847021d0>"
      ]
     },
     "metadata": {},
     "output_type": "display_data"
    }
   ],
   "source": [
    "annotations_all[annotations_all.label == 'b'].length.hist(bins=20)"
   ]
  },
  {
   "cell_type": "markdown",
   "metadata": {},
   "source": [
    "0.3s is good choice"
   ]
  },
  {
   "cell_type": "markdown",
   "metadata": {},
   "source": [
    "## Audio"
   ]
  },
  {
   "cell_type": "code",
   "execution_count": 19,
   "metadata": {},
   "outputs": [],
   "source": [
    "audio_paths = [\n",
    "    '../audio/surf.m4a',\n",
    "    '../audio/lavina_class.m4a',\n",
    "    '../audio/dtp.m4a',\n",
    "    '../audio/artem_vps.m4a',\n",
    "    '../audio/dima_arxiv.m4a',\n",
    "    '../audio/sasha_code.m4a',\n",
    "    '../audio/gomes.m4a',\n",
    "    '../audio/ksenia.m4a',\n",
    "    '../audio/dashka.m4a',\n",
    "    '../audio/cursach1.3gpp'\n",
    "]"
   ]
  },
  {
   "cell_type": "code",
   "execution_count": 20,
   "metadata": {},
   "outputs": [],
   "source": [
    "def get_audios(paths):    \n",
    "    res = []\n",
    "    for path in paths:\n",
    "        audio, sr = librosa.load(path)\n",
    "        res.append(audio)\n",
    "    return res, sr\n",
    "\n",
    "def get_label_data(annotation, audio, label, sr):\n",
    "    start_samples_indxs = librosa.time_to_samples(annotation[annotation.label ==\\\n",
    "                                                              label].start.values, sr)\n",
    "    finish_samples_indxs = librosa.time_to_samples(annotation[annotation.label ==\\\n",
    "                                                               label].finish.values, sr)\n",
    "    \n",
    "    data = []\n",
    "    for s, f in zip(start_samples_indxs, finish_samples_indxs):\n",
    "        data.append(audio[np.arange(s, f)])\n",
    "    return data\n",
    "\n",
    "def get_unlabel_data(annotation, audio, labels, sr):\n",
    "    start_samples_indxs = librosa.time_to_samples(\\\n",
    "                          annotation[annotation.label.isin(labels)].start.values, sr)\n",
    "    finish_samples_indxs = librosa.time_to_samples(\\\n",
    "                           annotation[annotation.label.isin(labels)].finish.values, sr)\n",
    "    finish_samples_indxs = np.hstack([[0], finish_samples_indxs])\n",
    "    start_samples_indxs = np.hstack([start_samples_indxs, [len(start_samples_indxs) - 1]])\n",
    "    \n",
    "    data = []\n",
    "    for s, f in zip(finish_samples_indxs, start_samples_indxs):\n",
    "        data.append(audio[np.arange(s, f)])\n",
    "    return data"
   ]
  },
  {
   "cell_type": "code",
   "execution_count": 21,
   "metadata": {},
   "outputs": [],
   "source": [
    "# audios, sr = get_audios(audio_paths[-1:])\n",
    "audios, sr = get_audios(audio_paths)"
   ]
  },
  {
   "cell_type": "code",
   "execution_count": 23,
   "metadata": {},
   "outputs": [],
   "source": [
    "lens = [len(a) // sr for a in audios]"
   ]
  },
  {
   "cell_type": "code",
   "execution_count": 25,
   "metadata": {},
   "outputs": [
    {
     "data": {
      "text/plain": [
       "749.29999999999995"
      ]
     },
     "execution_count": 25,
     "metadata": {},
     "output_type": "execute_result"
    }
   ],
   "source": [
    "np.mean(lens)"
   ]
  },
  {
   "cell_type": "code",
   "execution_count": 28,
   "metadata": {},
   "outputs": [
    {
     "data": {
      "text/plain": [
       "124"
      ]
     },
     "execution_count": 28,
     "metadata": {},
     "output_type": "execute_result"
    }
   ],
   "source": [
    "sum(lens) // 60 # minutes"
   ]
  },
  {
   "cell_type": "code",
   "execution_count": null,
   "metadata": {},
   "outputs": [],
   "source": []
  }
 ],
 "metadata": {
  "kernelspec": {
   "display_name": "Python 3",
   "language": "python",
   "name": "python3"
  },
  "language_info": {
   "codemirror_mode": {
    "name": "ipython",
    "version": 3
   },
   "file_extension": ".py",
   "mimetype": "text/x-python",
   "name": "python",
   "nbconvert_exporter": "python",
   "pygments_lexer": "ipython3",
   "version": "3.6.3"
  }
 },
 "nbformat": 4,
 "nbformat_minor": 2
}
